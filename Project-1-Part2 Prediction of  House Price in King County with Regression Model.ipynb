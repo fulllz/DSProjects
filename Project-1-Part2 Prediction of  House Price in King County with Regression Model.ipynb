{
 "cells": [
  {
   "cell_type": "markdown",
   "metadata": {},
   "source": [
    "# <font color='red'> Project-1-Part2 </font> \n",
    "# <font color='blue'> Prediction of  House Price in King County with Regression Model</font> "
   ]
  },
  {
   "cell_type": "markdown",
   "metadata": {},
   "source": [
    "In Part 1 we have finished the exploratory data analysis. The following step is to analyze houses prices for King County, Washington by applying regression models to explore the correlation between the sale price and other variables in the dataset. I am going to apply data normalization between varialbes and conduct feature engineering. Then, I will be applying different machine learning algorithms and evaluating their respective success to a splitted train-test set. GridSearchCV is used for hyperparameters tuning. It includes two sections in the Part 2:  \n",
    "\n",
    "1. Feature Engineering\n",
    "\n",
    "2. Modeling\n"
   ]
  },
  {
   "cell_type": "markdown",
   "metadata": {},
   "source": [
    "## <font color='red'> 1.Feature Engineering</font> "
   ]
  },
  {
   "cell_type": "code",
   "execution_count": 1,
   "metadata": {},
   "outputs": [],
   "source": [
    "import numpy as np\n",
    "import pandas as pd\n",
    "import matplotlib\n",
    "import matplotlib.pyplot as plt\n",
    "import seaborn as sns\n",
    "import scipy.stats as st\n",
    "pd.set_option('display.max_columns', 50)\n",
    "pd.set_option('display.max_rows', 150)\n",
    "%matplotlib inline\n",
    "sns.set_style('whitegrid')\n",
    "import warnings\n",
    "warnings.filterwarnings('ignore')"
   ]
  },
  {
   "cell_type": "code",
   "execution_count": 2,
   "metadata": {},
   "outputs": [],
   "source": [
    "df_raw = pd.read_csv('kc_house_data.csv', parse_dates=['date']) "
   ]
  },
  {
   "cell_type": "code",
   "execution_count": 3,
   "metadata": {},
   "outputs": [
    {
     "data": {
      "text/html": [
       "<div>\n",
       "<style scoped>\n",
       "    .dataframe tbody tr th:only-of-type {\n",
       "        vertical-align: middle;\n",
       "    }\n",
       "\n",
       "    .dataframe tbody tr th {\n",
       "        vertical-align: top;\n",
       "    }\n",
       "\n",
       "    .dataframe thead th {\n",
       "        text-align: right;\n",
       "    }\n",
       "</style>\n",
       "<table border=\"1\" class=\"dataframe\">\n",
       "  <thead>\n",
       "    <tr style=\"text-align: right;\">\n",
       "      <th></th>\n",
       "      <th>id</th>\n",
       "      <th>date</th>\n",
       "      <th>price</th>\n",
       "      <th>bedrooms</th>\n",
       "      <th>bathrooms</th>\n",
       "      <th>sqft_living</th>\n",
       "      <th>sqft_lot</th>\n",
       "      <th>floors</th>\n",
       "      <th>waterfront</th>\n",
       "      <th>view</th>\n",
       "      <th>condition</th>\n",
       "      <th>grade</th>\n",
       "      <th>sqft_above</th>\n",
       "      <th>sqft_basement</th>\n",
       "      <th>yr_built</th>\n",
       "      <th>yr_renovated</th>\n",
       "      <th>zipcode</th>\n",
       "      <th>lat</th>\n",
       "      <th>long</th>\n",
       "      <th>sqft_living15</th>\n",
       "      <th>sqft_lot15</th>\n",
       "    </tr>\n",
       "  </thead>\n",
       "  <tbody>\n",
       "    <tr>\n",
       "      <th>0</th>\n",
       "      <td>7129300520</td>\n",
       "      <td>2014-10-13</td>\n",
       "      <td>221900.0</td>\n",
       "      <td>3</td>\n",
       "      <td>1.00</td>\n",
       "      <td>1180</td>\n",
       "      <td>5650</td>\n",
       "      <td>1.0</td>\n",
       "      <td>0</td>\n",
       "      <td>0</td>\n",
       "      <td>3</td>\n",
       "      <td>7</td>\n",
       "      <td>1180</td>\n",
       "      <td>0</td>\n",
       "      <td>1955</td>\n",
       "      <td>0</td>\n",
       "      <td>98178</td>\n",
       "      <td>47.5112</td>\n",
       "      <td>-122.257</td>\n",
       "      <td>1340</td>\n",
       "      <td>5650</td>\n",
       "    </tr>\n",
       "    <tr>\n",
       "      <th>1</th>\n",
       "      <td>6414100192</td>\n",
       "      <td>2014-12-09</td>\n",
       "      <td>538000.0</td>\n",
       "      <td>3</td>\n",
       "      <td>2.25</td>\n",
       "      <td>2570</td>\n",
       "      <td>7242</td>\n",
       "      <td>2.0</td>\n",
       "      <td>0</td>\n",
       "      <td>0</td>\n",
       "      <td>3</td>\n",
       "      <td>7</td>\n",
       "      <td>2170</td>\n",
       "      <td>400</td>\n",
       "      <td>1951</td>\n",
       "      <td>1991</td>\n",
       "      <td>98125</td>\n",
       "      <td>47.7210</td>\n",
       "      <td>-122.319</td>\n",
       "      <td>1690</td>\n",
       "      <td>7639</td>\n",
       "    </tr>\n",
       "    <tr>\n",
       "      <th>2</th>\n",
       "      <td>5631500400</td>\n",
       "      <td>2015-02-25</td>\n",
       "      <td>180000.0</td>\n",
       "      <td>2</td>\n",
       "      <td>1.00</td>\n",
       "      <td>770</td>\n",
       "      <td>10000</td>\n",
       "      <td>1.0</td>\n",
       "      <td>0</td>\n",
       "      <td>0</td>\n",
       "      <td>3</td>\n",
       "      <td>6</td>\n",
       "      <td>770</td>\n",
       "      <td>0</td>\n",
       "      <td>1933</td>\n",
       "      <td>0</td>\n",
       "      <td>98028</td>\n",
       "      <td>47.7379</td>\n",
       "      <td>-122.233</td>\n",
       "      <td>2720</td>\n",
       "      <td>8062</td>\n",
       "    </tr>\n",
       "    <tr>\n",
       "      <th>3</th>\n",
       "      <td>2487200875</td>\n",
       "      <td>2014-12-09</td>\n",
       "      <td>604000.0</td>\n",
       "      <td>4</td>\n",
       "      <td>3.00</td>\n",
       "      <td>1960</td>\n",
       "      <td>5000</td>\n",
       "      <td>1.0</td>\n",
       "      <td>0</td>\n",
       "      <td>0</td>\n",
       "      <td>5</td>\n",
       "      <td>7</td>\n",
       "      <td>1050</td>\n",
       "      <td>910</td>\n",
       "      <td>1965</td>\n",
       "      <td>0</td>\n",
       "      <td>98136</td>\n",
       "      <td>47.5208</td>\n",
       "      <td>-122.393</td>\n",
       "      <td>1360</td>\n",
       "      <td>5000</td>\n",
       "    </tr>\n",
       "    <tr>\n",
       "      <th>4</th>\n",
       "      <td>1954400510</td>\n",
       "      <td>2015-02-18</td>\n",
       "      <td>510000.0</td>\n",
       "      <td>3</td>\n",
       "      <td>2.00</td>\n",
       "      <td>1680</td>\n",
       "      <td>8080</td>\n",
       "      <td>1.0</td>\n",
       "      <td>0</td>\n",
       "      <td>0</td>\n",
       "      <td>3</td>\n",
       "      <td>8</td>\n",
       "      <td>1680</td>\n",
       "      <td>0</td>\n",
       "      <td>1987</td>\n",
       "      <td>0</td>\n",
       "      <td>98074</td>\n",
       "      <td>47.6168</td>\n",
       "      <td>-122.045</td>\n",
       "      <td>1800</td>\n",
       "      <td>7503</td>\n",
       "    </tr>\n",
       "  </tbody>\n",
       "</table>\n",
       "</div>"
      ],
      "text/plain": [
       "           id       date     price  bedrooms  bathrooms  sqft_living  \\\n",
       "0  7129300520 2014-10-13  221900.0         3       1.00         1180   \n",
       "1  6414100192 2014-12-09  538000.0         3       2.25         2570   \n",
       "2  5631500400 2015-02-25  180000.0         2       1.00          770   \n",
       "3  2487200875 2014-12-09  604000.0         4       3.00         1960   \n",
       "4  1954400510 2015-02-18  510000.0         3       2.00         1680   \n",
       "\n",
       "   sqft_lot  floors  waterfront  view  condition  grade  sqft_above  \\\n",
       "0      5650     1.0           0     0          3      7        1180   \n",
       "1      7242     2.0           0     0          3      7        2170   \n",
       "2     10000     1.0           0     0          3      6         770   \n",
       "3      5000     1.0           0     0          5      7        1050   \n",
       "4      8080     1.0           0     0          3      8        1680   \n",
       "\n",
       "   sqft_basement  yr_built  yr_renovated  zipcode      lat     long  \\\n",
       "0              0      1955             0    98178  47.5112 -122.257   \n",
       "1            400      1951          1991    98125  47.7210 -122.319   \n",
       "2              0      1933             0    98028  47.7379 -122.233   \n",
       "3            910      1965             0    98136  47.5208 -122.393   \n",
       "4              0      1987             0    98074  47.6168 -122.045   \n",
       "\n",
       "   sqft_living15  sqft_lot15  \n",
       "0           1340        5650  \n",
       "1           1690        7639  \n",
       "2           2720        8062  \n",
       "3           1360        5000  \n",
       "4           1800        7503  "
      ]
     },
     "execution_count": 3,
     "metadata": {},
     "output_type": "execute_result"
    }
   ],
   "source": [
    "df_raw.head()"
   ]
  },
  {
   "cell_type": "markdown",
   "metadata": {},
   "source": [
    "## Standardise Variable to Identify Key Feature(s)"
   ]
  },
  {
   "cell_type": "markdown",
   "metadata": {},
   "source": [
    "### Initial observations and recommendations"
   ]
  },
  {
   "cell_type": "markdown",
   "metadata": {},
   "source": [
    "- `Price` \n",
    "    - <font color =\"red\">target label</font>\n",
    "    - Given from the histogram, the sale price has appreciable positive skewness,deviates from the normal distribution and shows peakedness. \n",
    "    - <font color =\"red\">This is quite significant. At the data standardisation section, we will fix this. </font>\n",
    "\n",
    "- `id`, `date`\n",
    "    - <font color =\"blue\">delete, for now</font>\n",
    "- `: Floors, view, condition and grade. zipcode` \n",
    "    - looking as categorical data \n",
    "    - No nulls\n",
    "    - having a large number in zipcode column.\n",
    "    - <font color =\"red\">using pd.get_dummies() method for encoding</font>\n",
    "- `bedrooms, bathrooms, sqft_living, sqft_lot, sqft_above, sqft_living15, sqft_lot15`\n",
    "    - No nulls, numeric data\n",
    "    - analyzing bathrooms and bedrooms as continuous.\n",
    "    - skewness and needing normalization.\n",
    "    - <font color =\"red\">using log() to transform</font>\n",
    "- `sqft_basement`, `yr_renovated`\n",
    "    - Transforming these two columns by assuming as such:\n",
    "            `lambda x: 1 if x > 0 else 0`\n",
    "    - <font color =\"red\">Need to transform<font>\n",
    "- `yr_built`, `waterfront`\n",
    "    - No nulls\n",
    "    - After transformation of price it appears to have a linear relationship.\n",
    "    - <font color =\"blue\">Keep</font>\n",
    "- `lat` and `long`\n",
    "    - No nulls\n",
    "    - This appears to be very clean\n",
    "    - <font color =\"blue\">Keep</font>\n",
    "\n",
    "    "
   ]
  },
  {
   "cell_type": "code",
   "execution_count": 4,
   "metadata": {},
   "outputs": [],
   "source": [
    "df_raw.drop(['id', 'date'], axis=1, inplace=True)"
   ]
  },
  {
   "cell_type": "code",
   "execution_count": 5,
   "metadata": {},
   "outputs": [
    {
     "name": "stdout",
     "output_type": "stream",
     "text": [
      "<class 'pandas.core.frame.DataFrame'>\n",
      "RangeIndex: 21613 entries, 0 to 21612\n",
      "Data columns (total 19 columns):\n",
      " #   Column         Non-Null Count  Dtype  \n",
      "---  ------         --------------  -----  \n",
      " 0   price          21613 non-null  float64\n",
      " 1   bedrooms       21613 non-null  int64  \n",
      " 2   bathrooms      21613 non-null  float64\n",
      " 3   sqft_living    21613 non-null  int64  \n",
      " 4   sqft_lot       21613 non-null  int64  \n",
      " 5   floors         21613 non-null  float64\n",
      " 6   waterfront     21613 non-null  int64  \n",
      " 7   view           21613 non-null  int64  \n",
      " 8   condition      21613 non-null  int64  \n",
      " 9   grade          21613 non-null  int64  \n",
      " 10  sqft_above     21613 non-null  int64  \n",
      " 11  sqft_basement  21613 non-null  int64  \n",
      " 12  yr_built       21613 non-null  int64  \n",
      " 13  yr_renovated   21613 non-null  int64  \n",
      " 14  zipcode        21613 non-null  int64  \n",
      " 15  lat            21613 non-null  float64\n",
      " 16  long           21613 non-null  float64\n",
      " 17  sqft_living15  21613 non-null  int64  \n",
      " 18  sqft_lot15     21613 non-null  int64  \n",
      "dtypes: float64(5), int64(14)\n",
      "memory usage: 3.1 MB\n"
     ]
    }
   ],
   "source": [
    "df_raw.info()"
   ]
  },
  {
   "cell_type": "code",
   "execution_count": 6,
   "metadata": {},
   "outputs": [],
   "source": [
    "df_raw['log_price'] = np.log1p(df_raw['price'])\n",
    "df_raw['log_bedrooms'] = np.log1p(df_raw['bedrooms'])\n",
    "df_raw['log_bathrooms'] = np.log1p(df_raw['bathrooms'])\n",
    "df_raw['log_sqft_living'] = np.log1p(df_raw['sqft_living'])\n",
    "df_raw['log_sqft_lot'] = np.log1p(df_raw['sqft_lot'])\n",
    "df_raw['log_sqft_above'] = np.log1p(df_raw['sqft_above'])\n",
    "df_raw['log_sqft_living15'] = np.log1p(df_raw['sqft_living15'])\n",
    "df_raw['log_sqft_lot15'] = np.log1p(df_raw['sqft_lot15'])"
   ]
  },
  {
   "cell_type": "markdown",
   "metadata": {},
   "source": [
    "  \n",
    "categorical data: Floors, view, condition and grade.  \n"
   ]
  },
  {
   "cell_type": "code",
   "execution_count": 7,
   "metadata": {},
   "outputs": [],
   "source": [
    "# indicate whether there is a basement.\n",
    "df_raw['basement'] = df_raw['sqft_basement'].apply(lambda x: 1 if x > 0 else 0)\n",
    "# 1 means the house has been renovated.\n",
    "df_raw['renovated'] = df_raw['yr_renovated'].apply(lambda x: 1 if x > 0 else 0)"
   ]
  },
  {
   "cell_type": "code",
   "execution_count": 8,
   "metadata": {},
   "outputs": [],
   "source": [
    "categorical_cols = ['floors', 'view', 'condition', 'grade', 'zipcode']\n",
    "for cc in categorical_cols:\n",
    "    dummies = pd.get_dummies(df_raw[cc], drop_first=False)\n",
    "    dummies = dummies.add_prefix('{}#'.format(cc))\n",
    "    df_raw.drop(cc, axis=1, inplace=True)\n",
    "    df_raw = df_raw.join(dummies)"
   ]
  },
  {
   "cell_type": "code",
   "execution_count": 9,
   "metadata": {},
   "outputs": [
    {
     "data": {
      "text/html": [
       "<div>\n",
       "<style scoped>\n",
       "    .dataframe tbody tr th:only-of-type {\n",
       "        vertical-align: middle;\n",
       "    }\n",
       "\n",
       "    .dataframe tbody tr th {\n",
       "        vertical-align: top;\n",
       "    }\n",
       "\n",
       "    .dataframe thead th {\n",
       "        text-align: right;\n",
       "    }\n",
       "</style>\n",
       "<table border=\"1\" class=\"dataframe\">\n",
       "  <thead>\n",
       "    <tr style=\"text-align: right;\">\n",
       "      <th></th>\n",
       "      <th>price</th>\n",
       "      <th>bedrooms</th>\n",
       "      <th>bathrooms</th>\n",
       "      <th>sqft_living</th>\n",
       "      <th>sqft_lot</th>\n",
       "      <th>waterfront</th>\n",
       "      <th>sqft_above</th>\n",
       "      <th>sqft_basement</th>\n",
       "      <th>yr_built</th>\n",
       "      <th>yr_renovated</th>\n",
       "      <th>lat</th>\n",
       "      <th>long</th>\n",
       "      <th>sqft_living15</th>\n",
       "      <th>sqft_lot15</th>\n",
       "      <th>log_price</th>\n",
       "      <th>log_bedrooms</th>\n",
       "      <th>log_bathrooms</th>\n",
       "      <th>log_sqft_living</th>\n",
       "      <th>log_sqft_lot</th>\n",
       "      <th>log_sqft_above</th>\n",
       "      <th>log_sqft_living15</th>\n",
       "      <th>log_sqft_lot15</th>\n",
       "      <th>basement</th>\n",
       "      <th>renovated</th>\n",
       "      <th>floors#1.0</th>\n",
       "      <th>...</th>\n",
       "      <th>zipcode#98107</th>\n",
       "      <th>zipcode#98108</th>\n",
       "      <th>zipcode#98109</th>\n",
       "      <th>zipcode#98112</th>\n",
       "      <th>zipcode#98115</th>\n",
       "      <th>zipcode#98116</th>\n",
       "      <th>zipcode#98117</th>\n",
       "      <th>zipcode#98118</th>\n",
       "      <th>zipcode#98119</th>\n",
       "      <th>zipcode#98122</th>\n",
       "      <th>zipcode#98125</th>\n",
       "      <th>zipcode#98126</th>\n",
       "      <th>zipcode#98133</th>\n",
       "      <th>zipcode#98136</th>\n",
       "      <th>zipcode#98144</th>\n",
       "      <th>zipcode#98146</th>\n",
       "      <th>zipcode#98148</th>\n",
       "      <th>zipcode#98155</th>\n",
       "      <th>zipcode#98166</th>\n",
       "      <th>zipcode#98168</th>\n",
       "      <th>zipcode#98177</th>\n",
       "      <th>zipcode#98178</th>\n",
       "      <th>zipcode#98188</th>\n",
       "      <th>zipcode#98198</th>\n",
       "      <th>zipcode#98199</th>\n",
       "    </tr>\n",
       "  </thead>\n",
       "  <tbody>\n",
       "    <tr>\n",
       "      <th>0</th>\n",
       "      <td>221900.0</td>\n",
       "      <td>3</td>\n",
       "      <td>1.00</td>\n",
       "      <td>1180</td>\n",
       "      <td>5650</td>\n",
       "      <td>0</td>\n",
       "      <td>1180</td>\n",
       "      <td>0</td>\n",
       "      <td>1955</td>\n",
       "      <td>0</td>\n",
       "      <td>47.5112</td>\n",
       "      <td>-122.257</td>\n",
       "      <td>1340</td>\n",
       "      <td>5650</td>\n",
       "      <td>12.309987</td>\n",
       "      <td>1.386294</td>\n",
       "      <td>0.693147</td>\n",
       "      <td>7.074117</td>\n",
       "      <td>8.639588</td>\n",
       "      <td>7.074117</td>\n",
       "      <td>7.201171</td>\n",
       "      <td>8.639588</td>\n",
       "      <td>0</td>\n",
       "      <td>0</td>\n",
       "      <td>1</td>\n",
       "      <td>...</td>\n",
       "      <td>0</td>\n",
       "      <td>0</td>\n",
       "      <td>0</td>\n",
       "      <td>0</td>\n",
       "      <td>0</td>\n",
       "      <td>0</td>\n",
       "      <td>0</td>\n",
       "      <td>0</td>\n",
       "      <td>0</td>\n",
       "      <td>0</td>\n",
       "      <td>0</td>\n",
       "      <td>0</td>\n",
       "      <td>0</td>\n",
       "      <td>0</td>\n",
       "      <td>0</td>\n",
       "      <td>0</td>\n",
       "      <td>0</td>\n",
       "      <td>0</td>\n",
       "      <td>0</td>\n",
       "      <td>0</td>\n",
       "      <td>0</td>\n",
       "      <td>1</td>\n",
       "      <td>0</td>\n",
       "      <td>0</td>\n",
       "      <td>0</td>\n",
       "    </tr>\n",
       "    <tr>\n",
       "      <th>1</th>\n",
       "      <td>538000.0</td>\n",
       "      <td>3</td>\n",
       "      <td>2.25</td>\n",
       "      <td>2570</td>\n",
       "      <td>7242</td>\n",
       "      <td>0</td>\n",
       "      <td>2170</td>\n",
       "      <td>400</td>\n",
       "      <td>1951</td>\n",
       "      <td>1991</td>\n",
       "      <td>47.7210</td>\n",
       "      <td>-122.319</td>\n",
       "      <td>1690</td>\n",
       "      <td>7639</td>\n",
       "      <td>13.195616</td>\n",
       "      <td>1.386294</td>\n",
       "      <td>1.178655</td>\n",
       "      <td>7.852050</td>\n",
       "      <td>8.887791</td>\n",
       "      <td>7.682943</td>\n",
       "      <td>7.433075</td>\n",
       "      <td>8.941153</td>\n",
       "      <td>1</td>\n",
       "      <td>1</td>\n",
       "      <td>0</td>\n",
       "      <td>...</td>\n",
       "      <td>0</td>\n",
       "      <td>0</td>\n",
       "      <td>0</td>\n",
       "      <td>0</td>\n",
       "      <td>0</td>\n",
       "      <td>0</td>\n",
       "      <td>0</td>\n",
       "      <td>0</td>\n",
       "      <td>0</td>\n",
       "      <td>0</td>\n",
       "      <td>1</td>\n",
       "      <td>0</td>\n",
       "      <td>0</td>\n",
       "      <td>0</td>\n",
       "      <td>0</td>\n",
       "      <td>0</td>\n",
       "      <td>0</td>\n",
       "      <td>0</td>\n",
       "      <td>0</td>\n",
       "      <td>0</td>\n",
       "      <td>0</td>\n",
       "      <td>0</td>\n",
       "      <td>0</td>\n",
       "      <td>0</td>\n",
       "      <td>0</td>\n",
       "    </tr>\n",
       "    <tr>\n",
       "      <th>2</th>\n",
       "      <td>180000.0</td>\n",
       "      <td>2</td>\n",
       "      <td>1.00</td>\n",
       "      <td>770</td>\n",
       "      <td>10000</td>\n",
       "      <td>0</td>\n",
       "      <td>770</td>\n",
       "      <td>0</td>\n",
       "      <td>1933</td>\n",
       "      <td>0</td>\n",
       "      <td>47.7379</td>\n",
       "      <td>-122.233</td>\n",
       "      <td>2720</td>\n",
       "      <td>8062</td>\n",
       "      <td>12.100718</td>\n",
       "      <td>1.098612</td>\n",
       "      <td>0.693147</td>\n",
       "      <td>6.647688</td>\n",
       "      <td>9.210440</td>\n",
       "      <td>6.647688</td>\n",
       "      <td>7.908755</td>\n",
       "      <td>8.995041</td>\n",
       "      <td>0</td>\n",
       "      <td>0</td>\n",
       "      <td>1</td>\n",
       "      <td>...</td>\n",
       "      <td>0</td>\n",
       "      <td>0</td>\n",
       "      <td>0</td>\n",
       "      <td>0</td>\n",
       "      <td>0</td>\n",
       "      <td>0</td>\n",
       "      <td>0</td>\n",
       "      <td>0</td>\n",
       "      <td>0</td>\n",
       "      <td>0</td>\n",
       "      <td>0</td>\n",
       "      <td>0</td>\n",
       "      <td>0</td>\n",
       "      <td>0</td>\n",
       "      <td>0</td>\n",
       "      <td>0</td>\n",
       "      <td>0</td>\n",
       "      <td>0</td>\n",
       "      <td>0</td>\n",
       "      <td>0</td>\n",
       "      <td>0</td>\n",
       "      <td>0</td>\n",
       "      <td>0</td>\n",
       "      <td>0</td>\n",
       "      <td>0</td>\n",
       "    </tr>\n",
       "    <tr>\n",
       "      <th>3</th>\n",
       "      <td>604000.0</td>\n",
       "      <td>4</td>\n",
       "      <td>3.00</td>\n",
       "      <td>1960</td>\n",
       "      <td>5000</td>\n",
       "      <td>0</td>\n",
       "      <td>1050</td>\n",
       "      <td>910</td>\n",
       "      <td>1965</td>\n",
       "      <td>0</td>\n",
       "      <td>47.5208</td>\n",
       "      <td>-122.393</td>\n",
       "      <td>1360</td>\n",
       "      <td>5000</td>\n",
       "      <td>13.311331</td>\n",
       "      <td>1.609438</td>\n",
       "      <td>1.386294</td>\n",
       "      <td>7.581210</td>\n",
       "      <td>8.517393</td>\n",
       "      <td>6.957497</td>\n",
       "      <td>7.215975</td>\n",
       "      <td>8.517393</td>\n",
       "      <td>1</td>\n",
       "      <td>0</td>\n",
       "      <td>1</td>\n",
       "      <td>...</td>\n",
       "      <td>0</td>\n",
       "      <td>0</td>\n",
       "      <td>0</td>\n",
       "      <td>0</td>\n",
       "      <td>0</td>\n",
       "      <td>0</td>\n",
       "      <td>0</td>\n",
       "      <td>0</td>\n",
       "      <td>0</td>\n",
       "      <td>0</td>\n",
       "      <td>0</td>\n",
       "      <td>0</td>\n",
       "      <td>0</td>\n",
       "      <td>1</td>\n",
       "      <td>0</td>\n",
       "      <td>0</td>\n",
       "      <td>0</td>\n",
       "      <td>0</td>\n",
       "      <td>0</td>\n",
       "      <td>0</td>\n",
       "      <td>0</td>\n",
       "      <td>0</td>\n",
       "      <td>0</td>\n",
       "      <td>0</td>\n",
       "      <td>0</td>\n",
       "    </tr>\n",
       "    <tr>\n",
       "      <th>4</th>\n",
       "      <td>510000.0</td>\n",
       "      <td>3</td>\n",
       "      <td>2.00</td>\n",
       "      <td>1680</td>\n",
       "      <td>8080</td>\n",
       "      <td>0</td>\n",
       "      <td>1680</td>\n",
       "      <td>0</td>\n",
       "      <td>1987</td>\n",
       "      <td>0</td>\n",
       "      <td>47.6168</td>\n",
       "      <td>-122.045</td>\n",
       "      <td>1800</td>\n",
       "      <td>7503</td>\n",
       "      <td>13.142168</td>\n",
       "      <td>1.386294</td>\n",
       "      <td>1.098612</td>\n",
       "      <td>7.427144</td>\n",
       "      <td>8.997271</td>\n",
       "      <td>7.427144</td>\n",
       "      <td>7.496097</td>\n",
       "      <td>8.923191</td>\n",
       "      <td>0</td>\n",
       "      <td>0</td>\n",
       "      <td>1</td>\n",
       "      <td>...</td>\n",
       "      <td>0</td>\n",
       "      <td>0</td>\n",
       "      <td>0</td>\n",
       "      <td>0</td>\n",
       "      <td>0</td>\n",
       "      <td>0</td>\n",
       "      <td>0</td>\n",
       "      <td>0</td>\n",
       "      <td>0</td>\n",
       "      <td>0</td>\n",
       "      <td>0</td>\n",
       "      <td>0</td>\n",
       "      <td>0</td>\n",
       "      <td>0</td>\n",
       "      <td>0</td>\n",
       "      <td>0</td>\n",
       "      <td>0</td>\n",
       "      <td>0</td>\n",
       "      <td>0</td>\n",
       "      <td>0</td>\n",
       "      <td>0</td>\n",
       "      <td>0</td>\n",
       "      <td>0</td>\n",
       "      <td>0</td>\n",
       "      <td>0</td>\n",
       "    </tr>\n",
       "  </tbody>\n",
       "</table>\n",
       "<p>5 rows × 122 columns</p>\n",
       "</div>"
      ],
      "text/plain": [
       "      price  bedrooms  bathrooms  sqft_living  sqft_lot  waterfront  \\\n",
       "0  221900.0         3       1.00         1180      5650           0   \n",
       "1  538000.0         3       2.25         2570      7242           0   \n",
       "2  180000.0         2       1.00          770     10000           0   \n",
       "3  604000.0         4       3.00         1960      5000           0   \n",
       "4  510000.0         3       2.00         1680      8080           0   \n",
       "\n",
       "   sqft_above  sqft_basement  yr_built  yr_renovated      lat     long  \\\n",
       "0        1180              0      1955             0  47.5112 -122.257   \n",
       "1        2170            400      1951          1991  47.7210 -122.319   \n",
       "2         770              0      1933             0  47.7379 -122.233   \n",
       "3        1050            910      1965             0  47.5208 -122.393   \n",
       "4        1680              0      1987             0  47.6168 -122.045   \n",
       "\n",
       "   sqft_living15  sqft_lot15  log_price  log_bedrooms  log_bathrooms  \\\n",
       "0           1340        5650  12.309987      1.386294       0.693147   \n",
       "1           1690        7639  13.195616      1.386294       1.178655   \n",
       "2           2720        8062  12.100718      1.098612       0.693147   \n",
       "3           1360        5000  13.311331      1.609438       1.386294   \n",
       "4           1800        7503  13.142168      1.386294       1.098612   \n",
       "\n",
       "   log_sqft_living  log_sqft_lot  log_sqft_above  log_sqft_living15  \\\n",
       "0         7.074117      8.639588        7.074117           7.201171   \n",
       "1         7.852050      8.887791        7.682943           7.433075   \n",
       "2         6.647688      9.210440        6.647688           7.908755   \n",
       "3         7.581210      8.517393        6.957497           7.215975   \n",
       "4         7.427144      8.997271        7.427144           7.496097   \n",
       "\n",
       "   log_sqft_lot15  basement  renovated  floors#1.0  ...  zipcode#98107  \\\n",
       "0        8.639588         0          0           1  ...              0   \n",
       "1        8.941153         1          1           0  ...              0   \n",
       "2        8.995041         0          0           1  ...              0   \n",
       "3        8.517393         1          0           1  ...              0   \n",
       "4        8.923191         0          0           1  ...              0   \n",
       "\n",
       "   zipcode#98108  zipcode#98109  zipcode#98112  zipcode#98115  zipcode#98116  \\\n",
       "0              0              0              0              0              0   \n",
       "1              0              0              0              0              0   \n",
       "2              0              0              0              0              0   \n",
       "3              0              0              0              0              0   \n",
       "4              0              0              0              0              0   \n",
       "\n",
       "   zipcode#98117  zipcode#98118  zipcode#98119  zipcode#98122  zipcode#98125  \\\n",
       "0              0              0              0              0              0   \n",
       "1              0              0              0              0              1   \n",
       "2              0              0              0              0              0   \n",
       "3              0              0              0              0              0   \n",
       "4              0              0              0              0              0   \n",
       "\n",
       "   zipcode#98126  zipcode#98133  zipcode#98136  zipcode#98144  zipcode#98146  \\\n",
       "0              0              0              0              0              0   \n",
       "1              0              0              0              0              0   \n",
       "2              0              0              0              0              0   \n",
       "3              0              0              1              0              0   \n",
       "4              0              0              0              0              0   \n",
       "\n",
       "   zipcode#98148  zipcode#98155  zipcode#98166  zipcode#98168  zipcode#98177  \\\n",
       "0              0              0              0              0              0   \n",
       "1              0              0              0              0              0   \n",
       "2              0              0              0              0              0   \n",
       "3              0              0              0              0              0   \n",
       "4              0              0              0              0              0   \n",
       "\n",
       "   zipcode#98178  zipcode#98188  zipcode#98198  zipcode#98199  \n",
       "0              1              0              0              0  \n",
       "1              0              0              0              0  \n",
       "2              0              0              0              0  \n",
       "3              0              0              0              0  \n",
       "4              0              0              0              0  \n",
       "\n",
       "[5 rows x 122 columns]"
      ]
     },
     "execution_count": 9,
     "metadata": {},
     "output_type": "execute_result"
    }
   ],
   "source": [
    "df_raw.head()"
   ]
  },
  {
   "cell_type": "code",
   "execution_count": 10,
   "metadata": {},
   "outputs": [
    {
     "name": "stdout",
     "output_type": "stream",
     "text": [
      "<class 'pandas.core.frame.DataFrame'>\n",
      "RangeIndex: 21613 entries, 0 to 21612\n",
      "Columns: 122 entries, price to zipcode#98199\n",
      "dtypes: float64(12), int64(12), uint8(98)\n",
      "memory usage: 6.0 MB\n"
     ]
    }
   ],
   "source": [
    "df_raw.info()"
   ]
  },
  {
   "cell_type": "code",
   "execution_count": 11,
   "metadata": {},
   "outputs": [
    {
     "data": {
      "text/plain": [
       "['price',\n",
       " 'bedrooms',\n",
       " 'bathrooms',\n",
       " 'sqft_living',\n",
       " 'sqft_lot',\n",
       " 'waterfront',\n",
       " 'sqft_above',\n",
       " 'sqft_basement',\n",
       " 'yr_built',\n",
       " 'yr_renovated',\n",
       " 'lat',\n",
       " 'long',\n",
       " 'sqft_living15',\n",
       " 'sqft_lot15',\n",
       " 'log_price',\n",
       " 'log_bedrooms',\n",
       " 'log_bathrooms',\n",
       " 'log_sqft_living',\n",
       " 'log_sqft_lot',\n",
       " 'log_sqft_above',\n",
       " 'log_sqft_living15',\n",
       " 'log_sqft_lot15',\n",
       " 'basement',\n",
       " 'renovated',\n",
       " 'floors#1.0',\n",
       " 'floors#1.5',\n",
       " 'floors#2.0',\n",
       " 'floors#2.5',\n",
       " 'floors#3.0',\n",
       " 'floors#3.5',\n",
       " 'view#0',\n",
       " 'view#1',\n",
       " 'view#2',\n",
       " 'view#3',\n",
       " 'view#4',\n",
       " 'condition#1',\n",
       " 'condition#2',\n",
       " 'condition#3',\n",
       " 'condition#4',\n",
       " 'condition#5',\n",
       " 'grade#1',\n",
       " 'grade#3',\n",
       " 'grade#4',\n",
       " 'grade#5',\n",
       " 'grade#6',\n",
       " 'grade#7',\n",
       " 'grade#8',\n",
       " 'grade#9',\n",
       " 'grade#10',\n",
       " 'grade#11',\n",
       " 'grade#12',\n",
       " 'grade#13',\n",
       " 'zipcode#98001',\n",
       " 'zipcode#98002',\n",
       " 'zipcode#98003',\n",
       " 'zipcode#98004',\n",
       " 'zipcode#98005',\n",
       " 'zipcode#98006',\n",
       " 'zipcode#98007',\n",
       " 'zipcode#98008',\n",
       " 'zipcode#98010',\n",
       " 'zipcode#98011',\n",
       " 'zipcode#98014',\n",
       " 'zipcode#98019',\n",
       " 'zipcode#98022',\n",
       " 'zipcode#98023',\n",
       " 'zipcode#98024',\n",
       " 'zipcode#98027',\n",
       " 'zipcode#98028',\n",
       " 'zipcode#98029',\n",
       " 'zipcode#98030',\n",
       " 'zipcode#98031',\n",
       " 'zipcode#98032',\n",
       " 'zipcode#98033',\n",
       " 'zipcode#98034',\n",
       " 'zipcode#98038',\n",
       " 'zipcode#98039',\n",
       " 'zipcode#98040',\n",
       " 'zipcode#98042',\n",
       " 'zipcode#98045',\n",
       " 'zipcode#98052',\n",
       " 'zipcode#98053',\n",
       " 'zipcode#98055',\n",
       " 'zipcode#98056',\n",
       " 'zipcode#98058',\n",
       " 'zipcode#98059',\n",
       " 'zipcode#98065',\n",
       " 'zipcode#98070',\n",
       " 'zipcode#98072',\n",
       " 'zipcode#98074',\n",
       " 'zipcode#98075',\n",
       " 'zipcode#98077',\n",
       " 'zipcode#98092',\n",
       " 'zipcode#98102',\n",
       " 'zipcode#98103',\n",
       " 'zipcode#98105',\n",
       " 'zipcode#98106',\n",
       " 'zipcode#98107',\n",
       " 'zipcode#98108',\n",
       " 'zipcode#98109',\n",
       " 'zipcode#98112',\n",
       " 'zipcode#98115',\n",
       " 'zipcode#98116',\n",
       " 'zipcode#98117',\n",
       " 'zipcode#98118',\n",
       " 'zipcode#98119',\n",
       " 'zipcode#98122',\n",
       " 'zipcode#98125',\n",
       " 'zipcode#98126',\n",
       " 'zipcode#98133',\n",
       " 'zipcode#98136',\n",
       " 'zipcode#98144',\n",
       " 'zipcode#98146',\n",
       " 'zipcode#98148',\n",
       " 'zipcode#98155',\n",
       " 'zipcode#98166',\n",
       " 'zipcode#98168',\n",
       " 'zipcode#98177',\n",
       " 'zipcode#98178',\n",
       " 'zipcode#98188',\n",
       " 'zipcode#98198',\n",
       " 'zipcode#98199']"
      ]
     },
     "execution_count": 11,
     "metadata": {},
     "output_type": "execute_result"
    }
   ],
   "source": [
    "df_raw.columns.to_list()"
   ]
  },
  {
   "cell_type": "markdown",
   "metadata": {},
   "source": [
    "# <font color='red'> 2. Modeling</font>"
   ]
  },
  {
   "cell_type": "code",
   "execution_count": 12,
   "metadata": {},
   "outputs": [],
   "source": [
    "#model selection and evaluation\n",
    "from sklearn.model_selection import train_test_split \n",
    "from sklearn.metrics import r2_score\n",
    "\n",
    "\n",
    "# Model libraries\n",
    "from sklearn.linear_model import LinearRegression, Ridge\n",
    "from sklearn.tree import DecisionTreeRegressor\n",
    "from sklearn.svm import SVR\n",
    "from sklearn.ensemble import RandomForestRegressor\n",
    "from sklearn.ensemble import GradientBoostingRegressor\n",
    "from xgboost import XGBRegressor\n",
    "# Import GridSearchCV\n",
    "from sklearn.model_selection import GridSearchCV"
   ]
  },
  {
   "cell_type": "code",
   "execution_count": 14,
   "metadata": {},
   "outputs": [],
   "source": [
    "y = df_raw['log_price']"
   ]
  },
  {
   "cell_type": "code",
   "execution_count": 15,
   "metadata": {},
   "outputs": [
    {
     "data": {
      "image/png": "[encoded data removed]",
      "text/plain": [
       "<Figure size 432x288 with 1 Axes>"
      ]
     },
     "metadata": {},
     "output_type": "display_data"
    }
   ],
   "source": [
    "y.hist();"
   ]
  },
  {
   "cell_type": "code",
   "execution_count": 16,
   "metadata": {},
   "outputs": [
    {
     "data": {
      "text/plain": [
       "(21613,)"
      ]
     },
     "execution_count": 16,
     "metadata": {},
     "output_type": "execute_result"
    }
   ],
   "source": [
    "y.shape"
   ]
  },
  {
   "cell_type": "code",
   "execution_count": 17,
   "metadata": {},
   "outputs": [],
   "source": [
    "X = df_raw.drop(['price', 'bedrooms', 'bathrooms', 'sqft_living', 'sqft_above','sqft_living15', 'sqft_lot15', 'sqft_lot', 'sqft_basement','yr_renovated','log_price'], axis = 1)"
   ]
  },
  {
   "cell_type": "code",
   "execution_count": 18,
   "metadata": {},
   "outputs": [
    {
     "data": {
      "text/plain": [
       "(21613, 122)"
      ]
     },
     "execution_count": 18,
     "metadata": {},
     "output_type": "execute_result"
    }
   ],
   "source": [
    "df_raw.shape"
   ]
  },
  {
   "cell_type": "code",
   "execution_count": 19,
   "metadata": {},
   "outputs": [
    {
     "data": {
      "text/plain": [
       "(21613, 111)"
      ]
     },
     "execution_count": 19,
     "metadata": {},
     "output_type": "execute_result"
    }
   ],
   "source": [
    "X.shape"
   ]
  },
  {
   "cell_type": "code",
   "execution_count": 20,
   "metadata": {},
   "outputs": [
    {
     "data": {
      "text/html": [
       "<div>\n",
       "<style scoped>\n",
       "    .dataframe tbody tr th:only-of-type {\n",
       "        vertical-align: middle;\n",
       "    }\n",
       "\n",
       "    .dataframe tbody tr th {\n",
       "        vertical-align: top;\n",
       "    }\n",
       "\n",
       "    .dataframe thead th {\n",
       "        text-align: right;\n",
       "    }\n",
       "</style>\n",
       "<table border=\"1\" class=\"dataframe\">\n",
       "  <thead>\n",
       "    <tr style=\"text-align: right;\">\n",
       "      <th></th>\n",
       "      <th>waterfront</th>\n",
       "      <th>yr_built</th>\n",
       "      <th>lat</th>\n",
       "      <th>long</th>\n",
       "      <th>log_bedrooms</th>\n",
       "      <th>log_bathrooms</th>\n",
       "      <th>log_sqft_living</th>\n",
       "      <th>log_sqft_lot</th>\n",
       "      <th>log_sqft_above</th>\n",
       "      <th>log_sqft_living15</th>\n",
       "      <th>log_sqft_lot15</th>\n",
       "      <th>basement</th>\n",
       "      <th>renovated</th>\n",
       "      <th>floors#1.0</th>\n",
       "      <th>floors#1.5</th>\n",
       "      <th>floors#2.0</th>\n",
       "      <th>floors#2.5</th>\n",
       "      <th>floors#3.0</th>\n",
       "      <th>floors#3.5</th>\n",
       "      <th>view#0</th>\n",
       "      <th>view#1</th>\n",
       "      <th>view#2</th>\n",
       "      <th>view#3</th>\n",
       "      <th>view#4</th>\n",
       "      <th>condition#1</th>\n",
       "      <th>...</th>\n",
       "      <th>zipcode#98107</th>\n",
       "      <th>zipcode#98108</th>\n",
       "      <th>zipcode#98109</th>\n",
       "      <th>zipcode#98112</th>\n",
       "      <th>zipcode#98115</th>\n",
       "      <th>zipcode#98116</th>\n",
       "      <th>zipcode#98117</th>\n",
       "      <th>zipcode#98118</th>\n",
       "      <th>zipcode#98119</th>\n",
       "      <th>zipcode#98122</th>\n",
       "      <th>zipcode#98125</th>\n",
       "      <th>zipcode#98126</th>\n",
       "      <th>zipcode#98133</th>\n",
       "      <th>zipcode#98136</th>\n",
       "      <th>zipcode#98144</th>\n",
       "      <th>zipcode#98146</th>\n",
       "      <th>zipcode#98148</th>\n",
       "      <th>zipcode#98155</th>\n",
       "      <th>zipcode#98166</th>\n",
       "      <th>zipcode#98168</th>\n",
       "      <th>zipcode#98177</th>\n",
       "      <th>zipcode#98178</th>\n",
       "      <th>zipcode#98188</th>\n",
       "      <th>zipcode#98198</th>\n",
       "      <th>zipcode#98199</th>\n",
       "    </tr>\n",
       "  </thead>\n",
       "  <tbody>\n",
       "    <tr>\n",
       "      <th>0</th>\n",
       "      <td>0</td>\n",
       "      <td>1955</td>\n",
       "      <td>47.5112</td>\n",
       "      <td>-122.257</td>\n",
       "      <td>1.386294</td>\n",
       "      <td>0.693147</td>\n",
       "      <td>7.074117</td>\n",
       "      <td>8.639588</td>\n",
       "      <td>7.074117</td>\n",
       "      <td>7.201171</td>\n",
       "      <td>8.639588</td>\n",
       "      <td>0</td>\n",
       "      <td>0</td>\n",
       "      <td>1</td>\n",
       "      <td>0</td>\n",
       "      <td>0</td>\n",
       "      <td>0</td>\n",
       "      <td>0</td>\n",
       "      <td>0</td>\n",
       "      <td>1</td>\n",
       "      <td>0</td>\n",
       "      <td>0</td>\n",
       "      <td>0</td>\n",
       "      <td>0</td>\n",
       "      <td>0</td>\n",
       "      <td>...</td>\n",
       "      <td>0</td>\n",
       "      <td>0</td>\n",
       "      <td>0</td>\n",
       "      <td>0</td>\n",
       "      <td>0</td>\n",
       "      <td>0</td>\n",
       "      <td>0</td>\n",
       "      <td>0</td>\n",
       "      <td>0</td>\n",
       "      <td>0</td>\n",
       "      <td>0</td>\n",
       "      <td>0</td>\n",
       "      <td>0</td>\n",
       "      <td>0</td>\n",
       "      <td>0</td>\n",
       "      <td>0</td>\n",
       "      <td>0</td>\n",
       "      <td>0</td>\n",
       "      <td>0</td>\n",
       "      <td>0</td>\n",
       "      <td>0</td>\n",
       "      <td>1</td>\n",
       "      <td>0</td>\n",
       "      <td>0</td>\n",
       "      <td>0</td>\n",
       "    </tr>\n",
       "    <tr>\n",
       "      <th>1</th>\n",
       "      <td>0</td>\n",
       "      <td>1951</td>\n",
       "      <td>47.7210</td>\n",
       "      <td>-122.319</td>\n",
       "      <td>1.386294</td>\n",
       "      <td>1.178655</td>\n",
       "      <td>7.852050</td>\n",
       "      <td>8.887791</td>\n",
       "      <td>7.682943</td>\n",
       "      <td>7.433075</td>\n",
       "      <td>8.941153</td>\n",
       "      <td>1</td>\n",
       "      <td>1</td>\n",
       "      <td>0</td>\n",
       "      <td>0</td>\n",
       "      <td>1</td>\n",
       "      <td>0</td>\n",
       "      <td>0</td>\n",
       "      <td>0</td>\n",
       "      <td>1</td>\n",
       "      <td>0</td>\n",
       "      <td>0</td>\n",
       "      <td>0</td>\n",
       "      <td>0</td>\n",
       "      <td>0</td>\n",
       "      <td>...</td>\n",
       "      <td>0</td>\n",
       "      <td>0</td>\n",
       "      <td>0</td>\n",
       "      <td>0</td>\n",
       "      <td>0</td>\n",
       "      <td>0</td>\n",
       "      <td>0</td>\n",
       "      <td>0</td>\n",
       "      <td>0</td>\n",
       "      <td>0</td>\n",
       "      <td>1</td>\n",
       "      <td>0</td>\n",
       "      <td>0</td>\n",
       "      <td>0</td>\n",
       "      <td>0</td>\n",
       "      <td>0</td>\n",
       "      <td>0</td>\n",
       "      <td>0</td>\n",
       "      <td>0</td>\n",
       "      <td>0</td>\n",
       "      <td>0</td>\n",
       "      <td>0</td>\n",
       "      <td>0</td>\n",
       "      <td>0</td>\n",
       "      <td>0</td>\n",
       "    </tr>\n",
       "    <tr>\n",
       "      <th>2</th>\n",
       "      <td>0</td>\n",
       "      <td>1933</td>\n",
       "      <td>47.7379</td>\n",
       "      <td>-122.233</td>\n",
       "      <td>1.098612</td>\n",
       "      <td>0.693147</td>\n",
       "      <td>6.647688</td>\n",
       "      <td>9.210440</td>\n",
       "      <td>6.647688</td>\n",
       "      <td>7.908755</td>\n",
       "      <td>8.995041</td>\n",
       "      <td>0</td>\n",
       "      <td>0</td>\n",
       "      <td>1</td>\n",
       "      <td>0</td>\n",
       "      <td>0</td>\n",
       "      <td>0</td>\n",
       "      <td>0</td>\n",
       "      <td>0</td>\n",
       "      <td>1</td>\n",
       "      <td>0</td>\n",
       "      <td>0</td>\n",
       "      <td>0</td>\n",
       "      <td>0</td>\n",
       "      <td>0</td>\n",
       "      <td>...</td>\n",
       "      <td>0</td>\n",
       "      <td>0</td>\n",
       "      <td>0</td>\n",
       "      <td>0</td>\n",
       "      <td>0</td>\n",
       "      <td>0</td>\n",
       "      <td>0</td>\n",
       "      <td>0</td>\n",
       "      <td>0</td>\n",
       "      <td>0</td>\n",
       "      <td>0</td>\n",
       "      <td>0</td>\n",
       "      <td>0</td>\n",
       "      <td>0</td>\n",
       "      <td>0</td>\n",
       "      <td>0</td>\n",
       "      <td>0</td>\n",
       "      <td>0</td>\n",
       "      <td>0</td>\n",
       "      <td>0</td>\n",
       "      <td>0</td>\n",
       "      <td>0</td>\n",
       "      <td>0</td>\n",
       "      <td>0</td>\n",
       "      <td>0</td>\n",
       "    </tr>\n",
       "    <tr>\n",
       "      <th>3</th>\n",
       "      <td>0</td>\n",
       "      <td>1965</td>\n",
       "      <td>47.5208</td>\n",
       "      <td>-122.393</td>\n",
       "      <td>1.609438</td>\n",
       "      <td>1.386294</td>\n",
       "      <td>7.581210</td>\n",
       "      <td>8.517393</td>\n",
       "      <td>6.957497</td>\n",
       "      <td>7.215975</td>\n",
       "      <td>8.517393</td>\n",
       "      <td>1</td>\n",
       "      <td>0</td>\n",
       "      <td>1</td>\n",
       "      <td>0</td>\n",
       "      <td>0</td>\n",
       "      <td>0</td>\n",
       "      <td>0</td>\n",
       "      <td>0</td>\n",
       "      <td>1</td>\n",
       "      <td>0</td>\n",
       "      <td>0</td>\n",
       "      <td>0</td>\n",
       "      <td>0</td>\n",
       "      <td>0</td>\n",
       "      <td>...</td>\n",
       "      <td>0</td>\n",
       "      <td>0</td>\n",
       "      <td>0</td>\n",
       "      <td>0</td>\n",
       "      <td>0</td>\n",
       "      <td>0</td>\n",
       "      <td>0</td>\n",
       "      <td>0</td>\n",
       "      <td>0</td>\n",
       "      <td>0</td>\n",
       "      <td>0</td>\n",
       "      <td>0</td>\n",
       "      <td>0</td>\n",
       "      <td>1</td>\n",
       "      <td>0</td>\n",
       "      <td>0</td>\n",
       "      <td>0</td>\n",
       "      <td>0</td>\n",
       "      <td>0</td>\n",
       "      <td>0</td>\n",
       "      <td>0</td>\n",
       "      <td>0</td>\n",
       "      <td>0</td>\n",
       "      <td>0</td>\n",
       "      <td>0</td>\n",
       "    </tr>\n",
       "    <tr>\n",
       "      <th>4</th>\n",
       "      <td>0</td>\n",
       "      <td>1987</td>\n",
       "      <td>47.6168</td>\n",
       "      <td>-122.045</td>\n",
       "      <td>1.386294</td>\n",
       "      <td>1.098612</td>\n",
       "      <td>7.427144</td>\n",
       "      <td>8.997271</td>\n",
       "      <td>7.427144</td>\n",
       "      <td>7.496097</td>\n",
       "      <td>8.923191</td>\n",
       "      <td>0</td>\n",
       "      <td>0</td>\n",
       "      <td>1</td>\n",
       "      <td>0</td>\n",
       "      <td>0</td>\n",
       "      <td>0</td>\n",
       "      <td>0</td>\n",
       "      <td>0</td>\n",
       "      <td>1</td>\n",
       "      <td>0</td>\n",
       "      <td>0</td>\n",
       "      <td>0</td>\n",
       "      <td>0</td>\n",
       "      <td>0</td>\n",
       "      <td>...</td>\n",
       "      <td>0</td>\n",
       "      <td>0</td>\n",
       "      <td>0</td>\n",
       "      <td>0</td>\n",
       "      <td>0</td>\n",
       "      <td>0</td>\n",
       "      <td>0</td>\n",
       "      <td>0</td>\n",
       "      <td>0</td>\n",
       "      <td>0</td>\n",
       "      <td>0</td>\n",
       "      <td>0</td>\n",
       "      <td>0</td>\n",
       "      <td>0</td>\n",
       "      <td>0</td>\n",
       "      <td>0</td>\n",
       "      <td>0</td>\n",
       "      <td>0</td>\n",
       "      <td>0</td>\n",
       "      <td>0</td>\n",
       "      <td>0</td>\n",
       "      <td>0</td>\n",
       "      <td>0</td>\n",
       "      <td>0</td>\n",
       "      <td>0</td>\n",
       "    </tr>\n",
       "  </tbody>\n",
       "</table>\n",
       "<p>5 rows × 111 columns</p>\n",
       "</div>"
      ],
      "text/plain": [
       "   waterfront  yr_built      lat     long  log_bedrooms  log_bathrooms  \\\n",
       "0           0      1955  47.5112 -122.257      1.386294       0.693147   \n",
       "1           0      1951  47.7210 -122.319      1.386294       1.178655   \n",
       "2           0      1933  47.7379 -122.233      1.098612       0.693147   \n",
       "3           0      1965  47.5208 -122.393      1.609438       1.386294   \n",
       "4           0      1987  47.6168 -122.045      1.386294       1.098612   \n",
       "\n",
       "   log_sqft_living  log_sqft_lot  log_sqft_above  log_sqft_living15  \\\n",
       "0         7.074117      8.639588        7.074117           7.201171   \n",
       "1         7.852050      8.887791        7.682943           7.433075   \n",
       "2         6.647688      9.210440        6.647688           7.908755   \n",
       "3         7.581210      8.517393        6.957497           7.215975   \n",
       "4         7.427144      8.997271        7.427144           7.496097   \n",
       "\n",
       "   log_sqft_lot15  basement  renovated  floors#1.0  floors#1.5  floors#2.0  \\\n",
       "0        8.639588         0          0           1           0           0   \n",
       "1        8.941153         1          1           0           0           1   \n",
       "2        8.995041         0          0           1           0           0   \n",
       "3        8.517393         1          0           1           0           0   \n",
       "4        8.923191         0          0           1           0           0   \n",
       "\n",
       "   floors#2.5  floors#3.0  floors#3.5  view#0  view#1  view#2  view#3  view#4  \\\n",
       "0           0           0           0       1       0       0       0       0   \n",
       "1           0           0           0       1       0       0       0       0   \n",
       "2           0           0           0       1       0       0       0       0   \n",
       "3           0           0           0       1       0       0       0       0   \n",
       "4           0           0           0       1       0       0       0       0   \n",
       "\n",
       "   condition#1  ...  zipcode#98107  zipcode#98108  zipcode#98109  \\\n",
       "0            0  ...              0              0              0   \n",
       "1            0  ...              0              0              0   \n",
       "2            0  ...              0              0              0   \n",
       "3            0  ...              0              0              0   \n",
       "4            0  ...              0              0              0   \n",
       "\n",
       "   zipcode#98112  zipcode#98115  zipcode#98116  zipcode#98117  zipcode#98118  \\\n",
       "0              0              0              0              0              0   \n",
       "1              0              0              0              0              0   \n",
       "2              0              0              0              0              0   \n",
       "3              0              0              0              0              0   \n",
       "4              0              0              0              0              0   \n",
       "\n",
       "   zipcode#98119  zipcode#98122  zipcode#98125  zipcode#98126  zipcode#98133  \\\n",
       "0              0              0              0              0              0   \n",
       "1              0              0              1              0              0   \n",
       "2              0              0              0              0              0   \n",
       "3              0              0              0              0              0   \n",
       "4              0              0              0              0              0   \n",
       "\n",
       "   zipcode#98136  zipcode#98144  zipcode#98146  zipcode#98148  zipcode#98155  \\\n",
       "0              0              0              0              0              0   \n",
       "1              0              0              0              0              0   \n",
       "2              0              0              0              0              0   \n",
       "3              1              0              0              0              0   \n",
       "4              0              0              0              0              0   \n",
       "\n",
       "   zipcode#98166  zipcode#98168  zipcode#98177  zipcode#98178  zipcode#98188  \\\n",
       "0              0              0              0              1              0   \n",
       "1              0              0              0              0              0   \n",
       "2              0              0              0              0              0   \n",
       "3              0              0              0              0              0   \n",
       "4              0              0              0              0              0   \n",
       "\n",
       "   zipcode#98198  zipcode#98199  \n",
       "0              0              0  \n",
       "1              0              0  \n",
       "2              0              0  \n",
       "3              0              0  \n",
       "4              0              0  \n",
       "\n",
       "[5 rows x 111 columns]"
      ]
     },
     "execution_count": 20,
     "metadata": {},
     "output_type": "execute_result"
    }
   ],
   "source": [
    "X.head()"
   ]
  },
  {
   "cell_type": "code",
   "execution_count": 21,
   "metadata": {},
   "outputs": [
    {
     "data": {
      "text/plain": [
       "waterfront           False\n",
       "yr_built             False\n",
       "lat                  False\n",
       "long                 False\n",
       "log_bedrooms         False\n",
       "log_bathrooms        False\n",
       "log_sqft_living      False\n",
       "log_sqft_lot         False\n",
       "log_sqft_above       False\n",
       "log_sqft_living15    False\n",
       "log_sqft_lot15       False\n",
       "basement             False\n",
       "renovated            False\n",
       "floors#1.0           False\n",
       "floors#1.5           False\n",
       "floors#2.0           False\n",
       "floors#2.5           False\n",
       "floors#3.0           False\n",
       "floors#3.5           False\n",
       "view#0               False\n",
       "view#1               False\n",
       "view#2               False\n",
       "view#3               False\n",
       "view#4               False\n",
       "condition#1          False\n",
       "condition#2          False\n",
       "condition#3          False\n",
       "condition#4          False\n",
       "condition#5          False\n",
       "grade#1              False\n",
       "grade#3              False\n",
       "grade#4              False\n",
       "grade#5              False\n",
       "grade#6              False\n",
       "grade#7              False\n",
       "grade#8              False\n",
       "grade#9              False\n",
       "grade#10             False\n",
       "grade#11             False\n",
       "grade#12             False\n",
       "grade#13             False\n",
       "zipcode#98001        False\n",
       "zipcode#98002        False\n",
       "zipcode#98003        False\n",
       "zipcode#98004        False\n",
       "zipcode#98005        False\n",
       "zipcode#98006        False\n",
       "zipcode#98007        False\n",
       "zipcode#98008        False\n",
       "zipcode#98010        False\n",
       "zipcode#98011        False\n",
       "zipcode#98014        False\n",
       "zipcode#98019        False\n",
       "zipcode#98022        False\n",
       "zipcode#98023        False\n",
       "zipcode#98024        False\n",
       "zipcode#98027        False\n",
       "zipcode#98028        False\n",
       "zipcode#98029        False\n",
       "zipcode#98030        False\n",
       "zipcode#98031        False\n",
       "zipcode#98032        False\n",
       "zipcode#98033        False\n",
       "zipcode#98034        False\n",
       "zipcode#98038        False\n",
       "zipcode#98039        False\n",
       "zipcode#98040        False\n",
       "zipcode#98042        False\n",
       "zipcode#98045        False\n",
       "zipcode#98052        False\n",
       "zipcode#98053        False\n",
       "zipcode#98055        False\n",
       "zipcode#98056        False\n",
       "zipcode#98058        False\n",
       "zipcode#98059        False\n",
       "zipcode#98065        False\n",
       "zipcode#98070        False\n",
       "zipcode#98072        False\n",
       "zipcode#98074        False\n",
       "zipcode#98075        False\n",
       "zipcode#98077        False\n",
       "zipcode#98092        False\n",
       "zipcode#98102        False\n",
       "zipcode#98103        False\n",
       "zipcode#98105        False\n",
       "zipcode#98106        False\n",
       "zipcode#98107        False\n",
       "zipcode#98108        False\n",
       "zipcode#98109        False\n",
       "zipcode#98112        False\n",
       "zipcode#98115        False\n",
       "zipcode#98116        False\n",
       "zipcode#98117        False\n",
       "zipcode#98118        False\n",
       "zipcode#98119        False\n",
       "zipcode#98122        False\n",
       "zipcode#98125        False\n",
       "zipcode#98126        False\n",
       "zipcode#98133        False\n",
       "zipcode#98136        False\n",
       "zipcode#98144        False\n",
       "zipcode#98146        False\n",
       "zipcode#98148        False\n",
       "zipcode#98155        False\n",
       "zipcode#98166        False\n",
       "zipcode#98168        False\n",
       "zipcode#98177        False\n",
       "zipcode#98178        False\n",
       "zipcode#98188        False\n",
       "zipcode#98198        False\n",
       "zipcode#98199        False\n",
       "dtype: bool"
      ]
     },
     "execution_count": 21,
     "metadata": {},
     "output_type": "execute_result"
    }
   ],
   "source": [
    "pd.isnull(X).sum() > 0"
   ]
  },
  {
   "cell_type": "code",
   "execution_count": 22,
   "metadata": {},
   "outputs": [
    {
     "data": {
      "text/plain": [
       "False"
      ]
     },
     "execution_count": 22,
     "metadata": {},
     "output_type": "execute_result"
    }
   ],
   "source": [
    "np.any(np.isnan(X))"
   ]
  },
  {
   "cell_type": "code",
   "execution_count": 23,
   "metadata": {},
   "outputs": [
    {
     "data": {
      "text/plain": [
       "True"
      ]
     },
     "execution_count": 23,
     "metadata": {},
     "output_type": "execute_result"
    }
   ],
   "source": [
    "np.all(np.isfinite(X))"
   ]
  },
  {
   "cell_type": "code",
   "execution_count": 24,
   "metadata": {},
   "outputs": [
    {
     "data": {
      "text/plain": [
       "False"
      ]
     },
     "execution_count": 24,
     "metadata": {},
     "output_type": "execute_result"
    }
   ],
   "source": [
    "np.any(np.isnan(y))"
   ]
  },
  {
   "cell_type": "code",
   "execution_count": 25,
   "metadata": {},
   "outputs": [
    {
     "data": {
      "text/plain": [
       "True"
      ]
     },
     "execution_count": 25,
     "metadata": {},
     "output_type": "execute_result"
    }
   ],
   "source": [
    "np.all(np.isfinite(y))"
   ]
  },
  {
   "cell_type": "code",
   "execution_count": 26,
   "metadata": {},
   "outputs": [],
   "source": [
    "X_train, X_test, y_train, y_test = train_test_split(X, y, test_size = 0.2, random_state=42)"
   ]
  },
  {
   "cell_type": "code",
   "execution_count": 27,
   "metadata": {},
   "outputs": [
    {
     "name": "stdout",
     "output_type": "stream",
     "text": [
      "X Train Shape (17290, 111)\n",
      "Y Train Shape (17290,)\n",
      "X Test Shape (4323, 111)\n",
      "Y Test Shape (4323,)\n"
     ]
    }
   ],
   "source": [
    "print(\"X Train Shape\", X_train.shape)\n",
    "print(\"Y Train Shape\", y_train.shape)\n",
    "print(\"X Test Shape\", X_test.shape)\n",
    "print(\"Y Test Shape\", y_test.shape)"
   ]
  },
  {
   "cell_type": "markdown",
   "metadata": {},
   "source": [
    "### Multiple Linear Regression  \n",
    "\n",
    "Multiple Linear regression is a basic and commonly used type of predictive analysis.\n",
    "* Have **Multiple features** and one target variable.\n",
    "* The goal of multiple regression is to **model the linear relationship between your independent variables and your dependent variable**.\n",
    "\n",
    "Assumptions of linear regression  \n",
    "1. Linear relationship\n",
    "2. Multivariate normality\n",
    "3. No or little multi-collinearity\n",
    "4. No auto-correlation\n",
    "5. Homoscedasticity"
   ]
  },
  {
   "cell_type": "code",
   "execution_count": 28,
   "metadata": {},
   "outputs": [
    {
     "name": "stdout",
     "output_type": "stream",
     "text": [
      "Score: 0.8757880034116547\n"
     ]
    }
   ],
   "source": [
    "lr = LinearRegression(normalize=False)\n",
    "lr.fit(X_train, y_train)\n",
    "y_pred = lr.predict(X_test)\n",
    "print('Score:', r2_score(y_pred, y_test))"
   ]
  },
  {
   "cell_type": "markdown",
   "metadata": {},
   "source": [
    "###  Ridge Regression\n",
    "* Using L2 Regulazition"
   ]
  },
  {
   "cell_type": "code",
   "execution_count": 29,
   "metadata": {},
   "outputs": [
    {
     "name": "stdout",
     "output_type": "stream",
     "text": [
      "Score:  0.8753555239721792\n"
     ]
    }
   ],
   "source": [
    "ridge_model = Ridge(alpha=1)\n",
    "ridge_model.fit(X_train,y_train)\n",
    "ridge_model_predict = ridge_model.predict(X_test)\n",
    "print(\"Score: \",r2_score(ridge_model_predict,y_test))"
   ]
  },
  {
   "cell_type": "markdown",
   "metadata": {},
   "source": [
    "### Decision Tree Regression  \n",
    "* Decision Trees are divided into Classification and Regression Trees.\n",
    "* Regression trees are needed when the target variable is numeric or continuous. \n",
    "* Classification trees, as the name implies are used to separate the dataset into classes belonging to the target variable. "
   ]
  },
  {
   "cell_type": "code",
   "execution_count": 30,
   "metadata": {},
   "outputs": [],
   "source": [
    "SEED =1"
   ]
  },
  {
   "cell_type": "code",
   "execution_count": 31,
   "metadata": {},
   "outputs": [
    {
     "name": "stdout",
     "output_type": "stream",
     "text": [
      "Score:  0.7561609734823235\n"
     ]
    }
   ],
   "source": [
    "tree_reg = DecisionTreeRegressor(random_state=SEED)\n",
    "tree_reg.fit(X_train,y_train)\n",
    "tree_reg_predict = tree_reg.predict(X_test)\n",
    "print(\"Score: \",r2_score(tree_reg_predict,y_test))"
   ]
  },
  {
   "cell_type": "markdown",
   "metadata": {},
   "source": [
    "**hyperperameters tunning for decision tree regression**"
   ]
  },
  {
   "cell_type": "code",
   "execution_count": 32,
   "metadata": {},
   "outputs": [
    {
     "data": {
      "text/plain": [
       "GridSearchCV(cv=10, estimator=DecisionTreeRegressor(random_state=1), n_jobs=-1,\n",
       "             param_grid={'max_depth': [3, 4, 5, 6],\n",
       "                         'max_features': [0.2, 0.4, 0.6, 0.8],\n",
       "                         'min_samples_leaf': [0.04, 0.06, 0.08]},\n",
       "             scoring='r2')"
      ]
     },
     "execution_count": 32,
     "metadata": {},
     "output_type": "execute_result"
    }
   ],
   "source": [
    "# Define the grid of hyperparameters 'params_dt'\n",
    "params_dt = {\n",
    "'max_depth': [3, 4, 5, 6],\n",
    "'max_features': [0.2, 0.4,0.6, 0.8],\n",
    "'min_samples_leaf': [0.04, 0.06, 0.08]\n",
    "}\n",
    "# Instantiate a 10-fold CV grid search object 'grid_dt'\n",
    "grid_dt = GridSearchCV(estimator=tree_reg, \n",
    "                       param_grid=params_dt,\n",
    "                       scoring='r2',\n",
    "                       cv=10,\n",
    "                       n_jobs=-1)\n",
    "# Fit 'grid_dt' to the training data\n",
    "grid_dt.fit(X_train, y_train)"
   ]
  },
  {
   "cell_type": "code",
   "execution_count": 33,
   "metadata": {},
   "outputs": [
    {
     "name": "stdout",
     "output_type": "stream",
     "text": [
      "Best hyerparameters:\n",
      " {'max_depth': 6, 'max_features': 0.8, 'min_samples_leaf': 0.04}\n"
     ]
    }
   ],
   "source": [
    "# Extract best hyperparameters from 'grid_dt'\n",
    "best_hyperparams = grid_dt.best_params_\n",
    "print('Best hyerparameters:\\n', best_hyperparams)"
   ]
  },
  {
   "cell_type": "code",
   "execution_count": 34,
   "metadata": {},
   "outputs": [
    {
     "data": {
      "text/plain": [
       "GridSearchCV(cv=10, estimator=DecisionTreeRegressor(random_state=1), n_jobs=-1,\n",
       "             param_grid={'max_depth': [10, 12, 14, 16],\n",
       "                         'max_features': [0.6, 0.8, 1.0],\n",
       "                         'min_samples_leaf': [0.0006, 0.0008, 0.001, 0.002]},\n",
       "             scoring='r2')"
      ]
     },
     "execution_count": 34,
     "metadata": {},
     "output_type": "execute_result"
    }
   ],
   "source": [
    "# Define the grid of hyperparameters 'params_dt' again\n",
    "params_dt = {\n",
    "'max_depth': [10, 12, 14, 16],\n",
    "'max_features': [0.6, 0.8, 1.0],\n",
    "'min_samples_leaf': [0.0006, 0.0008, 0.001, 0.002]\n",
    "\n",
    "}\n",
    "# Instantiate a 10-fold CV grid search object 'grid_dt'\n",
    "grid_dt = GridSearchCV(estimator=tree_reg, \n",
    "                       param_grid=params_dt,\n",
    "                       scoring='r2',\n",
    "                       cv=10,\n",
    "                       n_jobs=-1)\n",
    "# Fit 'grid_dt' to the training data\n",
    "grid_dt.fit(X_train, y_train)"
   ]
  },
  {
   "cell_type": "code",
   "execution_count": 36,
   "metadata": {},
   "outputs": [
    {
     "name": "stdout",
     "output_type": "stream",
     "text": [
      "Best hyerparameters:\n",
      " {'max_depth': 12, 'max_features': 1.0, 'min_samples_leaf': 0.0008}\n"
     ]
    }
   ],
   "source": [
    "# Extract best hyperparameters from 'grid_dt'\n",
    "best_hyperparams = grid_dt.best_params_\n",
    "print('Best hyerparameters:\\n', best_hyperparams)"
   ]
  },
  {
   "cell_type": "code",
   "execution_count": 37,
   "metadata": {},
   "outputs": [
    {
     "name": "stdout",
     "output_type": "stream",
     "text": [
      "Score:  0.8085282791892024\n"
     ]
    }
   ],
   "source": [
    "tree_reg = DecisionTreeRegressor(max_depth = 12,\n",
    "                                 max_features = 1.0, \n",
    "                                 min_samples_leaf = 0.0008,\n",
    "                                 random_state=SEED)\n",
    "tree_reg.fit(X_train,y_train)\n",
    "tree_reg_predict = tree_reg.predict(X_test)\n",
    "print(\"Score: \",r2_score(tree_reg_predict,y_test))"
   ]
  },
  {
   "cell_type": "markdown",
   "metadata": {},
   "source": [
    "### Support Vector Regression\n",
    "* Support Vector regression is a type of Support vector machine that supports linear and non-linear regression.\n",
    "* In simple regression we try to minimise the error rate. While in SVR we try to fit the error within a certain threshold.\n",
    "*It is to fit as many instances as possible between the lines while limiting the margin violations.The violation represents as ε (epsilon)."
   ]
  },
  {
   "cell_type": "code",
   "execution_count": 38,
   "metadata": {},
   "outputs": [
    {
     "name": "stdout",
     "output_type": "stream",
     "text": [
      "Score:  0.8603348021653001\n"
     ]
    }
   ],
   "source": [
    "svr = SVR(C= 20, epsilon= 0.008, gamma=0.0003)\n",
    "svr.fit(X_train,y_train)\n",
    "svr_predict = svr.predict(X_test)\n",
    "print(\"Score: \",r2_score(svr_predict,y_test))"
   ]
  },
  {
   "cell_type": "markdown",
   "metadata": {},
   "source": [
    "### Random Forest Regression\n",
    "* Bagging-based algorithm where only a subset of features are selected at random to build a forest or collection of decision trees."
   ]
  },
  {
   "cell_type": "code",
   "execution_count": 39,
   "metadata": {},
   "outputs": [
    {
     "name": "stdout",
     "output_type": "stream",
     "text": [
      "Score:  0.8700344029435253\n"
     ]
    }
   ],
   "source": [
    "rf = RandomForestRegressor(n_estimators=100, random_state = 42)\n",
    "rf.fit(X_train,y_train)\n",
    "rf_predict = rf.predict(X_test)\n",
    "print(\"Score: \",r2_score(rf_predict,y_test))"
   ]
  },
  {
   "cell_type": "markdown",
   "metadata": {},
   "source": [
    "### Gradient Boosting\n",
    "* Gradient Boosting employs gradient descent algortihm to minimize errors in sequential models."
   ]
  },
  {
   "cell_type": "code",
   "execution_count": 40,
   "metadata": {},
   "outputs": [
    {
     "name": "stdout",
     "output_type": "stream",
     "text": [
      "Score:  0.8492527878687235\n"
     ]
    }
   ],
   "source": [
    "reg_gb = GradientBoostingRegressor()\n",
    "reg_gb.fit(X_train,y_train)\n",
    "reg_gb_predict = reg_gb.predict(X_test)\n",
    "print(\"Score: \",r2_score(reg_gb_predict,y_test))"
   ]
  },
  {
   "cell_type": "code",
   "execution_count": 41,
   "metadata": {},
   "outputs": [
    {
     "name": "stdout",
     "output_type": "stream",
     "text": [
      "Score:  0.9017992929287926\n"
     ]
    }
   ],
   "source": [
    "gbr = GradientBoostingRegressor(n_estimators=3000, \n",
    "                                learning_rate=0.05, \n",
    "                                max_depth=4, \n",
    "                                max_features='sqrt', \n",
    "                                min_samples_leaf=15, \n",
    "                                min_samples_split=10, \n",
    "                                loss='huber', \n",
    "                                random_state =42) \n",
    "gbr.fit(X_train,y_train)\n",
    "gbr_predict = gbr.predict(X_test)\n",
    "print(\"Score: \",r2_score(gbr_predict,y_test))"
   ]
  },
  {
   "cell_type": "markdown",
   "metadata": {},
   "source": [
    "### XGboost Regression\n",
    " XGBoost is a decision-tree-based ensemble Machine Learning algorithm that uses a gradient boosting framework.\n",
    "* In prediction problems involving unstructured data (images, text, etc.) artificial neural networks tend to outperform all other algorithms or frameworks. However, when it comes to small-to-medium structured/tabular data, decision tree based algorithms are considered best-in-class right now."
   ]
  },
  {
   "cell_type": "code",
   "execution_count": 42,
   "metadata": {},
   "outputs": [
    {
     "name": "stdout",
     "output_type": "stream",
     "text": [
      "Score:  0.9002329054738116\n"
     ]
    }
   ],
   "source": [
    "xgboost = XGBRegressor(learning_rate=0.01, n_estimators=3460,\n",
    "                                     max_depth=4, min_child_weight=0,\n",
    "                                     gamma=0, subsample=0.7,\n",
    "                                     colsample_bytree=0.7,\n",
    "                                     objective='reg:squarederror', nthread=-1,\n",
    "                                     scale_pos_weight=1, seed=27,\n",
    "                                     reg_alpha=0.00006)\n",
    "xgboost.fit(X_train,y_train)\n",
    "xgboost_predict = xgboost.predict(X_test)\n",
    "print(\"Score: \",r2_score(xgboost_predict,y_test))"
   ]
  },
  {
   "cell_type": "markdown",
   "metadata": {},
   "source": [
    "# Conclusion \n",
    "Various models were studied for their predictive power on the King County Housing data set. Linear models were found to be highly influenced by feature engineering. Nomalization of variables, especially for target variable(Price) are vital for prediction accuracy. Hyperparameter tuning with GridSearchCV is time cousuming and important to optimizing model performance. Highest R-square score (0.90) is achieved for gradient boosting regression and XGboost regression model with suitable parameters."
   ]
  },
  {
   "cell_type": "code",
   "execution_count": null,
   "metadata": {},
   "outputs": [],
   "source": []
  }
 ],
 "metadata": {
  "kernelspec": {
   "display_name": "Python 3",
   "language": "python",
   "name": "python3"
  },
  "language_info": {
   "codemirror_mode": {
    "name": "ipython",
    "version": 3
   },
   "file_extension": ".py",
   "mimetype": "text/x-python",
   "name": "python",
   "nbconvert_exporter": "python",
   "pygments_lexer": "ipython3",
   "version": "3.7.1"
  }
 },
 "nbformat": 4,
 "nbformat_minor": 2
}
