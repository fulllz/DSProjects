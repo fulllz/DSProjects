{
  "nbformat": 4,
  "nbformat_minor": 0,
  "metadata": {
    "colab": {
      "name": "Project 5 Multi label text classification with Scikit-Learning and Keras.ipynb",
      "provenance": [],
      "collapsed_sections": [],
      "authorship_tag": "ABX9TyNFV6JSpyHti6Te0RPtlbHA",
      "include_colab_link": true
    },
    "kernelspec": {
      "name": "python3",
      "display_name": "Python 3"
    }
  },
  "cells": [
    {
      "cell_type": "markdown",
      "metadata": {
        "id": "view-in-github",
        "colab_type": "text"
      },
      "source": [
        "<a href=\"https://colab.research.google.com/github/fulllz/DSProjects/blob/main/Project_5_Multi_label_text_classification_with_Scikit_Learning_and_Keras.ipynb\" target=\"_parent\"><img src=\"https://colab.research.google.com/assets/colab-badge.svg\" alt=\"Open In Colab\"/></a>"
      ]
    },
    {
      "cell_type": "markdown",
      "metadata": {
        "id": "b4KDgDn0-dXR"
      },
      "source": [
        "# **Project 5 Multi label text classification**"
      ]
    },
    {
      "cell_type": "markdown",
      "metadata": {
        "id": "WMBMTtZskV33"
      },
      "source": [
        "In this project, I am going to look into Multi-Label Text Classification. It is a problem of mapping inputs (x) to a set of target labels (y), which are not mutually exclusive. Multi-label text classification has many real world applications such as categorizing businesses on Yelp or classifying movies into one or more genre(s).  In contrast with the binary classification problem, where the goal is to predict whether the customer is churn or not. Or multi-class classification means a classification task with more than two classes; each label are mutually exclusive. \n",
        "\n",
        "The multi-label models were built that can detect different types of toxicity like severe toxic, threats, obscenity, insults, and so on. We will be using supervised classifiers and text representations. The data set can be found at Kaggle. For each comment/post, it has six corresponding classes (labels):  \n",
        "– Toxic  \n",
        "– Severe Toxic  \n",
        "– Obscene  \n",
        "– Threat  \n",
        "– Insult  \n",
        "– Identity Hate  \n",
        "The objective for this task is to identify if a comment belongs to any of these classes (can be mutiple). "
      ]
    },
    {
      "cell_type": "code",
      "metadata": {
        "id": "HjtQhUQLfaeg",
        "outputId": "052a1a90-1970-4658-e3e9-b6969bb02059",
        "colab": {
          "base_uri": "https://localhost:8080/",
          "height": 51
        }
      },
      "source": [
        "import re\n",
        "import numpy as np\n",
        "import pandas as pd\n",
        "import matplotlib\n",
        "import matplotlib.pyplot as plt\n",
        "%matplotlib inline\n",
        "import seaborn as sns\n",
        "\n",
        "import nltk\n",
        "nltk.download('stopwords')\n",
        "from nltk.corpus import stopwords\n",
        "stop_words = set(stopwords.words('english'))\n",
        "from sklearn.feature_extraction.text import TfidfVectorizer\n",
        "from sklearn.model_selection import train_test_split\n",
        "from sklearn.multiclass import OneVsRestClassifier\n",
        "from sklearn.naive_bayes import MultinomialNB\n",
        "from sklearn.svm import LinearSVC\n",
        "from sklearn.linear_model import LogisticRegression\n",
        "from sklearn.ensemble import BaggingClassifier\n",
        "from sklearn.pipeline import Pipeline\n",
        "from sklearn.metrics import accuracy_score, precision_score, recall_score, f1_score\n",
        "from sklearn.metrics import confusion_matrix, hamming_loss"
      ],
      "execution_count": null,
      "outputs": [
        {
          "output_type": "stream",
          "text": [
            "[nltk_data] Downloading package stopwords to /root/nltk_data...\n",
            "[nltk_data]   Unzipping corpora/stopwords.zip.\n"
          ],
          "name": "stdout"
        }
      ]
    },
    {
      "cell_type": "code",
      "metadata": {
        "id": "4sa61mv42yft"
      },
      "source": [
        "import io\n",
        "import tensorflow as tf\n",
        "from keras.preprocessing.text import Tokenizer\n",
        "from keras.preprocessing.sequence import pad_sequences\n",
        "from keras.layers import Dense, Input, LSTM, Embedding, Dropout, Activation\n",
        "from keras.layers import Bidirectional, GlobalMaxPool1D\n",
        "from keras.models import Model\n",
        "from keras.callbacks import EarlyStopping"
      ],
      "execution_count": null,
      "outputs": []
    },
    {
      "cell_type": "code",
      "metadata": {
        "id": "-E6CqwVQ4Pk5",
        "outputId": "ce4ece4a-dc45-49e4-f26c-be66aef154b9",
        "colab": {
          "resources": {
            "http://localhost:8080/nbextensions/google.colab/files.js": {
              "data": "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",
              "ok": true,
              "headers": [
                [
                  "content-type",
                  "application/javascript"
                ]
              ],
              "status": 200,
              "status_text": ""
            }
          },
          "base_uri": "https://localhost:8080/",
          "height": 72
        }
      },
      "source": [
        "from google.colab import files\n",
        "uploaded = files.upload()"
      ],
      "execution_count": null,
      "outputs": [
        {
          "output_type": "display_data",
          "data": {
            "text/html": [
              "\n",
              "     <input type=\"file\" id=\"files-9a5ba061-8b86-455f-a8b6-d8af9ec667b2\" name=\"files[]\" multiple disabled\n",
              "        style=\"border:none\" />\n",
              "     <output id=\"result-9a5ba061-8b86-455f-a8b6-d8af9ec667b2\">\n",
              "      Upload widget is only available when the cell has been executed in the\n",
              "      current browser session. Please rerun this cell to enable.\n",
              "      </output>\n",
              "      <script src=\"/nbextensions/google.colab/files.js\"></script> "
            ],
            "text/plain": [
              "<IPython.core.display.HTML object>"
            ]
          },
          "metadata": {
            "tags": []
          }
        },
        {
          "output_type": "stream",
          "text": [
            "Saving train.csv to train.csv\n"
          ],
          "name": "stdout"
        }
      ]
    },
    {
      "cell_type": "code",
      "metadata": {
        "id": "EPFgll024PSi"
      },
      "source": [
        "train = pd.read_csv(io.BytesIO(uploaded['train.csv']))"
      ],
      "execution_count": null,
      "outputs": []
    },
    {
      "cell_type": "code",
      "metadata": {
        "id": "uH0GpOtb4O6H",
        "outputId": "8f48c231-2ca4-4798-e281-fd3930393bdd",
        "colab": {
          "base_uri": "https://localhost:8080/",
          "height": 34
        }
      },
      "source": [
        "train.shape"
      ],
      "execution_count": null,
      "outputs": [
        {
          "output_type": "execute_result",
          "data": {
            "text/plain": [
              "(159571, 8)"
            ]
          },
          "metadata": {
            "tags": []
          },
          "execution_count": 12
        }
      ]
    },
    {
      "cell_type": "code",
      "metadata": {
        "id": "iHynGxKK4OtB",
        "outputId": "a85511a5-5ebb-46c5-b80d-9c06eadb678d",
        "colab": {
          "base_uri": "https://localhost:8080/",
          "height": 272
        }
      },
      "source": [
        "train.info()"
      ],
      "execution_count": null,
      "outputs": [
        {
          "output_type": "stream",
          "text": [
            "<class 'pandas.core.frame.DataFrame'>\n",
            "RangeIndex: 159571 entries, 0 to 159570\n",
            "Data columns (total 8 columns):\n",
            " #   Column         Non-Null Count   Dtype \n",
            "---  ------         --------------   ----- \n",
            " 0   id             159571 non-null  object\n",
            " 1   comment_text   159571 non-null  object\n",
            " 2   toxic          159571 non-null  int64 \n",
            " 3   severe_toxic   159571 non-null  int64 \n",
            " 4   obscene        159571 non-null  int64 \n",
            " 5   threat         159571 non-null  int64 \n",
            " 6   insult         159571 non-null  int64 \n",
            " 7   identity_hate  159571 non-null  int64 \n",
            "dtypes: int64(6), object(2)\n",
            "memory usage: 9.7+ MB\n"
          ],
          "name": "stdout"
        }
      ]
    },
    {
      "cell_type": "code",
      "metadata": {
        "id": "_QGsrQgK4Ogi",
        "outputId": "3b562137-b692-4a15-ae9b-861c1acb2551",
        "colab": {
          "base_uri": "https://localhost:8080/",
          "height": 204
        }
      },
      "source": [
        "train.head()"
      ],
      "execution_count": null,
      "outputs": [
        {
          "output_type": "execute_result",
          "data": {
            "text/html": [
              "<div>\n",
              "<style scoped>\n",
              "    .dataframe tbody tr th:only-of-type {\n",
              "        vertical-align: middle;\n",
              "    }\n",
              "\n",
              "    .dataframe tbody tr th {\n",
              "        vertical-align: top;\n",
              "    }\n",
              "\n",
              "    .dataframe thead th {\n",
              "        text-align: right;\n",
              "    }\n",
              "</style>\n",
              "<table border=\"1\" class=\"dataframe\">\n",
              "  <thead>\n",
              "    <tr style=\"text-align: right;\">\n",
              "      <th></th>\n",
              "      <th>id</th>\n",
              "      <th>comment_text</th>\n",
              "      <th>toxic</th>\n",
              "      <th>severe_toxic</th>\n",
              "      <th>obscene</th>\n",
              "      <th>threat</th>\n",
              "      <th>insult</th>\n",
              "      <th>identity_hate</th>\n",
              "    </tr>\n",
              "  </thead>\n",
              "  <tbody>\n",
              "    <tr>\n",
              "      <th>0</th>\n",
              "      <td>0000997932d777bf</td>\n",
              "      <td>Explanation\\nWhy the edits made under my usern...</td>\n",
              "      <td>0</td>\n",
              "      <td>0</td>\n",
              "      <td>0</td>\n",
              "      <td>0</td>\n",
              "      <td>0</td>\n",
              "      <td>0</td>\n",
              "    </tr>\n",
              "    <tr>\n",
              "      <th>1</th>\n",
              "      <td>000103f0d9cfb60f</td>\n",
              "      <td>D'aww! He matches this background colour I'm s...</td>\n",
              "      <td>0</td>\n",
              "      <td>0</td>\n",
              "      <td>0</td>\n",
              "      <td>0</td>\n",
              "      <td>0</td>\n",
              "      <td>0</td>\n",
              "    </tr>\n",
              "    <tr>\n",
              "      <th>2</th>\n",
              "      <td>000113f07ec002fd</td>\n",
              "      <td>Hey man, I'm really not trying to edit war. It...</td>\n",
              "      <td>0</td>\n",
              "      <td>0</td>\n",
              "      <td>0</td>\n",
              "      <td>0</td>\n",
              "      <td>0</td>\n",
              "      <td>0</td>\n",
              "    </tr>\n",
              "    <tr>\n",
              "      <th>3</th>\n",
              "      <td>0001b41b1c6bb37e</td>\n",
              "      <td>\"\\nMore\\nI can't make any real suggestions on ...</td>\n",
              "      <td>0</td>\n",
              "      <td>0</td>\n",
              "      <td>0</td>\n",
              "      <td>0</td>\n",
              "      <td>0</td>\n",
              "      <td>0</td>\n",
              "    </tr>\n",
              "    <tr>\n",
              "      <th>4</th>\n",
              "      <td>0001d958c54c6e35</td>\n",
              "      <td>You, sir, are my hero. Any chance you remember...</td>\n",
              "      <td>0</td>\n",
              "      <td>0</td>\n",
              "      <td>0</td>\n",
              "      <td>0</td>\n",
              "      <td>0</td>\n",
              "      <td>0</td>\n",
              "    </tr>\n",
              "  </tbody>\n",
              "</table>\n",
              "</div>"
            ],
            "text/plain": [
              "                 id  ... identity_hate\n",
              "0  0000997932d777bf  ...             0\n",
              "1  000103f0d9cfb60f  ...             0\n",
              "2  000113f07ec002fd  ...             0\n",
              "3  0001b41b1c6bb37e  ...             0\n",
              "4  0001d958c54c6e35  ...             0\n",
              "\n",
              "[5 rows x 8 columns]"
            ]
          },
          "metadata": {
            "tags": []
          },
          "execution_count": 14
        }
      ]
    },
    {
      "cell_type": "code",
      "metadata": {
        "id": "zKec35BIIhG4",
        "outputId": "c8509fce-f265-4456-c7b9-2777eec7b297",
        "colab": {
          "base_uri": "https://localhost:8080/",
          "height": 34
        }
      },
      "source": [
        "train.duplicated().sum()"
      ],
      "execution_count": null,
      "outputs": [
        {
          "output_type": "execute_result",
          "data": {
            "text/plain": [
              "0"
            ]
          },
          "metadata": {
            "tags": []
          },
          "execution_count": 15
        }
      ]
    },
    {
      "cell_type": "code",
      "metadata": {
        "id": "alRnmu_iIff0",
        "outputId": "50bc916b-a25c-4943-9fab-8565b9438d84",
        "colab": {
          "base_uri": "https://localhost:8080/",
          "height": 170
        }
      },
      "source": [
        "train.isnull().sum()"
      ],
      "execution_count": null,
      "outputs": [
        {
          "output_type": "execute_result",
          "data": {
            "text/plain": [
              "id               0\n",
              "comment_text     0\n",
              "toxic            0\n",
              "severe_toxic     0\n",
              "obscene          0\n",
              "threat           0\n",
              "insult           0\n",
              "identity_hate    0\n",
              "dtype: int64"
            ]
          },
          "metadata": {
            "tags": []
          },
          "execution_count": 16
        }
      ]
    },
    {
      "cell_type": "markdown",
      "metadata": {
        "id": "O5d4YsZnjVNZ"
      },
      "source": [
        "# <font color=red>**Part-1 Multi label text classification with Scikit-learning** </font>"
      ]
    },
    {
      "cell_type": "code",
      "metadata": {
        "id": "IWRxihyzjv6C"
      },
      "source": [
        "df =train.copy()"
      ],
      "execution_count": null,
      "outputs": []
    },
    {
      "cell_type": "code",
      "metadata": {
        "id": "Bzh-lNl_lrC0"
      },
      "source": [
        "cols = ['toxic', 'severe_toxic', 'obscene', 'threat','insult', 'identity_hate']\n",
        "counts = []\n",
        "for col in cols:\n",
        "    counts.append((col, df[col].sum()))"
      ],
      "execution_count": null,
      "outputs": []
    },
    {
      "cell_type": "code",
      "metadata": {
        "id": "J7zwKPTulryK",
        "outputId": "d3efce6d-e396-4999-b091-f924e24489f9",
        "colab": {
          "base_uri": "https://localhost:8080/",
          "height": 119
        }
      },
      "source": [
        "counts"
      ],
      "execution_count": null,
      "outputs": [
        {
          "output_type": "execute_result",
          "data": {
            "text/plain": [
              "[('toxic', 15294),\n",
              " ('severe_toxic', 1595),\n",
              " ('obscene', 8449),\n",
              " ('threat', 478),\n",
              " ('insult', 7877),\n",
              " ('identity_hate', 1405)]"
            ]
          },
          "metadata": {
            "tags": []
          },
          "execution_count": 19
        }
      ]
    },
    {
      "cell_type": "code",
      "metadata": {
        "id": "zbR3ZKz9lt5y",
        "outputId": "7fb26ccf-1fee-442a-f016-d5f23b21e006",
        "colab": {
          "base_uri": "https://localhost:8080/",
          "height": 235
        }
      },
      "source": [
        "df_stats = pd.DataFrame(counts, columns=['category', 'number_of_comments'])\n",
        "df_stats"
      ],
      "execution_count": null,
      "outputs": [
        {
          "output_type": "execute_result",
          "data": {
            "text/html": [
              "<div>\n",
              "<style scoped>\n",
              "    .dataframe tbody tr th:only-of-type {\n",
              "        vertical-align: middle;\n",
              "    }\n",
              "\n",
              "    .dataframe tbody tr th {\n",
              "        vertical-align: top;\n",
              "    }\n",
              "\n",
              "    .dataframe thead th {\n",
              "        text-align: right;\n",
              "    }\n",
              "</style>\n",
              "<table border=\"1\" class=\"dataframe\">\n",
              "  <thead>\n",
              "    <tr style=\"text-align: right;\">\n",
              "      <th></th>\n",
              "      <th>category</th>\n",
              "      <th>number_of_comments</th>\n",
              "    </tr>\n",
              "  </thead>\n",
              "  <tbody>\n",
              "    <tr>\n",
              "      <th>0</th>\n",
              "      <td>toxic</td>\n",
              "      <td>15294</td>\n",
              "    </tr>\n",
              "    <tr>\n",
              "      <th>1</th>\n",
              "      <td>severe_toxic</td>\n",
              "      <td>1595</td>\n",
              "    </tr>\n",
              "    <tr>\n",
              "      <th>2</th>\n",
              "      <td>obscene</td>\n",
              "      <td>8449</td>\n",
              "    </tr>\n",
              "    <tr>\n",
              "      <th>3</th>\n",
              "      <td>threat</td>\n",
              "      <td>478</td>\n",
              "    </tr>\n",
              "    <tr>\n",
              "      <th>4</th>\n",
              "      <td>insult</td>\n",
              "      <td>7877</td>\n",
              "    </tr>\n",
              "    <tr>\n",
              "      <th>5</th>\n",
              "      <td>identity_hate</td>\n",
              "      <td>1405</td>\n",
              "    </tr>\n",
              "  </tbody>\n",
              "</table>\n",
              "</div>"
            ],
            "text/plain": [
              "        category  number_of_comments\n",
              "0          toxic               15294\n",
              "1   severe_toxic                1595\n",
              "2        obscene                8449\n",
              "3         threat                 478\n",
              "4         insult                7877\n",
              "5  identity_hate                1405"
            ]
          },
          "metadata": {
            "tags": []
          },
          "execution_count": 20
        }
      ]
    },
    {
      "cell_type": "code",
      "metadata": {
        "id": "TO4orR-_ltzu",
        "outputId": "90f84525-ba20-4b9a-a70a-f8f972e495cf",
        "colab": {
          "base_uri": "https://localhost:8080/",
          "height": 235
        }
      },
      "source": [
        "df_stats.sort_values(by='number_of_comments', ascending=False)"
      ],
      "execution_count": null,
      "outputs": [
        {
          "output_type": "execute_result",
          "data": {
            "text/html": [
              "<div>\n",
              "<style scoped>\n",
              "    .dataframe tbody tr th:only-of-type {\n",
              "        vertical-align: middle;\n",
              "    }\n",
              "\n",
              "    .dataframe tbody tr th {\n",
              "        vertical-align: top;\n",
              "    }\n",
              "\n",
              "    .dataframe thead th {\n",
              "        text-align: right;\n",
              "    }\n",
              "</style>\n",
              "<table border=\"1\" class=\"dataframe\">\n",
              "  <thead>\n",
              "    <tr style=\"text-align: right;\">\n",
              "      <th></th>\n",
              "      <th>category</th>\n",
              "      <th>number_of_comments</th>\n",
              "    </tr>\n",
              "  </thead>\n",
              "  <tbody>\n",
              "    <tr>\n",
              "      <th>0</th>\n",
              "      <td>toxic</td>\n",
              "      <td>15294</td>\n",
              "    </tr>\n",
              "    <tr>\n",
              "      <th>2</th>\n",
              "      <td>obscene</td>\n",
              "      <td>8449</td>\n",
              "    </tr>\n",
              "    <tr>\n",
              "      <th>4</th>\n",
              "      <td>insult</td>\n",
              "      <td>7877</td>\n",
              "    </tr>\n",
              "    <tr>\n",
              "      <th>1</th>\n",
              "      <td>severe_toxic</td>\n",
              "      <td>1595</td>\n",
              "    </tr>\n",
              "    <tr>\n",
              "      <th>5</th>\n",
              "      <td>identity_hate</td>\n",
              "      <td>1405</td>\n",
              "    </tr>\n",
              "    <tr>\n",
              "      <th>3</th>\n",
              "      <td>threat</td>\n",
              "      <td>478</td>\n",
              "    </tr>\n",
              "  </tbody>\n",
              "</table>\n",
              "</div>"
            ],
            "text/plain": [
              "        category  number_of_comments\n",
              "0          toxic               15294\n",
              "2        obscene                8449\n",
              "4         insult                7877\n",
              "1   severe_toxic                1595\n",
              "5  identity_hate                1405\n",
              "3         threat                 478"
            ]
          },
          "metadata": {
            "tags": []
          },
          "execution_count": 21
        }
      ]
    },
    {
      "cell_type": "code",
      "metadata": {
        "id": "NMJzOyqXlttW",
        "outputId": "901b3d2e-23b6-4d7e-a7cd-fc8ca3e93a19",
        "colab": {
          "base_uri": "https://localhost:8080/",
          "height": 34
        }
      },
      "source": [
        "total = df_stats['number_of_comments'].sum()\n",
        "total"
      ],
      "execution_count": null,
      "outputs": [
        {
          "output_type": "execute_result",
          "data": {
            "text/plain": [
              "35098"
            ]
          },
          "metadata": {
            "tags": []
          },
          "execution_count": 22
        }
      ]
    },
    {
      "cell_type": "code",
      "metadata": {
        "id": "VTZ1qGlRltn_"
      },
      "source": [
        "df_stats['percent_of_comments(%)'] = df_stats['number_of_comments'].apply(lambda x: (x/total*100))"
      ],
      "execution_count": null,
      "outputs": []
    },
    {
      "cell_type": "code",
      "metadata": {
        "id": "aZV7YObelti5",
        "outputId": "5a8e1885-cf18-4eec-c899-e13b86cc0dde",
        "colab": {
          "base_uri": "https://localhost:8080/",
          "height": 235
        }
      },
      "source": [
        "df_stats['percent_of_comments(%)'] = df_stats['percent_of_comments(%)'].round(2)\n",
        "df_stats"
      ],
      "execution_count": null,
      "outputs": [
        {
          "output_type": "execute_result",
          "data": {
            "text/html": [
              "<div>\n",
              "<style scoped>\n",
              "    .dataframe tbody tr th:only-of-type {\n",
              "        vertical-align: middle;\n",
              "    }\n",
              "\n",
              "    .dataframe tbody tr th {\n",
              "        vertical-align: top;\n",
              "    }\n",
              "\n",
              "    .dataframe thead th {\n",
              "        text-align: right;\n",
              "    }\n",
              "</style>\n",
              "<table border=\"1\" class=\"dataframe\">\n",
              "  <thead>\n",
              "    <tr style=\"text-align: right;\">\n",
              "      <th></th>\n",
              "      <th>category</th>\n",
              "      <th>number_of_comments</th>\n",
              "      <th>percent_of_comments(%)</th>\n",
              "    </tr>\n",
              "  </thead>\n",
              "  <tbody>\n",
              "    <tr>\n",
              "      <th>0</th>\n",
              "      <td>toxic</td>\n",
              "      <td>15294</td>\n",
              "      <td>43.58</td>\n",
              "    </tr>\n",
              "    <tr>\n",
              "      <th>1</th>\n",
              "      <td>severe_toxic</td>\n",
              "      <td>1595</td>\n",
              "      <td>4.54</td>\n",
              "    </tr>\n",
              "    <tr>\n",
              "      <th>2</th>\n",
              "      <td>obscene</td>\n",
              "      <td>8449</td>\n",
              "      <td>24.07</td>\n",
              "    </tr>\n",
              "    <tr>\n",
              "      <th>3</th>\n",
              "      <td>threat</td>\n",
              "      <td>478</td>\n",
              "      <td>1.36</td>\n",
              "    </tr>\n",
              "    <tr>\n",
              "      <th>4</th>\n",
              "      <td>insult</td>\n",
              "      <td>7877</td>\n",
              "      <td>22.44</td>\n",
              "    </tr>\n",
              "    <tr>\n",
              "      <th>5</th>\n",
              "      <td>identity_hate</td>\n",
              "      <td>1405</td>\n",
              "      <td>4.00</td>\n",
              "    </tr>\n",
              "  </tbody>\n",
              "</table>\n",
              "</div>"
            ],
            "text/plain": [
              "        category  number_of_comments  percent_of_comments(%)\n",
              "0          toxic               15294                   43.58\n",
              "1   severe_toxic                1595                    4.54\n",
              "2        obscene                8449                   24.07\n",
              "3         threat                 478                    1.36\n",
              "4         insult                7877                   22.44\n",
              "5  identity_hate                1405                    4.00"
            ]
          },
          "metadata": {
            "tags": []
          },
          "execution_count": 24
        }
      ]
    },
    {
      "cell_type": "code",
      "metadata": {
        "id": "aaxfuqoTltci",
        "outputId": "54d5ad95-b013-47f7-9cf5-e89070b240d6",
        "colab": {
          "base_uri": "https://localhost:8080/",
          "height": 355
        }
      },
      "source": [
        "ax1=df_stats.plot(x='category', y='number_of_comments', kind='bar', legend=False, grid=True, figsize=(8, 5))\n",
        "df_stats.plot(x='category', y='percent_of_comments(%)', kind='line', color='y',secondary_y= True, ax=ax1)"
      ],
      "execution_count": null,
      "outputs": [
        {
          "output_type": "execute_result",
          "data": {
            "text/plain": [
              "<matplotlib.axes._subplots.AxesSubplot at 0x7f7a1ec8d390>"
            ]
          },
          "metadata": {
            "tags": []
          },
          "execution_count": 25
        },
        {
          "output_type": "display_data",
          "data": {
            "image/png": "[encoded data removed]",
            "text/plain": [
              "<Figure size 576x360 with 2 Axes>"
            ]
          },
          "metadata": {
            "tags": [],
            "needs_background": "light"
          }
        }
      ]
    },
    {
      "cell_type": "code",
      "metadata": {
        "id": "yoiuwapmltVR",
        "outputId": "414d86cb-d6be-49e6-b6e3-f487fa096a2c",
        "colab": {
          "base_uri": "https://localhost:8080/",
          "height": 432
        }
      },
      "source": [
        "plt.figure(figsize=(7,7))\n",
        "plt.title('Correlation of features & targets',y=1.05,size=14)\n",
        "sns.heatmap(df[cols].corr(), annot=True, vmax=1.0, \n",
        "            linewidths=0.1, linecolor='white', square=True )"
      ],
      "execution_count": null,
      "outputs": [
        {
          "output_type": "execute_result",
          "data": {
            "text/plain": [
              "<matplotlib.axes._subplots.AxesSubplot at 0x7f7a1ec7bb70>"
            ]
          },
          "metadata": {
            "tags": []
          },
          "execution_count": 26
        },
        {
          "output_type": "display_data",
          "data": {
            "image/png": "[encoded data removed]",
            "text/plain": [
              "<Figure size 504x504 with 2 Axes>"
            ]
          },
          "metadata": {
            "tags": [],
            "needs_background": "light"
          }
        }
      ]
    },
    {
      "cell_type": "markdown",
      "metadata": {
        "id": "cKKvougBmv9g"
      },
      "source": [
        "It looks like some of the labels are higher correlated, e.g. insult-obscene has the highest at 0.74, followed by toxic-obscene at 0.68 and toxic-insult at 0.65 ."
      ]
    },
    {
      "cell_type": "markdown",
      "metadata": {
        "id": "XkhlsrPsm1a3"
      },
      "source": [
        "### Multi-Label\n",
        "\n",
        "How many comments have multiple labels?"
      ]
    },
    {
      "cell_type": "code",
      "metadata": {
        "id": "rNPJ4iNJltPR",
        "outputId": "283d8692-d8ba-4a77-e0f9-224cd92edc6e",
        "colab": {
          "base_uri": "https://localhost:8080/",
          "height": 153
        }
      },
      "source": [
        "rowsums = df.iloc[:,2:].sum(axis=1)\n",
        "x=rowsums.value_counts()\n",
        "x"
      ],
      "execution_count": null,
      "outputs": [
        {
          "output_type": "execute_result",
          "data": {
            "text/plain": [
              "0    143346\n",
              "1      6360\n",
              "3      4209\n",
              "2      3480\n",
              "4      1760\n",
              "5       385\n",
              "6        31\n",
              "dtype: int64"
            ]
          },
          "metadata": {
            "tags": []
          },
          "execution_count": 27
        }
      ]
    },
    {
      "cell_type": "code",
      "metadata": {
        "id": "hMaLUswWltGM",
        "outputId": "2d75b2ea-98ea-4700-cabb-9717d78f4b95",
        "colab": {
          "base_uri": "https://localhost:8080/",
          "height": 349
        }
      },
      "source": [
        "#plot\n",
        "plt.figure(figsize=(8,5))\n",
        "ax = x.plot(kind='bar',color='r')\n",
        "plt.title(\"Multiple categories per comment\")\n",
        "plt.ylabel('# of Occurrences', fontsize=12)\n",
        "plt.xlabel('# of categories', fontsize=12)\n",
        "plt.show()"
      ],
      "execution_count": null,
      "outputs": [
        {
          "output_type": "display_data",
          "data": {
            "image/png": "[encoded data removed]",
            "text/plain": [
              "<Figure size 576x360 with 1 Axes>"
            ]
          },
          "metadata": {
            "tags": [],
            "needs_background": "light"
          }
        }
      ]
    },
    {
      "cell_type": "markdown",
      "metadata": {
        "id": "2y4GBWN-oNe3"
      },
      "source": [
        "Vast majority of the comment texts are not labeled."
      ]
    },
    {
      "cell_type": "markdown",
      "metadata": {
        "id": "-x86sdc1oNBI"
      },
      "source": [
        "The distribution of the number of words in comment texts."
      ]
    },
    {
      "cell_type": "code",
      "metadata": {
        "id": "9D4m1BoaoG-B",
        "outputId": "b4496a66-aa55-46d5-af16-12dbe4dddfc4",
        "colab": {
          "base_uri": "https://localhost:8080/",
          "height": 265
        }
      },
      "source": [
        "lens = df.comment_text.str.len()\n",
        "lens.hist(bins = np.arange(0,5000,50));"
      ],
      "execution_count": null,
      "outputs": [
        {
          "output_type": "display_data",
          "data": {
            "image/png": "[encoded data removed]",
            "text/plain": [
              "<Figure size 432x288 with 1 Axes>"
            ]
          },
          "metadata": {
            "tags": [],
            "needs_background": "light"
          }
        }
      ]
    },
    {
      "cell_type": "markdown",
      "metadata": {
        "id": "gl-A03Wto9uc"
      },
      "source": [
        "Most of the comment text length are within 500 characters, with some outliers up to 5,000 characters long."
      ]
    },
    {
      "cell_type": "code",
      "metadata": {
        "id": "HhQd2jykoG3L",
        "outputId": "d69e38a6-b0ff-4226-cbda-09076d8ef86e",
        "colab": {
          "base_uri": "https://localhost:8080/",
          "height": 51
        }
      },
      "source": [
        "print('Percentage of comments that are not labelled:')\n",
        "print(len(df[(df['toxic']==0) & (df['severe_toxic']==0) & (df['obscene']==0) & (df['threat']== 0) & (df['insult']==0) & (df['identity_hate']==0)]) / len(df))"
      ],
      "execution_count": null,
      "outputs": [
        {
          "output_type": "stream",
          "text": [
            "Percentage of comments that are not labelled:\n",
            "0.8983211235124177\n"
          ],
          "name": "stdout"
        }
      ]
    },
    {
      "cell_type": "markdown",
      "metadata": {
        "id": "rX_UsLm2phns"
      },
      "source": [
        "**Looking at some examples of the  comments, the text needs clean.**"
      ]
    },
    {
      "cell_type": "code",
      "metadata": {
        "id": "7zn9P6AwoGlJ",
        "outputId": "d5dd3470-5200-42ed-c2b6-598415c7fac5",
        "colab": {
          "base_uri": "https://localhost:8080/",
          "height": 52
        }
      },
      "source": [
        "df['comment_text'][0]"
      ],
      "execution_count": null,
      "outputs": [
        {
          "output_type": "execute_result",
          "data": {
            "application/vnd.google.colaboratory.intrinsic+json": {
              "type": "string"
            },
            "text/plain": [
              "\"Explanation\\nWhy the edits made under my username Hardcore Metallica Fan were reverted? They weren't vandalisms, just closure on some GAs after I voted at New York Dolls FAC. And please don't remove the template from the talk page since I'm retired now.89.205.38.27\""
            ]
          },
          "metadata": {
            "tags": []
          },
          "execution_count": 38
        }
      ]
    },
    {
      "cell_type": "code",
      "metadata": {
        "id": "WdlL9JwpoGdE",
        "outputId": "2dada4bd-9776-46b6-9f2b-5663bfa73fc8",
        "colab": {
          "base_uri": "https://localhost:8080/",
          "height": 137
        }
      },
      "source": [
        "df['comment_text'][10]"
      ],
      "execution_count": null,
      "outputs": [
        {
          "output_type": "execute_result",
          "data": {
            "application/vnd.google.colaboratory.intrinsic+json": {
              "type": "string"
            },
            "text/plain": [
              "'\"\\nFair use rationale for Image:Wonju.jpg\\n\\nThanks for uploading Image:Wonju.jpg. I notice the image page specifies that the image is being used under fair use but there is no explanation or rationale as to why its use in Wikipedia articles constitutes fair use. In addition to the boilerplate fair use template, you must also write out on the image description page a specific explanation or rationale for why using this image in each article is consistent with fair use.\\n\\nPlease go to the image description page and edit it to include a fair use rationale.\\n\\nIf you have uploaded other fair use media, consider checking that you have specified the fair use rationale on those pages too. You can find a list of \\'image\\' pages you have edited by clicking on the \"\"my contributions\"\" link (it is located at the very top of any Wikipedia page when you are logged in), and then selecting \"\"Image\"\" from the dropdown box. Note that any fair use images uploaded after 4 May, 2006, and lacking such an explanation will be deleted one week after they have been uploaded, as described on criteria for speedy deletion. If you have any questions please ask them at the Media copyright questions page. Thank you. (talk • contribs • ) \\nUnspecified source for Image:Wonju.jpg\\n\\nThanks for uploading Image:Wonju.jpg. I noticed that the file\\'s description page currently doesn\\'t specify who created the content, so the copyright status is unclear. If you did not create this file yourself, then you will need to specify the owner of the copyright. If you obtained it from a website, then a link to the website from which it was taken, together with a restatement of that website\\'s terms of use of its content, is usually sufficient information. However, if the copyright holder is different from the website\\'s publisher, then their copyright should also be acknowledged.\\n\\nAs well as adding the source, please add a proper copyright licensing tag if the file doesn\\'t have one already. If you created/took the picture, audio, or video then the  tag can be used to release it under the GFDL. If you believe the media meets the criteria at Wikipedia:Fair use, use a tag such as  or one of the other tags listed at Wikipedia:Image copyright tags#Fair use. See Wikipedia:Image copyright tags for the full list of copyright tags that you can use.\\n\\nIf you have uploaded other files, consider checking that you have specified their source and tagged them, too. You can find a list of files you have uploaded by following [ this link]. Unsourced and untagged images may be deleted one week after they have been tagged, as described on criteria for speedy deletion. If the image is copyrighted under a non-free license (per Wikipedia:Fair use) then the image will be deleted 48 hours after . If you have any questions please ask them at the Media copyright questions page. Thank you. (talk • contribs • ) \"'"
            ]
          },
          "metadata": {
            "tags": []
          },
          "execution_count": 39
        }
      ]
    },
    {
      "cell_type": "markdown",
      "metadata": {
        "id": "itqaYEXop-Tu"
      },
      "source": [
        "**Create a function to clean the text**"
      ]
    },
    {
      "cell_type": "code",
      "metadata": {
        "id": "Jolqo_EVoGSI"
      },
      "source": [
        "def clean_text(text):\n",
        "    text = text.lower()\n",
        "    text = re.sub(r\"what's\", \"what is \", text)\n",
        "    text = re.sub(r\"\\'s\", \" \", text)\n",
        "    text = re.sub(r\"\\'ve\", \" have \", text)\n",
        "    text = re.sub(r\"can't\", \"can not \", text)\n",
        "    text = re.sub(r\"n't\", \" not \", text)\n",
        "    text = re.sub(r\"i'm\", \"i am \", text)\n",
        "    text = re.sub(r\"\\'re\", \" are \", text)\n",
        "    text = re.sub(r\"\\'d\", \" would \", text)\n",
        "    text = re.sub(r\"\\'ll\", \" will \", text)\n",
        "    text = re.sub(r\"\\'scuse\", \" excuse \", text)\n",
        "    text = re.sub('\\W', ' ', text)\n",
        "    text = re.sub('\\s+', ' ', text)\n",
        "    text = text.strip(' ')\n",
        "    return text"
      ],
      "execution_count": null,
      "outputs": []
    },
    {
      "cell_type": "code",
      "metadata": {
        "id": "BeRtRvJGlqmr"
      },
      "source": [
        "df['comment_text'] = df['comment_text'].map(lambda com : clean_text(com))"
      ],
      "execution_count": null,
      "outputs": []
    },
    {
      "cell_type": "code",
      "metadata": {
        "id": "EcKeA5Z5qK9z",
        "outputId": "0a687481-c504-4fb4-d869-67de89f698db",
        "colab": {
          "base_uri": "https://localhost:8080/",
          "height": 52
        }
      },
      "source": [
        "df['comment_text'][0]"
      ],
      "execution_count": null,
      "outputs": [
        {
          "output_type": "execute_result",
          "data": {
            "application/vnd.google.colaboratory.intrinsic+json": {
              "type": "string"
            },
            "text/plain": [
              "'explanation why the edits made under my username hardcore metallica fan were reverted they were not vandalisms just closure on some gas after i voted at new york dolls fac and please do not remove the template from the talk page since i am retired now 89 205 38 27'"
            ]
          },
          "metadata": {
            "tags": []
          },
          "execution_count": 42
        }
      ]
    },
    {
      "cell_type": "code",
      "metadata": {
        "id": "VkM3x8zYqK53",
        "outputId": "ee2ce2a8-d8cc-41df-de05-8df6cd2bc669",
        "colab": {
          "base_uri": "https://localhost:8080/",
          "height": 137
        }
      },
      "source": [
        "df['comment_text'][10]"
      ],
      "execution_count": null,
      "outputs": [
        {
          "output_type": "execute_result",
          "data": {
            "application/vnd.google.colaboratory.intrinsic+json": {
              "type": "string"
            },
            "text/plain": [
              "'fair use rationale for image wonju jpg thanks for uploading image wonju jpg i notice the image page specifies that the image is being used under fair use but there is no explanation or rationale as to why its use in wikipedia articles constitutes fair use in addition to the boilerplate fair use template you must also write out on the image description page a specific explanation or rationale for why using this image in each article is consistent with fair use please go to the image description page and edit it to include a fair use rationale if you have uploaded other fair use media consider checking that you have specified the fair use rationale on those pages too you can find a list of image pages you have edited by clicking on the my contributions link it is located at the very top of any wikipedia page when you are logged in and then selecting image from the dropdown box note that any fair use images uploaded after 4 may 2006 and lacking such an explanation will be deleted one week after they have been uploaded as described on criteria for speedy deletion if you have any questions please ask them at the media copyright questions page thank you talk contribs unspecified source for image wonju jpg thanks for uploading image wonju jpg i noticed that the file description page currently does not specify who created the content so the copyright status is unclear if you did not create this file yourself then you will need to specify the owner of the copyright if you obtained it from a website then a link to the website from which it was taken together with a restatement of that website terms of use of its content is usually sufficient information however if the copyright holder is different from the website publisher then their copyright should also be acknowledged as well as adding the source please add a proper copyright licensing tag if the file does not have one already if you created took the picture audio or video then the tag can be used to release it under the gfdl if you believe the media meets the criteria at wikipedia fair use use a tag such as or one of the other tags listed at wikipedia image copyright tags fair use see wikipedia image copyright tags for the full list of copyright tags that you can use if you have uploaded other files consider checking that you have specified their source and tagged them too you can find a list of files you have uploaded by following this link unsourced and untagged images may be deleted one week after they have been tagged as described on criteria for speedy deletion if the image is copyrighted under a non free license per wikipedia fair use then the image will be deleted 48 hours after if you have any questions please ask them at the media copyright questions page thank you talk contribs'"
            ]
          },
          "metadata": {
            "tags": []
          },
          "execution_count": 43
        }
      ]
    },
    {
      "cell_type": "markdown",
      "metadata": {
        "id": "Kq0-4TRcqmcE"
      },
      "source": [
        "### Split to train and test sets"
      ]
    },
    {
      "cell_type": "code",
      "metadata": {
        "id": "-ZG1EyWTqK2n"
      },
      "source": [
        "train, test = train_test_split(df, random_state=42, test_size=0.33, shuffle=True)"
      ],
      "execution_count": null,
      "outputs": []
    },
    {
      "cell_type": "code",
      "metadata": {
        "id": "3BLwUSQiqKzU",
        "outputId": "28563961-9bf2-4cee-858b-75f120aeaffa",
        "colab": {
          "base_uri": "https://localhost:8080/",
          "height": 51
        }
      },
      "source": [
        "X_train = train.comment_text\n",
        "X_test = test.comment_text\n",
        "print(X_train.shape)\n",
        "print(X_test.shape)"
      ],
      "execution_count": null,
      "outputs": [
        {
          "output_type": "stream",
          "text": [
            "(106912,)\n",
            "(52659,)\n"
          ],
          "name": "stdout"
        }
      ]
    },
    {
      "cell_type": "markdown",
      "metadata": {
        "id": "yv3J4Nllq1bb"
      },
      "source": [
        "### OneVsRest multilabel strategy\n",
        "\n",
        "**Binary Relevance**  \n",
        "- In Binary Relevance, an ensemble of single-label binary classifiers is trained independently on the original dataset to predict a membership to each class.\n",
        "- Example: If there’s q labels, the binary relevance method create q new data sets from the dataset, one for each label and train single-label classifiers on each new data set.\n",
        "\n",
        "**One-vs-Rest**  \n",
        "- Here strategy involves training a single classifier per class, with the samples of that class as positive samples and all other samples as negatives.\n",
        "- It’s more or less similar to Binary Relevance except a fact that One-vsRest works on mutually exclusive labels.\n",
        "\n",
        "**Label Power Set**\n",
        "- This approach does take possible correlations between class labels into account meaning it maps each combination of labels into a single label and trains a single label classifier.\n",
        "- As the number of classes increases distinct label combinations grows exponentially.\n",
        "\n",
        "OneVsRest multilabel strategy are applied here.\n"
      ]
    },
    {
      "cell_type": "code",
      "metadata": {
        "id": "Ku-rF0PpqKwN"
      },
      "source": [
        "ModelsPerformance = {}\n",
        "\n",
        "def metricsReport(modelName, test_labels, predictions):\n",
        "    accuracy = accuracy_score(test_labels, predictions)\n",
        "\n",
        "    macro_precision = precision_score(test_labels, predictions, average='macro')\n",
        "    macro_recall = recall_score(test_labels, predictions, average='macro')\n",
        "    macro_f1 = f1_score(test_labels, predictions, average='macro')\n",
        "\n",
        "    micro_precision = precision_score(test_labels, predictions, average='micro')\n",
        "    micro_recall = recall_score(test_labels, predictions, average='micro')\n",
        "    micro_f1 = f1_score(test_labels, predictions, average='micro')\n",
        "    hamLoss = hamming_loss(test_labels, predictions)\n",
        "    print(\"------\" + modelName + \" Model Metrics-----\")\n",
        "    print(\"Accuracy: {:.4f}\\nHamming Loss: {:.4f}\\nPrecision:\\n  - Macro: {:.4f}\\n  - Micro: {:.4f}\\nRecall:\\n  - Macro: {:.4f}\\n  - Micro: {:.4f}\\nF1-measure:\\n  - Macro: {:.4f}\\n  - Micro: {:.4f}\"\\\n",
        "          .format(accuracy, hamLoss, macro_precision, micro_precision, macro_recall, micro_recall, macro_f1, micro_f1))\n",
        "    ModelsPerformance[modelName] = micro_f1"
      ],
      "execution_count": null,
      "outputs": []
    },
    {
      "cell_type": "markdown",
      "metadata": {
        "id": "nHKzFZ23rGpY"
      },
      "source": [
        "### Naive Bayes\n",
        "\n",
        "OneVsRest strategy can be used for multilabel learning, where a classifier is used to predict multiple labels for instance. Naive Bayes supports multi-class, but we are in a multi-label scenario, therefore, we wrapp Naive Bayes in the OneVsRestClassifier."
      ]
    },
    {
      "cell_type": "code",
      "metadata": {
        "id": "-L5S1Q4drNDz"
      },
      "source": [
        "categories = ['toxic', 'severe_toxic', 'obscene', 'threat', 'insult', 'identity_hate']"
      ],
      "execution_count": null,
      "outputs": []
    },
    {
      "cell_type": "code",
      "metadata": {
        "id": "GzBbCDuEqKs0",
        "outputId": "e14c7de7-2f80-4d96-d109-7d97aee3bd31",
        "colab": {
          "base_uri": "https://localhost:8080/",
          "height": 1000
        }
      },
      "source": [
        "# Define a pipeline combining a text feature extractor with multi lable classifier\n",
        "NB_pipeline = Pipeline([\n",
        "                ('tfidf', TfidfVectorizer(stop_words=stop_words)),\n",
        "                ('clf', OneVsRestClassifier(MultinomialNB(\n",
        "                    fit_prior=True, class_prior=None))),\n",
        "            ])\n",
        "\n",
        "for category in categories:\n",
        "    print('... Processing {}'.format(category))\n",
        "    # train the model using X_dtm & y\n",
        "    NB_pipeline.fit(X_train, train[category])\n",
        "    # compute the testing accuracy\n",
        "    prediction = NB_pipeline.predict(X_test)\n",
        "    metricsReport(\"Naive Bayes\", test[category], prediction)\n",
        "    print()"
      ],
      "execution_count": null,
      "outputs": [
        {
          "output_type": "stream",
          "text": [
            "... Processing toxic\n",
            "------Naive Bayes Model Metrics-----\n",
            "Accuracy: 0.9193\n",
            "Hamming Loss: 0.0807\n",
            "Precision:\n",
            "  - Macro: 0.9544\n",
            "  - Micro: 0.9193\n",
            "Recall:\n",
            "  - Macro: 0.5828\n",
            "  - Micro: 0.9193\n",
            "F1-measure:\n",
            "  - Macro: 0.6207\n",
            "  - Micro: 0.9193\n",
            "\n",
            "... Processing severe_toxic\n",
            "------Naive Bayes Model Metrics-----\n",
            "Accuracy: 0.9900\n",
            "Hamming Loss: 0.0100\n",
            "Precision:\n",
            "  - Macro: 0.4950\n",
            "  - Micro: 0.9900\n",
            "Recall:\n",
            "  - Macro: 0.5000\n",
            "  - Micro: 0.9900\n",
            "F1-measure:\n",
            "  - Macro: 0.4975\n",
            "  - Micro: 0.9900\n",
            "\n",
            "... Processing obscene\n",
            "------Naive Bayes Model Metrics-----\n",
            "Accuracy: 0.9516\n",
            "Hamming Loss: 0.0484\n",
            "Precision:\n",
            "  - Macro: 0.9688\n",
            "  - Micro: 0.9516\n",
            "Recall:\n",
            "  - Macro: 0.5506\n",
            "  - Micro: 0.9516\n",
            "F1-measure:\n",
            "  - Macro: 0.5795\n",
            "  - Micro: 0.9516\n",
            "\n",
            "... Processing threat\n",
            "------Naive Bayes Model Metrics-----\n",
            "Accuracy: 0.9971\n",
            "Hamming Loss: 0.0029\n",
            "Precision:\n",
            "  - Macro: 0.9986\n",
            "  - Micro: 0.9971\n",
            "Recall:\n",
            "  - Macro: 0.5033\n",
            "  - Micro: 0.9971\n",
            "F1-measure:\n",
            "  - Macro: 0.5058\n",
            "  - Micro: 0.9971\n",
            "\n",
            "... Processing insult\n",
            "------Naive Bayes Model Metrics-----\n",
            "Accuracy: 0.9517\n",
            "Hamming Loss: 0.0483\n",
            "Precision:\n",
            "  - Macro: 0.9664\n",
            "  - Micro: 0.9517\n",
            "Recall:\n",
            "  - Macro: 0.5197\n",
            "  - Micro: 0.9517\n",
            "F1-measure:\n",
            "  - Macro: 0.5254\n",
            "  - Micro: 0.9517\n",
            "\n",
            "... Processing identity_hate\n",
            "------Naive Bayes Model Metrics-----\n",
            "Accuracy: 0.9910\n",
            "Hamming Loss: 0.0090\n",
            "Precision:\n",
            "  - Macro: 0.4955\n",
            "  - Micro: 0.9910\n",
            "Recall:\n",
            "  - Macro: 0.5000\n",
            "  - Micro: 0.9910\n",
            "F1-measure:\n",
            "  - Macro: 0.4977\n",
            "  - Micro: 0.9910\n",
            "\n"
          ],
          "name": "stdout"
        }
      ]
    },
    {
      "cell_type": "markdown",
      "metadata": {
        "id": "TRefXvDHr9pB"
      },
      "source": [
        "### LinearSVC"
      ]
    },
    {
      "cell_type": "code",
      "metadata": {
        "id": "JrpxDrUBqKo8",
        "outputId": "8e65149f-2a7d-4371-84eb-65e8fc3d9de5",
        "colab": {
          "base_uri": "https://localhost:8080/",
          "height": 1000
        }
      },
      "source": [
        "SVC_pipeline = Pipeline([\n",
        "                ('tfidf', TfidfVectorizer(stop_words=stop_words)),\n",
        "                ('clf', OneVsRestClassifier(LinearSVC(), n_jobs=1)),])\n",
        "\n",
        "\n",
        "for category in categories:\n",
        "    print('... Processing {}'.format(category))\n",
        "    # train the model using X_dtm & y\n",
        "    SVC_pipeline.fit(X_train, train[category])\n",
        "    # compute the testing accuracy\n",
        "    prediction = SVC_pipeline.predict(X_test)\n",
        "    metricsReport(\"LinearSVC\", test[category], prediction)\n",
        "    print()"
      ],
      "execution_count": null,
      "outputs": [
        {
          "output_type": "stream",
          "text": [
            "... Processing toxic\n",
            "------LinearSVC Model Metrics-----\n",
            "Accuracy: 0.9599\n",
            "Hamming Loss: 0.0401\n",
            "Precision:\n",
            "  - Macro: 0.9202\n",
            "  - Micro: 0.9599\n",
            "Recall:\n",
            "  - Macro: 0.8367\n",
            "  - Micro: 0.9599\n",
            "F1-measure:\n",
            "  - Macro: 0.8726\n",
            "  - Micro: 0.9599\n",
            "\n",
            "... Processing severe_toxic\n",
            "------LinearSVC Model Metrics-----\n",
            "Accuracy: 0.9906\n",
            "Hamming Loss: 0.0094\n",
            "Precision:\n",
            "  - Macro: 0.7778\n",
            "  - Micro: 0.9906\n",
            "Recall:\n",
            "  - Macro: 0.6396\n",
            "  - Micro: 0.9906\n",
            "F1-measure:\n",
            "  - Macro: 0.6852\n",
            "  - Micro: 0.9906\n",
            "\n",
            "... Processing obscene\n",
            "------LinearSVC Model Metrics-----\n",
            "Accuracy: 0.9789\n",
            "Hamming Loss: 0.0211\n",
            "Precision:\n",
            "  - Macro: 0.9350\n",
            "  - Micro: 0.9789\n",
            "Recall:\n",
            "  - Macro: 0.8454\n",
            "  - Micro: 0.9789\n",
            "F1-measure:\n",
            "  - Macro: 0.8844\n",
            "  - Micro: 0.9789\n",
            "\n",
            "... Processing threat\n",
            "------LinearSVC Model Metrics-----\n",
            "Accuracy: 0.9975\n",
            "Hamming Loss: 0.0025\n",
            "Precision:\n",
            "  - Macro: 0.8215\n",
            "  - Micro: 0.9975\n",
            "Recall:\n",
            "  - Macro: 0.6314\n",
            "  - Micro: 0.9975\n",
            "F1-measure:\n",
            "  - Macro: 0.6863\n",
            "  - Micro: 0.9975\n",
            "\n",
            "... Processing insult\n",
            "------LinearSVC Model Metrics-----\n",
            "Accuracy: 0.9714\n",
            "Hamming Loss: 0.0286\n",
            "Precision:\n",
            "  - Macro: 0.8873\n",
            "  - Micro: 0.9714\n",
            "Recall:\n",
            "  - Macro: 0.7850\n",
            "  - Micro: 0.9714\n",
            "F1-measure:\n",
            "  - Macro: 0.8274\n",
            "  - Micro: 0.9714\n",
            "\n",
            "... Processing identity_hate\n",
            "------LinearSVC Model Metrics-----\n",
            "Accuracy: 0.9920\n",
            "Hamming Loss: 0.0080\n",
            "Precision:\n",
            "  - Macro: 0.8166\n",
            "  - Micro: 0.9920\n",
            "Recall:\n",
            "  - Macro: 0.6183\n",
            "  - Micro: 0.9920\n",
            "F1-measure:\n",
            "  - Macro: 0.6714\n",
            "  - Micro: 0.9920\n",
            "\n"
          ],
          "name": "stdout"
        }
      ]
    },
    {
      "cell_type": "markdown",
      "metadata": {
        "id": "IeNR6tnXsNwK"
      },
      "source": [
        "### Logistic Regression"
      ]
    },
    {
      "cell_type": "code",
      "metadata": {
        "id": "uay_MMB3q6qY",
        "outputId": "a93f3d2a-187b-439b-a988-737774fdcaa4",
        "colab": {
          "base_uri": "https://localhost:8080/",
          "height": 1000
        }
      },
      "source": [
        "LogReg_pipeline = Pipeline([('tfidf', TfidfVectorizer(stop_words=stop_words)),\n",
        "                            ('clf', OneVsRestClassifier(LogisticRegression(solver='sag'), n_jobs=1))\n",
        "                           ])\n",
        "\n",
        "for category in categories:\n",
        "    print('... Processing {}'.format(category))\n",
        "    # train the model using X_dtm & y\n",
        "    LogReg_pipeline.fit(X_train, train[category])\n",
        "    # compute the testing accuracy\n",
        "    prediction = LogReg_pipeline.predict(X_test)\n",
        "    metricsReport(\"LogisticRegression\", test[category], prediction)\n",
        "    print()"
      ],
      "execution_count": null,
      "outputs": [
        {
          "output_type": "stream",
          "text": [
            "... Processing toxic\n",
            "------LogisticRegression Model Metrics-----\n",
            "Accuracy: 0.9549\n",
            "Hamming Loss: 0.0451\n",
            "Precision:\n",
            "  - Macro: 0.9432\n",
            "  - Micro: 0.9549\n",
            "Recall:\n",
            "  - Macro: 0.7860\n",
            "  - Micro: 0.9549\n",
            "F1-measure:\n",
            "  - Macro: 0.8437\n",
            "  - Micro: 0.9549\n",
            "\n",
            "... Processing severe_toxic\n",
            "------LogisticRegression Model Metrics-----\n",
            "Accuracy: 0.9911\n",
            "Hamming Loss: 0.0089\n",
            "Precision:\n",
            "  - Macro: 0.8102\n",
            "  - Micro: 0.9911\n",
            "Recall:\n",
            "  - Macro: 0.6276\n",
            "  - Micro: 0.9911\n",
            "F1-measure:\n",
            "  - Macro: 0.6799\n",
            "  - Micro: 0.9911\n",
            "\n",
            "... Processing obscene\n",
            "------LogisticRegression Model Metrics-----\n",
            "Accuracy: 0.9761\n",
            "Hamming Loss: 0.0239\n",
            "Precision:\n",
            "  - Macro: 0.9528\n",
            "  - Micro: 0.9761\n",
            "Recall:\n",
            "  - Macro: 0.8000\n",
            "  - Micro: 0.9761\n",
            "F1-measure:\n",
            "  - Macro: 0.8591\n",
            "  - Micro: 0.9761\n",
            "\n",
            "... Processing threat\n",
            "------LogisticRegression Model Metrics-----\n",
            "Accuracy: 0.9974\n",
            "Hamming Loss: 0.0026\n",
            "Precision:\n",
            "  - Macro: 0.8536\n",
            "  - Micro: 0.9974\n",
            "Recall:\n",
            "  - Macro: 0.5723\n",
            "  - Micro: 0.9974\n",
            "F1-measure:\n",
            "  - Macro: 0.6196\n",
            "  - Micro: 0.9974\n",
            "\n",
            "... Processing insult\n",
            "------LogisticRegression Model Metrics-----\n",
            "Accuracy: 0.9688\n",
            "Hamming Loss: 0.0312\n",
            "Precision:\n",
            "  - Macro: 0.8976\n",
            "  - Micro: 0.9688\n",
            "Recall:\n",
            "  - Macro: 0.7383\n",
            "  - Micro: 0.9688\n",
            "F1-measure:\n",
            "  - Macro: 0.7957\n",
            "  - Micro: 0.9688\n",
            "\n",
            "... Processing identity_hate\n",
            "------LogisticRegression Model Metrics-----\n",
            "Accuracy: 0.9918\n",
            "Hamming Loss: 0.0082\n",
            "Precision:\n",
            "  - Macro: 0.8396\n",
            "  - Micro: 0.9918\n",
            "Recall:\n",
            "  - Macro: 0.5719\n",
            "  - Micro: 0.9918\n",
            "F1-measure:\n",
            "  - Macro: 0.6172\n",
            "  - Micro: 0.9918\n",
            "\n"
          ],
          "name": "stdout"
        }
      ]
    },
    {
      "cell_type": "markdown",
      "metadata": {
        "id": "lEs6WWE7saus"
      },
      "source": [
        "### Bagging Classifier"
      ]
    },
    {
      "cell_type": "code",
      "metadata": {
        "id": "E0eIMpc_q6l8",
        "outputId": "034f30e4-e00f-4499-87de-dafecc8580ff",
        "colab": {
          "base_uri": "https://localhost:8080/",
          "height": 1000
        }
      },
      "source": [
        "bag_pipeline = Pipeline([\n",
        "                ('tfidf', TfidfVectorizer(stop_words=stop_words)),\n",
        "                ('clf', OneVsRestClassifier(BaggingClassifier(n_jobs=-1))),\n",
        "                 ])\n",
        "\n",
        "for category in categories:\n",
        "    print('... Processing {}'.format(category))\n",
        "    # train the model using X_dtm & y\n",
        "    bag_pipeline.fit(X_train, train[category])\n",
        "    # compute the testing accuracy\n",
        "    prediction = bag_pipeline.predict(X_test)\n",
        "    metricsReport(\"Bagging\", test[category], prediction)\n",
        "    print()"
      ],
      "execution_count": null,
      "outputs": [
        {
          "output_type": "stream",
          "text": [
            "... Processing toxic\n",
            "------Bagging Model Metrics-----\n",
            "Accuracy: 0.9518\n",
            "Hamming Loss: 0.0482\n",
            "Precision:\n",
            "  - Macro: 0.8775\n",
            "  - Micro: 0.9518\n",
            "Recall:\n",
            "  - Macro: 0.8327\n",
            "  - Micro: 0.9518\n",
            "F1-measure:\n",
            "  - Macro: 0.8532\n",
            "  - Micro: 0.9518\n",
            "\n",
            "... Processing severe_toxic\n",
            "------Bagging Model Metrics-----\n",
            "Accuracy: 0.9892\n",
            "Hamming Loss: 0.0108\n",
            "Precision:\n",
            "  - Macro: 0.6933\n",
            "  - Micro: 0.9892\n",
            "Recall:\n",
            "  - Macro: 0.5758\n",
            "  - Micro: 0.9892\n",
            "F1-measure:\n",
            "  - Macro: 0.6081\n",
            "  - Micro: 0.9892\n",
            "\n",
            "... Processing obscene\n",
            "------Bagging Model Metrics-----\n",
            "Accuracy: 0.9779\n",
            "Hamming Loss: 0.0221\n",
            "Precision:\n",
            "  - Macro: 0.9025\n",
            "  - Micro: 0.9779\n",
            "Recall:\n",
            "  - Macro: 0.8730\n",
            "  - Micro: 0.9779\n",
            "F1-measure:\n",
            "  - Macro: 0.8871\n",
            "  - Micro: 0.9779\n",
            "\n",
            "... Processing threat\n",
            "------Bagging Model Metrics-----\n",
            "Accuracy: 0.9972\n",
            "Hamming Loss: 0.0028\n",
            "Precision:\n",
            "  - Macro: 0.7807\n",
            "  - Micro: 0.9972\n",
            "Recall:\n",
            "  - Macro: 0.6017\n",
            "  - Micro: 0.9972\n",
            "F1-measure:\n",
            "  - Macro: 0.6491\n",
            "  - Micro: 0.9972\n",
            "\n",
            "... Processing insult\n",
            "------Bagging Model Metrics-----\n",
            "Accuracy: 0.9675\n",
            "Hamming Loss: 0.0325\n",
            "Precision:\n",
            "  - Macro: 0.8408\n",
            "  - Micro: 0.9675\n",
            "Recall:\n",
            "  - Macro: 0.7992\n",
            "  - Micro: 0.9675\n",
            "F1-measure:\n",
            "  - Macro: 0.8185\n",
            "  - Micro: 0.9675\n",
            "\n",
            "... Processing identity_hate\n",
            "------Bagging Model Metrics-----\n",
            "Accuracy: 0.9918\n",
            "Hamming Loss: 0.0082\n",
            "Precision:\n",
            "  - Macro: 0.7886\n",
            "  - Micro: 0.9918\n",
            "Recall:\n",
            "  - Macro: 0.6361\n",
            "  - Micro: 0.9918\n",
            "F1-measure:\n",
            "  - Macro: 0.6843\n",
            "  - Micro: 0.9918\n",
            "\n"
          ],
          "name": "stdout"
        }
      ]
    },
    {
      "cell_type": "code",
      "metadata": {
        "id": "hTYYwz-jq6h0",
        "outputId": "af6584ec-7039-42e7-99e0-643f232e885e",
        "colab": {
          "base_uri": "https://localhost:8080/",
          "height": 278
        }
      },
      "source": [
        "df_summary = pd.DataFrame({'Model name':['Naive Bayes', 'Linear SVC','Logistic Regression', 'Bagging Classifier'], \n",
        "                           'toxic(Macro-F1)':[0.62, 0.87, 0.84,0.85], 'toxic(Micro-F1)':[0.91, 0.95, 0.95, 0.95],\n",
        "                           'severe_toxic(Macro-F1)':[0.49, 0.68, 0.67, 0.60 ], 'severe_toxic(Micro-F1)':[0.99, 0.99, 0.99, 0.98],\n",
        "                           'obscene(Macro-F1)':[0.57, 0.88, 0.85, 0.88], 'obscene(Micro-F1)':[0.95,0.97, 0.97, 0.97],\n",
        "                           'threat(Macro-F1)':[0.50, 0.68, 0.61, 0.64], 'threat(Micro-F1)':[0.99, 0.99,0.99, 0.99],\n",
        "                           'insult(Macro-F1)':[0.52, 0.82, 0.79, 0.81], 'insult(Micro-F1)':[0.95,0.97, 0.96, 0.96],\n",
        "                           'identity_hate(Macro-F1)':[0.49,0.67, 0.61,0.68], 'identity_hate(Macro-F1)':[0.99,0.99, 0.99, 0.99]\n",
        "})\n",
        "df_summary"
      ],
      "execution_count": null,
      "outputs": [
        {
          "output_type": "execute_result",
          "data": {
            "text/html": [
              "<div>\n",
              "<style scoped>\n",
              "    .dataframe tbody tr th:only-of-type {\n",
              "        vertical-align: middle;\n",
              "    }\n",
              "\n",
              "    .dataframe tbody tr th {\n",
              "        vertical-align: top;\n",
              "    }\n",
              "\n",
              "    .dataframe thead th {\n",
              "        text-align: right;\n",
              "    }\n",
              "</style>\n",
              "<table border=\"1\" class=\"dataframe\">\n",
              "  <thead>\n",
              "    <tr style=\"text-align: right;\">\n",
              "      <th></th>\n",
              "      <th>Model name</th>\n",
              "      <th>toxic(Macro-F1)</th>\n",
              "      <th>toxic(Micro-F1)</th>\n",
              "      <th>severe_toxic(Macro-F1)</th>\n",
              "      <th>severe_toxic(Micro-F1)</th>\n",
              "      <th>obscene(Macro-F1)</th>\n",
              "      <th>obscene(Micro-F1)</th>\n",
              "      <th>threat(Macro-F1)</th>\n",
              "      <th>threat(Micro-F1)</th>\n",
              "      <th>insult(Macro-F1)</th>\n",
              "      <th>insult(Micro-F1)</th>\n",
              "      <th>identity_hate(Macro-F1)</th>\n",
              "    </tr>\n",
              "  </thead>\n",
              "  <tbody>\n",
              "    <tr>\n",
              "      <th>0</th>\n",
              "      <td>Naive Bayes</td>\n",
              "      <td>0.62</td>\n",
              "      <td>0.91</td>\n",
              "      <td>0.49</td>\n",
              "      <td>0.99</td>\n",
              "      <td>0.57</td>\n",
              "      <td>0.95</td>\n",
              "      <td>0.50</td>\n",
              "      <td>0.99</td>\n",
              "      <td>0.52</td>\n",
              "      <td>0.95</td>\n",
              "      <td>0.99</td>\n",
              "    </tr>\n",
              "    <tr>\n",
              "      <th>1</th>\n",
              "      <td>Linear SVC</td>\n",
              "      <td>0.87</td>\n",
              "      <td>0.95</td>\n",
              "      <td>0.68</td>\n",
              "      <td>0.99</td>\n",
              "      <td>0.88</td>\n",
              "      <td>0.97</td>\n",
              "      <td>0.68</td>\n",
              "      <td>0.99</td>\n",
              "      <td>0.82</td>\n",
              "      <td>0.97</td>\n",
              "      <td>0.99</td>\n",
              "    </tr>\n",
              "    <tr>\n",
              "      <th>2</th>\n",
              "      <td>Logistic Regression</td>\n",
              "      <td>0.84</td>\n",
              "      <td>0.95</td>\n",
              "      <td>0.67</td>\n",
              "      <td>0.99</td>\n",
              "      <td>0.85</td>\n",
              "      <td>0.97</td>\n",
              "      <td>0.61</td>\n",
              "      <td>0.99</td>\n",
              "      <td>0.79</td>\n",
              "      <td>0.96</td>\n",
              "      <td>0.99</td>\n",
              "    </tr>\n",
              "    <tr>\n",
              "      <th>3</th>\n",
              "      <td>Bagging Classifier</td>\n",
              "      <td>0.85</td>\n",
              "      <td>0.95</td>\n",
              "      <td>0.60</td>\n",
              "      <td>0.98</td>\n",
              "      <td>0.88</td>\n",
              "      <td>0.97</td>\n",
              "      <td>0.64</td>\n",
              "      <td>0.99</td>\n",
              "      <td>0.81</td>\n",
              "      <td>0.96</td>\n",
              "      <td>0.99</td>\n",
              "    </tr>\n",
              "  </tbody>\n",
              "</table>\n",
              "</div>"
            ],
            "text/plain": [
              "            Model name  ...  identity_hate(Macro-F1)\n",
              "0          Naive Bayes  ...                     0.99\n",
              "1           Linear SVC  ...                     0.99\n",
              "2  Logistic Regression  ...                     0.99\n",
              "3   Bagging Classifier  ...                     0.99\n",
              "\n",
              "[4 rows x 12 columns]"
            ]
          },
          "metadata": {
            "tags": []
          },
          "execution_count": 66
        }
      ]
    },
    {
      "cell_type": "markdown",
      "metadata": {
        "id": "1XT6GA2DyrCz"
      },
      "source": [
        "Based on the results we can see that Linear SVC has the best performance.\n",
        "\n",
        "Here We have compared various Machine learning based classifiers for Multi-label text classification with TF-IDF feature extraction.\n",
        "\n",
        "Next Steps:\n",
        "We will use Deep learning based approaches (LSTM)"
      ]
    },
    {
      "cell_type": "markdown",
      "metadata": {
        "id": "p3s7fBQ7smI_"
      },
      "source": [
        "# <font color=red>**Part-2 Multi label text classification with Keras** </font>"
      ]
    },
    {
      "cell_type": "code",
      "metadata": {
        "id": "BLg30pGOIfpV"
      },
      "source": [
        "y = df[categories].values\n",
        "trainComments = df[\"comment_text\"]"
      ],
      "execution_count": null,
      "outputs": []
    },
    {
      "cell_type": "markdown",
      "metadata": {
        "id": "julxPruYQTlS"
      },
      "source": [
        "## data preprocessing"
      ]
    },
    {
      "cell_type": "markdown",
      "metadata": {
        "id": "RIESyBeFPlJd"
      },
      "source": [
        "Before feeding data from raw dataset (sentences) into the model, it has\n",
        "to be preprocessed by:\n",
        "\n",
        "1. Tokenization - We need to break down the sentence into unique words. For eg, \"I love cats and love dogs\" will become [\"I\",\"love\",\"cats\",\"and\",\"dogs\"].  \n",
        "2. Indexing - We put the words in a dictionary-like structure and give them an index each For eg, {1:\"I\",2:\"love\",3:\"cats\",4:\"and\",5:\"dogs\"}.  \n",
        "3. Text to Sequence, which represents the sequence of words in the comments\n",
        "in the form of index, and feed this series of index into LSTM model. eg, [1,2,3,4,2,5].\n",
        "\n",
        "Some comments looks like very long, some just few words. It looks like:\n",
        "   \n",
        "  Comment #1: [7,8,9,3,7,3,6,3,6,3,6,2,3,4,9, 10, 11]\n",
        "  \n",
        "  Comment #2: [1,2,5]\n",
        "\n",
        "we have to feed a stream of data that has a consistent length(fixed number of features),  we will use padding. It could make the shorter sentences as long as the others by filling the shortfall by zeros. On the other hand,  It could trim the longer ones to the same length(maxlen) as the short ones."
      ]
    },
    {
      "cell_type": "code",
      "metadata": {
        "id": "1DnDlPrIKDgR"
      },
      "source": [
        "max_features = 20000\n",
        "tok = Tokenizer(num_words=max_features)\n",
        "tok.fit_on_texts(list(trainComments))\n",
        "trainComments_tokenized = tok.texts_to_sequences(trainComments)\n",
        "\n",
        "maxlen = 200\n",
        "X_t = pad_sequences(trainComments_tokenized, maxlen=maxlen)"
      ],
      "execution_count": null,
      "outputs": []
    },
    {
      "cell_type": "markdown",
      "metadata": {
        "id": "fuVAmfgAVc7m"
      },
      "source": [
        "## Neural Network Construction"
      ]
    },
    {
      "cell_type": "markdown",
      "metadata": {
        "id": "N5So8unsBS_4"
      },
      "source": [
        "1. Use an embedding layer to project each integer word index to a vector space, which training will adjust so that more closely associated words are closer in space.  \n",
        "2. These vectors serve as input to a long short-term memory RNN layer. This layer represents a neural network with memory which is capable of classifying long sequences of data, such as our embedded comments.   \n",
        "3. We then use a pooling layer to reduce the LSTM's 3d output to 2D. \n",
        "4. and pass it through a standard neural network, which consists of two dense layers and two 1/10 dropout layers. We use the sigmoid activation function on the final layer to recieve 6 outputs between 0 and 1.\n",
        "5. and use the binary_crossentropy loss function, as each of the 6 outputs is a binary classification. \n",
        "6. We create an early-stopping callback so that training can be stopped after a single epoch if loss stopps decreasing."
      ]
    },
    {
      "cell_type": "code",
      "metadata": {
        "id": "bc4r0p1jLw8M",
        "outputId": "98c28212-5700-4f28-e159-dc5a2154af55",
        "colab": {
          "base_uri": "https://localhost:8080/",
          "height": 425
        }
      },
      "source": [
        "#input layer for an arbitrary number of comments of length commentLen\n",
        "input = Input(shape=(maxlen, ))\n",
        "#project words to coordinate vector space\n",
        "x = Embedding(max_features, 128)(input)\n",
        "#stateful recurrent neural network\n",
        "x = LSTM(60, return_sequences = True, name = \"lstm\")(x)\n",
        "#reduce 3d vector space output to 2d\n",
        "x = GlobalMaxPool1D()(x)\n",
        "#drop 1/10 nodes to improve generalization\n",
        "x = Dropout(0.1)(x)\n",
        "#standard nn\n",
        "x = Dense(50, activation='relu')(x)\n",
        "#drop again\n",
        "x = Dropout(rate=0.1)(x)\n",
        "#standard nn, sigmoid for values between 0 and 1\n",
        "x = Dense(6, activation='sigmoid')(x)\n",
        "model = Model(inputs=input, outputs=x)\n",
        "model.compile(loss='binary_crossentropy', optimizer='adam', metrics=['accuracy'])\n",
        "model.summary()\n",
        "earlyStoppingCallback = [EarlyStopping(monitor='val_loss', min_delta=0, mode='min', restore_best_weights=True)]"
      ],
      "execution_count": null,
      "outputs": [
        {
          "output_type": "stream",
          "text": [
            "Model: \"functional_3\"\n",
            "_________________________________________________________________\n",
            "Layer (type)                 Output Shape              Param #   \n",
            "=================================================================\n",
            "input_2 (InputLayer)         [(None, 200)]             0         \n",
            "_________________________________________________________________\n",
            "embedding_1 (Embedding)      (None, 200, 128)          2560000   \n",
            "_________________________________________________________________\n",
            "lstm (LSTM)                  (None, 200, 60)           45360     \n",
            "_________________________________________________________________\n",
            "global_max_pooling1d_1 (Glob (None, 60)                0         \n",
            "_________________________________________________________________\n",
            "dropout_2 (Dropout)          (None, 60)                0         \n",
            "_________________________________________________________________\n",
            "dense_2 (Dense)              (None, 50)                3050      \n",
            "_________________________________________________________________\n",
            "dropout_3 (Dropout)          (None, 50)                0         \n",
            "_________________________________________________________________\n",
            "dense_3 (Dense)              (None, 6)                 306       \n",
            "=================================================================\n",
            "Total params: 2,608,716\n",
            "Trainable params: 2,608,716\n",
            "Non-trainable params: 0\n",
            "_________________________________________________________________\n"
          ],
          "name": "stdout"
        }
      ]
    },
    {
      "cell_type": "markdown",
      "metadata": {
        "id": "GAXejRklRnUj"
      },
      "source": [
        "## Building the model"
      ]
    },
    {
      "cell_type": "code",
      "metadata": {
        "id": "X8VnDq54BGo4",
        "outputId": "a4f0d5f2-4b63-44c3-d170-fa733ab37ae7",
        "colab": {
          "base_uri": "https://localhost:8080/",
          "height": 102
        }
      },
      "source": [
        "model.fit(X_t, y, batch_size=32, epochs=2, validation_split=.1, callbacks=earlyStoppingCallback)"
      ],
      "execution_count": null,
      "outputs": [
        {
          "output_type": "stream",
          "text": [
            "Epoch 1/2\n",
            "4488/4488 [==============================] - 685s 153ms/step - loss: 0.0682 - accuracy: 0.9538 - val_loss: 0.0494 - val_accuracy: 0.9940\n",
            "Epoch 2/2\n",
            "4488/4488 [==============================] - 683s 152ms/step - loss: 0.0450 - accuracy: 0.9887 - val_loss: 0.0472 - val_accuracy: 0.9919\n"
          ],
          "name": "stdout"
        },
        {
          "output_type": "execute_result",
          "data": {
            "text/plain": [
              "<tensorflow.python.keras.callbacks.History at 0x7f7a1bc19da0>"
            ]
          },
          "metadata": {
            "tags": []
          },
          "execution_count": 75
        }
      ]
    },
    {
      "cell_type": "code",
      "metadata": {
        "id": "CEuWwVsdBeaK"
      },
      "source": [
        "preds = model.predict(X_t[:500])"
      ],
      "execution_count": null,
      "outputs": []
    },
    {
      "cell_type": "markdown",
      "metadata": {
        "id": "4OmA274ABvSG"
      },
      "source": [
        "## Prediction\n"
      ]
    },
    {
      "cell_type": "code",
      "metadata": {
        "id": "N4xq8uLYBuIR",
        "outputId": "7ca6c85e-4301-4ff0-f71b-5927a8d06889",
        "colab": {
          "base_uri": "https://localhost:8080/",
          "height": 122
        }
      },
      "source": [
        "print(trainComments[0])\n",
        "print(preds[0])\n",
        "print(trainComments[55])\n",
        "print(preds[55])"
      ],
      "execution_count": null,
      "outputs": [
        {
          "output_type": "stream",
          "text": [
            "explanation why the edits made under my username hardcore metallica fan were reverted they were not vandalisms just closure on some gas after i voted at new york dolls fac and please do not remove the template from the talk page since i am retired now 89 205 38 27\n",
            "[4.9895048e-04 3.8998101e-07 1.2922287e-04 1.3563134e-06 3.3418553e-05\n",
            " 1.6178661e-05]\n",
            "stupid peace of shit stop deleting my stuff asshole go die and fall in a hole go to hell\n",
            "[0.99933666 0.5096289  0.97274256 0.15241978 0.9103379  0.3843939 ]\n"
          ],
          "name": "stdout"
        }
      ]
    },
    {
      "cell_type": "code",
      "metadata": {
        "id": "6fBS1V3uBeSp",
        "outputId": "795480e3-1ed9-4003-f397-4c2a6a2037b8",
        "colab": {
          "base_uri": "https://localhost:8080/",
          "height": 51
        }
      },
      "source": [
        "print(y[0])\n",
        "print(y[55])"
      ],
      "execution_count": null,
      "outputs": [
        {
          "output_type": "stream",
          "text": [
            "[0 0 0 0 0 0]\n",
            "[1 1 1 0 1 0]\n"
          ],
          "name": "stdout"
        }
      ]
    },
    {
      "cell_type": "code",
      "metadata": {
        "id": "0WxbgH4qBeO3"
      },
      "source": [
        ""
      ],
      "execution_count": null,
      "outputs": []
    },
    {
      "cell_type": "code",
      "metadata": {
        "id": "HC08kJUeBeIP"
      },
      "source": [
        ""
      ],
      "execution_count": null,
      "outputs": []
    },
    {
      "cell_type": "code",
      "metadata": {
        "id": "JCgxvhytBGQS"
      },
      "source": [
        ""
      ],
      "execution_count": null,
      "outputs": []
    }
  ]
}