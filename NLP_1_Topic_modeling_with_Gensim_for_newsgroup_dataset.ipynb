{
  "nbformat": 4,
  "nbformat_minor": 0,
  "metadata": {
    "colab": {
      "name": "NLP-1 Topic modeling with Gensim for newsgroup dataset.ipynb",
      "provenance": [],
      "collapsed_sections": [],
      "authorship_tag": "ABX9TyODCvKKco+28DreG450G3R3",
      "include_colab_link": true
    },
    "kernelspec": {
      "name": "python3",
      "display_name": "Python 3"
    },
    "accelerator": "GPU"
  },
  "cells": [
    {
      "cell_type": "markdown",
      "metadata": {
        "id": "view-in-github",
        "colab_type": "text"
      },
      "source": [
        "<a href=\"https://colab.research.google.com/github/fulllz/DSProjects/blob/main/NLP_1_Topic_modeling_with_Gensim_for_newsgroup_dataset.ipynb\" target=\"_parent\"><img src=\"https://colab.research.google.com/assets/colab-badge.svg\" alt=\"Open In Colab\"/></a>"
      ]
    },
    {
      "cell_type": "markdown",
      "metadata": {
        "id": "eQ3SXFlV9BvU"
      },
      "source": [
        "## Introduction  \r\n",
        "Topic modeling is one kind of unsupervised machine learning. It is a form of dimensionality reduction. We can extract the hidden topics from large volumes of text by Topic modeling. Topic models are useful for purpose of document clustering, organizing large blocks of textual data, information retrieval from unstructured text and feature selection.\r\n",
        "\r\n",
        "Finding good topics depends on the quality of text processing , the choice of the topic modeling algorithm, the number of topics specified in the algorithm. There are several existing algorithms but here we will focus on Latent Dirichlet Allocation(LDA). LDA is the most popular method for doing topic modeling in real-world applications. It considers each document as a collection of topics and each topic as collection of keywords. Once you provide the algorithm with number of topics all it does is to rearrange the topic distribution within documents and key word distribution within the topics to obtain good composition of topic-keyword distribution."
      ]
    },
    {
      "cell_type": "code",
      "metadata": {
        "colab": {
          "base_uri": "https://localhost:8080/"
        },
        "id": "DakgtR0nRqrE",
        "outputId": "037accbf-adc3-4ff6-f084-dcb9f1b5dd25"
      },
      "source": [
        "!pip install pyLDAvis"
      ],
      "execution_count": null,
      "outputs": [
        {
          "output_type": "stream",
          "text": [
            "Requirement already satisfied: pyLDAvis in /usr/local/lib/python3.7/dist-packages (3.2.2)\n",
            "Requirement already satisfied: future in /usr/local/lib/python3.7/dist-packages (from pyLDAvis) (0.16.0)\n",
            "Requirement already satisfied: wheel>=0.23.0 in /usr/local/lib/python3.7/dist-packages (from pyLDAvis) (0.36.2)\n",
            "Requirement already satisfied: jinja2>=2.7.2 in /usr/local/lib/python3.7/dist-packages (from pyLDAvis) (2.11.3)\n",
            "Requirement already satisfied: numpy>=1.9.2 in /usr/local/lib/python3.7/dist-packages (from pyLDAvis) (1.19.5)\n",
            "Requirement already satisfied: funcy in /usr/local/lib/python3.7/dist-packages (from pyLDAvis) (1.15)\n",
            "Requirement already satisfied: numexpr in /usr/local/lib/python3.7/dist-packages (from pyLDAvis) (2.7.2)\n",
            "Requirement already satisfied: joblib>=0.8.4 in /usr/local/lib/python3.7/dist-packages (from pyLDAvis) (1.0.1)\n",
            "Requirement already satisfied: scipy>=0.18.0 in /usr/local/lib/python3.7/dist-packages (from pyLDAvis) (1.4.1)\n",
            "Requirement already satisfied: pandas>=0.17.0; python_version > \"3.5\" in /usr/local/lib/python3.7/dist-packages (from pyLDAvis) (1.1.5)\n",
            "Requirement already satisfied: MarkupSafe>=0.23 in /usr/local/lib/python3.7/dist-packages (from jinja2>=2.7.2->pyLDAvis) (1.1.1)\n",
            "Requirement already satisfied: pytz>=2017.2 in /usr/local/lib/python3.7/dist-packages (from pandas>=0.17.0; python_version > \"3.5\"->pyLDAvis) (2018.9)\n",
            "Requirement already satisfied: python-dateutil>=2.7.3 in /usr/local/lib/python3.7/dist-packages (from pandas>=0.17.0; python_version > \"3.5\"->pyLDAvis) (2.8.1)\n",
            "Requirement already satisfied: six>=1.5 in /usr/local/lib/python3.7/dist-packages (from python-dateutil>=2.7.3->pandas>=0.17.0; python_version > \"3.5\"->pyLDAvis) (1.15.0)\n"
          ],
          "name": "stdout"
        }
      ]
    },
    {
      "cell_type": "code",
      "metadata": {
        "colab": {
          "base_uri": "https://localhost:8080/"
        },
        "id": "Bxuno7O03ypu",
        "outputId": "0bc02a18-b8b4-4b9b-db4f-1662feb25162"
      },
      "source": [
        "import re\r\n",
        "import numpy as np\r\n",
        "import pandas as pd\r\n",
        "from pprint import pprint\r\n",
        "import gensim\r\n",
        "import gensim.corpora as corpora\r\n",
        "from gensim.utils import simple_preprocess\r\n",
        "from gensim.models import CoherenceModel\r\n",
        "import spacy\r\n",
        "import en_core_web_sm\r\n",
        "import pyLDAvis\r\n",
        "import pyLDAvis.gensim\r\n",
        "import matplotlib.pyplot as plt\r\n",
        "from sklearn.datasets import fetch_20newsgroups\r\n",
        "import warnings\r\n",
        "warnings.filterwarnings(\"ignore\")"
      ],
      "execution_count": null,
      "outputs": [
        {
          "output_type": "stream",
          "text": [
            "/usr/local/lib/python3.7/dist-packages/past/types/oldstr.py:5: DeprecationWarning: Using or importing the ABCs from 'collections' instead of from 'collections.abc' is deprecated since Python 3.3,and in 3.9 it will stop working\n",
            "  from collections import Iterable\n"
          ],
          "name": "stderr"
        }
      ]
    },
    {
      "cell_type": "markdown",
      "metadata": {
        "id": "NBEwhCOy9Orf"
      },
      "source": [
        "## Prepare stopwords"
      ]
    },
    {
      "cell_type": "code",
      "metadata": {
        "colab": {
          "base_uri": "https://localhost:8080/"
        },
        "id": "Hb1yshUi4Ifi",
        "outputId": "2335787a-1821-459a-d15b-66e5ee85d738"
      },
      "source": [
        "import nltk\r\n",
        "nltk.download('stopwords')\r\n",
        "from nltk.corpus import stopwords\r\n",
        "stop_words = stopwords.words('english')\r\n",
        "stop_words.extend(['from', 'subject', 're', 'edu', 'use'])"
      ],
      "execution_count": null,
      "outputs": [
        {
          "output_type": "stream",
          "text": [
            "[nltk_data] Downloading package stopwords to /root/nltk_data...\n",
            "[nltk_data]   Package stopwords is already up-to-date!\n"
          ],
          "name": "stdout"
        }
      ]
    },
    {
      "cell_type": "code",
      "metadata": {
        "id": "Oi2U3ETj3ZKX"
      },
      "source": [
        "nlp = en_core_web_sm.load(disable=['parser', 'ner'])"
      ],
      "execution_count": null,
      "outputs": []
    },
    {
      "cell_type": "markdown",
      "metadata": {
        "id": "22_OVF359XFj"
      },
      "source": [
        "## Load Dataset\r\n",
        "We will use 20-Newsgroups dataset."
      ]
    },
    {
      "cell_type": "code",
      "metadata": {
        "id": "H3ql6YDP56ea"
      },
      "source": [
        "newsgroups_train = fetch_20newsgroups(subset='train')\r\n",
        "data = newsgroups_train.data\r\n",
        "data = [re.sub('\\S*@\\S*\\s?', '', sent) for sent in data]\r\n",
        "data = [re.sub('\\s+', ' ', sent) for sent in data]\r\n",
        "data = [re.sub(\"\\'\", \"\", sent) for sent in data]\r\n",
        "data_words = data"
      ],
      "execution_count": null,
      "outputs": []
    },
    {
      "cell_type": "code",
      "metadata": {
        "colab": {
          "base_uri": "https://localhost:8080/"
        },
        "id": "Yk-xzuSm6Ig2",
        "outputId": "02d0c862-af18-4922-e98d-94310374ebc0"
      },
      "source": [
        "print(data_words[:4]) #it will print the data after prepared for stopwords"
      ],
      "execution_count": null,
      "outputs": [
        {
          "output_type": "stream",
          "text": [
            "['From: (wheres my thing) Subject: WHAT car is this!? Nntp-Posting-Host: rac3.wam.umd.edu Organization: University of Maryland, College Park Lines: 15 I was wondering if anyone out there could enlighten me on this car I saw the other day. It was a 2-door sports car, looked to be from the late 60s/ early 70s. It was called a Bricklin. The doors were really small. In addition, the front bumper was separate from the rest of the body. This is all I know. If anyone can tellme a model name, engine specs, years of production, where this car is made, history, or whatever info you have on this funky looking car, please e-mail. Thanks, - IL ---- brought to you by your neighborhood Lerxst ---- ', 'From: (Guy Kuo) Subject: SI Clock Poll - Final Call Summary: Final call for SI clock reports Keywords: SI,acceleration,clock,upgrade Article-I.D.: shelley.1qvfo9INNc3s Organization: University of Washington Lines: 11 NNTP-Posting-Host: carson.u.washington.edu A fair number of brave souls who upgraded their SI clock oscillator have shared their experiences for this poll. Please send a brief message detailing your experiences with the procedure. Top speed attained, CPU rated speed, add on cards and adapters, heat sinks, hour of usage per day, floppy disk functionality with 800 and 1.4 m floppies are especially requested. I will be summarizing in the next two days, so please add to the network knowledge base if you have done the clock upgrade and havent answered this poll. Thanks. Guy Kuo ', 'From: (Thomas E Willis) Subject: PB questions... Organization: Purdue University Engineering Computer Network Distribution: usa Lines: 36 well folks, my mac plus finally gave up the ghost this weekend after starting life as a 512k way back in 1985. sooo, im in the market for a new machine a bit sooner than i intended to be... im looking into picking up a powerbook 160 or maybe 180 and have a bunch of questions that (hopefully) somebody can answer: * does anybody know any dirt on when the next round of powerbook introductions are expected? id heard the 185c was supposed to make an appearence \"this summer\" but havent heard anymore on it - and since i dont have access to macleak, i was wondering if anybody out there had more info... * has anybody heard rumors about price drops to the powerbook line like the ones the duos just went through recently? * whats the impression of the display on the 180? i could probably swing a 180 if i got the 80Mb disk rather than the 120, but i dont really have a feel for how much \"better\" the display is (yea, it looks great in the store, but is that all \"wow\" or is it really that good?). could i solicit some opinions of people who use the 160 and 180 day-to-day on if its worth taking the disk size and money hit to get the active display? (i realize this is a real subjective question, but ive only played around with the machines in a computer store breifly and figured the opinions of somebody who actually uses the machine daily might prove helpful). * how well does hellcats perform? ;) thanks a bunch in advance for any info - if you could email, ill post a summary (news reading time is at a premium with finals just around the corner... :( ) -- Tom Willis \\\\ \\\\ Purdue Electrical Engineering --------------------------------------------------------------------------- \"Convictions are more dangerous enemies of truth than lies.\" - F. W. Nietzsche ', 'From: (Joe Green) Subject: Re: Weitek P9000 ? Organization: Harris Computer Systems Division Lines: 14 Distribution: world NNTP-Posting-Host: amber.ssd.csd.harris.com X-Newsreader: TIN [version 1.1 PL9] Robert J.C. Kyanko wrote: > writes in article > > Anyone know about the Weitek P9000 graphics chip? > As far as the low-level stuff goes, it looks pretty nice. Its got this > quadrilateral fill command that requires just the four points. Do you have Weiteks address/phone number? Id like to get some information about this chip. -- Joe Green Harris Corporation Computer Systems Division \"The only thing that really scares me is a person with no sense of humor.\" -- Jonathan Winters ']\n"
          ],
          "name": "stdout"
        }
      ]
    },
    {
      "cell_type": "markdown",
      "metadata": {
        "id": "bZq-7sVe9gJr"
      },
      "source": [
        "## Create Bigram and Trigram models"
      ]
    },
    {
      "cell_type": "code",
      "metadata": {
        "id": "VW7Y5S3f6OY6"
      },
      "source": [
        "bigram = gensim.models.Phrases(data_words, min_count=5, threshold=100)\r\n",
        "trigram = gensim.models.Phrases(bigram[data_words], threshold=100)\r\n",
        "bigram_mod = gensim.models.phrases.Phraser(bigram)\r\n",
        "trigram_mod = gensim.models.phrases.Phraser(trigram)"
      ],
      "execution_count": null,
      "outputs": []
    },
    {
      "cell_type": "code",
      "metadata": {
        "id": "CQAVfQH76ONe"
      },
      "source": [
        "def remove_stopwords(texts):\r\n",
        "   return [[word for word in simple_preprocess(str(doc)) \r\n",
        "   if word not in stop_words] for doc in texts]\r\n",
        "\r\n",
        "def make_bigrams(texts):\r\n",
        "   return [bigram_mod[doc] for doc in texts]\r\n",
        "\r\n",
        "def make_trigrams(texts):\r\n",
        "   [trigram_mod[bigram_mod[doc]] for doc in texts]\r\n",
        "   \r\n",
        "def lemmatization(texts, allowed_postags=['NOUN', 'ADJ', 'VERB', 'ADV']):\r\n",
        "   texts_out = []\r\n",
        "   for sent in texts:\r\n",
        "      doc = nlp(\" \".join(sent))\r\n",
        "      texts_out.append([token.lemma_ for token in doc if token.pos_ in allowed_postags])\r\n",
        "   return texts_out"
      ],
      "execution_count": null,
      "outputs": []
    },
    {
      "cell_type": "code",
      "metadata": {
        "id": "pQhy0Jm56da4"
      },
      "source": [
        "data_words_nostops = remove_stopwords(data_words)\r\n",
        "data_words_bigrams = make_bigrams(data_words_nostops)\r\n",
        "\r\n",
        "data_lemmatized = lemmatization(data_words_bigrams, allowed_postags=[\r\n",
        "   'NOUN', 'ADJ', 'VERB', 'ADV'\r\n",
        "])"
      ],
      "execution_count": null,
      "outputs": []
    },
    {
      "cell_type": "code",
      "metadata": {
        "colab": {
          "base_uri": "https://localhost:8080/"
        },
        "id": "xl9ardnD6hKB",
        "outputId": "e3016a7a-1dc2-436c-bdcb-85aa0c029903"
      },
      "source": [
        "print(data_lemmatized[:4]) #it will print the lemmatized data."
      ],
      "execution_count": null,
      "outputs": [
        {
          "output_type": "stream",
          "text": [
            "[['where', 'thing', 'car', 'nntp', 'post', 'host', 'line', 'wonder', 'could', 'enlighten', 'car', 'see', 'day', 'door', 'sport', 'car', 'look', 'late', 'early', 'call', 'bricklin', 'door', 'really', 'small', 'addition', 'front', 'bumper', 'separate', 'rest', 'body', 'know', 'tellme', 'model', 'name', 'engine', 'year', 'production', 'car', 'make', 'history', 'info', 'funky', 'look', 'car', 'mail', 'thank', 'bring', 'neighborhood', 'lerxst'], ['final', 'call', 'summary', 'final', 'call', 'clock', 'report', 'keyword', 'acceleration', 'post', 'fair', 'number', 'brave', 'soul', 'upgrade', 'clock', 'oscillator', 'share', 'experience', 'poll', 'send', 'brief', 'message', 'detailing', 'experience', 'procedure', 'top', 'speed', 'attain', 'cpu', 'rate', 'speed', 'add', 'card', 'heat', 'sink', 'hour', 'usage', 'day', 'floppy', 'disk', 'functionality', 'floppy', 'especially', 'request', 'summarize', 'next', 'day', 'add', 'network', 'knowledge', 'base', 'do', 'clock', 'upgrade', 'answer', 'poll', 'thank'], ['computer', 'distribution', 'line', 'well', 'folk', 'finally', 'give', 'ghost', 'weekend', 'start', 'life', 'way', 'back', 'be', 'market', 'new', 'machine', 'bit', 'sooner', 'intend', 'be', 'look', 'pick', 'powerbook', 'maybe', 'bunch', 'question', 'hopefully', 'answer', 'know', 'dirt', 'powerbook', 'introduction', 'expect', 'would', 'hear', 'suppose', 'make', 'appearence', 'summer', 'hear', 'anymore', 'since', 'access', 'macleak', 'wonder', 'info', 'hear', 'rumor', 'price', 'drop', 'line', 'one', 'duos', 'go', 'recently', 's', 'impression', 'display', 'could', 'probably', 'swing', 'get', 'disk', 'rather', 'really', 'feel', 'much', 'well', 'display', 'yea', 'look', 'great', 'store', 'really', 'good', 'could', 'solicit', 'opinion', 'people', 'day', 'worth', 'take', 'disk', 'size', 'money', 'hit', 'get', 'active', 'display', 'realize', 'real', 'subjective', 'question', 'have', 'play', 'machine', 'computer', 'store', 'breifly', 'figure', 'opinion', 'actually', 'use', 'machine', 'daily', 'may', 'prove', 'helpful', 'hellcat', 'perform', 'thank', 'bunch', 'advance', 'info', 'could', 'email', 'summary', 'news', 'reading', 'time', 'premium', 'final', 'corner', 'electrical', 'engineering', 'conviction', 'dangerous', 'enemy', 'truth', 'lie', 'nietzsche'], ['division', 'line', 'distribution', 'world', 'nntp', 'post', 'write', 'write', 'article', 'know', 'chip', 'far', 'low', 'level', 'stuff', 'go', 'look', 'pretty', 'nice', 'get', 'quadrilateral', 'fill', 'command', 'require', 'point', 'weitek', 'address', 'phone', 'number', 'would', 'information', 'chip', 'division', 'thing', 'really', 'scare', 'person', 'sense', 'humor', 'winter']]\n"
          ],
          "name": "stdout"
        }
      ]
    },
    {
      "cell_type": "markdown",
      "metadata": {
        "id": "Hg_9ods191B0"
      },
      "source": [
        "## Create Dictionary and Corpus needed for Topic Modeling"
      ]
    },
    {
      "cell_type": "code",
      "metadata": {
        "colab": {
          "base_uri": "https://localhost:8080/"
        },
        "id": "uPccl8ij6nrY",
        "outputId": "e5416d0e-ea85-433f-fb1a-01a66839144f"
      },
      "source": [
        "id2word = corpora.Dictionary(data_lemmatized)\r\n",
        "texts = data_lemmatized\r\n",
        "corpus = [id2word.doc2bow(text) for text in texts]\r\n",
        "print(corpus[:4]) #it will print the corpus we created above."
      ],
      "execution_count": null,
      "outputs": [
        {
          "output_type": "stream",
          "text": [
            "[[(0, 1), (1, 1), (2, 1), (3, 1), (4, 1), (5, 1), (6, 5), (7, 1), (8, 1), (9, 2), (10, 1), (11, 1), (12, 1), (13, 1), (14, 1), (15, 1), (16, 1), (17, 1), (18, 1), (19, 1), (20, 1), (21, 1), (22, 2), (23, 1), (24, 1), (25, 1), (26, 1), (27, 1), (28, 1), (29, 1), (30, 1), (31, 1), (32, 1), (33, 1), (34, 1), (35, 1), (36, 1), (37, 1), (38, 1), (39, 1), (40, 1), (41, 1), (42, 1)], [(5, 2), (8, 2), (29, 1), (38, 1), (43, 1), (44, 2), (45, 1), (46, 1), (47, 1), (48, 1), (49, 1), (50, 1), (51, 3), (52, 1), (53, 1), (54, 1), (55, 1), (56, 1), (57, 2), (58, 1), (59, 2), (60, 2), (61, 1), (62, 1), (63, 1), (64, 1), (65, 1), (66, 1), (67, 1), (68, 1), (69, 1), (70, 1), (71, 2), (72, 1), (73, 1), (74, 1), (75, 1), (76, 1), (77, 1), (78, 1), (79, 1), (80, 2), (81, 1), (82, 1), (83, 1), (84, 2), (85, 1)], [(7, 3), (8, 1), (17, 2), (18, 1), (21, 2), (22, 2), (24, 1), (31, 2), (38, 1), (41, 1), (45, 1), (54, 2), (59, 1), (82, 1), (86, 1), (87, 1), (88, 1), (89, 1), (90, 1), (91, 1), (92, 1), (93, 2), (94, 1), (95, 1), (96, 2), (97, 2), (98, 1), (99, 1), (100, 1), (101, 1), (102, 1), (103, 3), (104, 1), (105, 1), (106, 1), (107, 1), (108, 1), (109, 1), (110, 1), (111, 1), (112, 1), (113, 1), (114, 1), (115, 1), (116, 2), (117, 1), (118, 1), (119, 1), (120, 1), (121, 1), (122, 1), (123, 3), (124, 1), (125, 1), (126, 1), (127, 1), (128, 1), (129, 1), (130, 1), (131, 1), (132, 1), (133, 3), (134, 1), (135, 1), (136, 1), (137, 1), (138, 1), (139, 1), (140, 1), (141, 1), (142, 1), (143, 1), (144, 2), (145, 1), (146, 1), (147, 1), (148, 1), (149, 2), (150, 1), (151, 1), (152, 1), (153, 1), (154, 2), (155, 1), (156, 1), (157, 1), (158, 1), (159, 1), (160, 1), (161, 1), (162, 1), (163, 1), (164, 1), (165, 1), (166, 1), (167, 2), (168, 1), (169, 1), (170, 1), (171, 1), (172, 1), (173, 1), (174, 1), (175, 1), (176, 1), (177, 1), (178, 2), (179, 1), (180, 1), (181, 1)], [(18, 1), (21, 1), (22, 1), (28, 1), (29, 1), (31, 1), (39, 1), (69, 1), (104, 1), (116, 1), (119, 1), (180, 1), (182, 1), (183, 1), (184, 2), (185, 1), (186, 2), (187, 1), (188, 1), (189, 1), (190, 1), (191, 1), (192, 1), (193, 1), (194, 1), (195, 1), (196, 1), (197, 1), (198, 1), (199, 1), (200, 1), (201, 1), (202, 1), (203, 1), (204, 1), (205, 1), (206, 2)]]\n"
          ],
          "name": "stdout"
        }
      ]
    },
    {
      "cell_type": "code",
      "metadata": {
        "colab": {
          "base_uri": "https://localhost:8080/"
        },
        "id": "JTvh8WmG6tCb",
        "outputId": "3b32cdd8-771a-4dca-bee7-80c2b66964c2"
      },
      "source": [
        "[[(id2word[id], freq) for id, freq in cp] for cp in corpus[:4]] \r\n",
        "#it will print the words with their frequencies."
      ],
      "execution_count": null,
      "outputs": [
        {
          "output_type": "execute_result",
          "data": {
            "text/plain": [
              "[[('addition', 1),\n",
              "  ('body', 1),\n",
              "  ('bricklin', 1),\n",
              "  ('bring', 1),\n",
              "  ('bumper', 1),\n",
              "  ('call', 1),\n",
              "  ('car', 5),\n",
              "  ('could', 1),\n",
              "  ('day', 1),\n",
              "  ('door', 2),\n",
              "  ('early', 1),\n",
              "  ('engine', 1),\n",
              "  ('enlighten', 1),\n",
              "  ('front', 1),\n",
              "  ('funky', 1),\n",
              "  ('history', 1),\n",
              "  ('host', 1),\n",
              "  ('info', 1),\n",
              "  ('know', 1),\n",
              "  ('late', 1),\n",
              "  ('lerxst', 1),\n",
              "  ('line', 1),\n",
              "  ('look', 2),\n",
              "  ('mail', 1),\n",
              "  ('make', 1),\n",
              "  ('model', 1),\n",
              "  ('name', 1),\n",
              "  ('neighborhood', 1),\n",
              "  ('nntp', 1),\n",
              "  ('post', 1),\n",
              "  ('production', 1),\n",
              "  ('really', 1),\n",
              "  ('rest', 1),\n",
              "  ('see', 1),\n",
              "  ('separate', 1),\n",
              "  ('small', 1),\n",
              "  ('sport', 1),\n",
              "  ('tellme', 1),\n",
              "  ('thank', 1),\n",
              "  ('thing', 1),\n",
              "  ('where', 1),\n",
              "  ('wonder', 1),\n",
              "  ('year', 1)],\n",
              " [('call', 2),\n",
              "  ('day', 2),\n",
              "  ('post', 1),\n",
              "  ('thank', 1),\n",
              "  ('acceleration', 1),\n",
              "  ('add', 2),\n",
              "  ('answer', 1),\n",
              "  ('attain', 1),\n",
              "  ('base', 1),\n",
              "  ('brave', 1),\n",
              "  ('brief', 1),\n",
              "  ('card', 1),\n",
              "  ('clock', 3),\n",
              "  ('cpu', 1),\n",
              "  ('detailing', 1),\n",
              "  ('disk', 1),\n",
              "  ('do', 1),\n",
              "  ('especially', 1),\n",
              "  ('experience', 2),\n",
              "  ('fair', 1),\n",
              "  ('final', 2),\n",
              "  ('floppy', 2),\n",
              "  ('functionality', 1),\n",
              "  ('heat', 1),\n",
              "  ('hour', 1),\n",
              "  ('keyword', 1),\n",
              "  ('knowledge', 1),\n",
              "  ('message', 1),\n",
              "  ('network', 1),\n",
              "  ('next', 1),\n",
              "  ('number', 1),\n",
              "  ('oscillator', 1),\n",
              "  ('poll', 2),\n",
              "  ('procedure', 1),\n",
              "  ('rate', 1),\n",
              "  ('report', 1),\n",
              "  ('request', 1),\n",
              "  ('send', 1),\n",
              "  ('share', 1),\n",
              "  ('sink', 1),\n",
              "  ('soul', 1),\n",
              "  ('speed', 2),\n",
              "  ('summarize', 1),\n",
              "  ('summary', 1),\n",
              "  ('top', 1),\n",
              "  ('upgrade', 2),\n",
              "  ('usage', 1)],\n",
              " [('could', 3),\n",
              "  ('day', 1),\n",
              "  ('info', 2),\n",
              "  ('know', 1),\n",
              "  ('line', 2),\n",
              "  ('look', 2),\n",
              "  ('make', 1),\n",
              "  ('really', 2),\n",
              "  ('thank', 1),\n",
              "  ('wonder', 1),\n",
              "  ('answer', 1),\n",
              "  ('disk', 2),\n",
              "  ('final', 1),\n",
              "  ('summary', 1),\n",
              "  ('access', 1),\n",
              "  ('active', 1),\n",
              "  ('actually', 1),\n",
              "  ('advance', 1),\n",
              "  ('anymore', 1),\n",
              "  ('appearence', 1),\n",
              "  ('back', 1),\n",
              "  ('be', 2),\n",
              "  ('bit', 1),\n",
              "  ('breifly', 1),\n",
              "  ('bunch', 2),\n",
              "  ('computer', 2),\n",
              "  ('conviction', 1),\n",
              "  ('corner', 1),\n",
              "  ('daily', 1),\n",
              "  ('dangerous', 1),\n",
              "  ('dirt', 1),\n",
              "  ('display', 3),\n",
              "  ('distribution', 1),\n",
              "  ('drop', 1),\n",
              "  ('duos', 1),\n",
              "  ('electrical', 1),\n",
              "  ('email', 1),\n",
              "  ('enemy', 1),\n",
              "  ('engineering', 1),\n",
              "  ('expect', 1),\n",
              "  ('feel', 1),\n",
              "  ('figure', 1),\n",
              "  ('finally', 1),\n",
              "  ('folk', 1),\n",
              "  ('get', 2),\n",
              "  ('ghost', 1),\n",
              "  ('give', 1),\n",
              "  ('go', 1),\n",
              "  ('good', 1),\n",
              "  ('great', 1),\n",
              "  ('have', 1),\n",
              "  ('hear', 3),\n",
              "  ('hellcat', 1),\n",
              "  ('helpful', 1),\n",
              "  ('hit', 1),\n",
              "  ('hopefully', 1),\n",
              "  ('impression', 1),\n",
              "  ('intend', 1),\n",
              "  ('introduction', 1),\n",
              "  ('lie', 1),\n",
              "  ('life', 1),\n",
              "  ('machine', 3),\n",
              "  ('macleak', 1),\n",
              "  ('market', 1),\n",
              "  ('may', 1),\n",
              "  ('maybe', 1),\n",
              "  ('money', 1),\n",
              "  ('much', 1),\n",
              "  ('new', 1),\n",
              "  ('news', 1),\n",
              "  ('nietzsche', 1),\n",
              "  ('one', 1),\n",
              "  ('opinion', 2),\n",
              "  ('people', 1),\n",
              "  ('perform', 1),\n",
              "  ('pick', 1),\n",
              "  ('play', 1),\n",
              "  ('powerbook', 2),\n",
              "  ('premium', 1),\n",
              "  ('price', 1),\n",
              "  ('probably', 1),\n",
              "  ('prove', 1),\n",
              "  ('question', 2),\n",
              "  ('rather', 1),\n",
              "  ('reading', 1),\n",
              "  ('real', 1),\n",
              "  ('realize', 1),\n",
              "  ('recently', 1),\n",
              "  ('rumor', 1),\n",
              "  ('s', 1),\n",
              "  ('since', 1),\n",
              "  ('size', 1),\n",
              "  ('solicit', 1),\n",
              "  ('sooner', 1),\n",
              "  ('start', 1),\n",
              "  ('store', 2),\n",
              "  ('subjective', 1),\n",
              "  ('summer', 1),\n",
              "  ('suppose', 1),\n",
              "  ('swing', 1),\n",
              "  ('take', 1),\n",
              "  ('time', 1),\n",
              "  ('truth', 1),\n",
              "  ('use', 1),\n",
              "  ('way', 1),\n",
              "  ('weekend', 1),\n",
              "  ('well', 2),\n",
              "  ('worth', 1),\n",
              "  ('would', 1),\n",
              "  ('yea', 1)],\n",
              " [('know', 1),\n",
              "  ('line', 1),\n",
              "  ('look', 1),\n",
              "  ('nntp', 1),\n",
              "  ('post', 1),\n",
              "  ('really', 1),\n",
              "  ('thing', 1),\n",
              "  ('number', 1),\n",
              "  ('distribution', 1),\n",
              "  ('get', 1),\n",
              "  ('go', 1),\n",
              "  ('would', 1),\n",
              "  ('address', 1),\n",
              "  ('article', 1),\n",
              "  ('chip', 2),\n",
              "  ('command', 1),\n",
              "  ('division', 2),\n",
              "  ('far', 1),\n",
              "  ('fill', 1),\n",
              "  ('humor', 1),\n",
              "  ('information', 1),\n",
              "  ('level', 1),\n",
              "  ('low', 1),\n",
              "  ('nice', 1),\n",
              "  ('person', 1),\n",
              "  ('phone', 1),\n",
              "  ('point', 1),\n",
              "  ('pretty', 1),\n",
              "  ('quadrilateral', 1),\n",
              "  ('require', 1),\n",
              "  ('scare', 1),\n",
              "  ('sense', 1),\n",
              "  ('stuff', 1),\n",
              "  ('weitek', 1),\n",
              "  ('winter', 1),\n",
              "  ('world', 1),\n",
              "  ('write', 2)]]"
            ]
          },
          "metadata": {
            "tags": []
          },
          "execution_count": 12
        }
      ]
    },
    {
      "cell_type": "markdown",
      "metadata": {
        "id": "VHxZfRfr99WK"
      },
      "source": [
        "## Build topic model"
      ]
    },
    {
      "cell_type": "code",
      "metadata": {
        "id": "VI4Cnd083q36"
      },
      "source": [
        "lda_model = gensim.models.ldamodel.LdaModel(\r\n",
        "   corpus=corpus, id2word=id2word, num_topics=20, random_state=100, \r\n",
        "   update_every=1, chunksize=100, passes=10, alpha='auto', per_word_topics=True\r\n",
        ")"
      ],
      "execution_count": null,
      "outputs": []
    },
    {
      "cell_type": "code",
      "metadata": {
        "colab": {
          "base_uri": "https://localhost:8080/"
        },
        "id": "W826x84aTeCy",
        "outputId": "cea75239-2b04-407a-cdbb-8b5b427093bc"
      },
      "source": [
        "pprint(lda_model.print_topics())\r\n",
        "doc_lda = lda_model[corpus]"
      ],
      "execution_count": null,
      "outputs": [
        {
          "output_type": "stream",
          "text": [
            "[(0,\n",
            "  '0.018*\"hour\" + 0.017*\"food\" + 0.016*\"cool\" + 0.013*\"cause\" + '\n",
            "  '0.013*\"treatment\" + 0.012*\"doctor\" + 0.011*\"air\" + 0.011*\"tumor\" + '\n",
            "  '0.011*\"gas\" + 0.010*\"hot\"'),\n",
            " (1,\n",
            "  '0.031*\"drive\" + 0.023*\"thank\" + 0.023*\"use\" + 0.020*\"card\" + '\n",
            "  '0.019*\"problem\" + 0.019*\"system\" + 0.018*\"line\" + 0.016*\"run\" + '\n",
            "  '0.015*\"work\" + 0.014*\"driver\"'),\n",
            " (2,\n",
            "  '0.027*\"israeli\" + 0.020*\"patient\" + 0.019*\"report\" + 0.019*\"tape\" + '\n",
            "  '0.016*\"drug\" + 0.015*\"research\" + 0.015*\"press\" + 0.013*\"case\" + '\n",
            "  '0.011*\"insurance\" + 0.011*\"purchase\"'),\n",
            " (3,\n",
            "  '0.016*\"public\" + 0.016*\"order\" + 0.012*\"government\" + 0.011*\"provide\" + '\n",
            "  '0.011*\"physical\" + 0.010*\"god\" + 0.009*\"issue\" + 0.009*\"may\" + '\n",
            "  '0.008*\"money\" + 0.008*\"cheap\"'),\n",
            " (4,\n",
            "  '0.062*\"key\" + 0.037*\"system\" + 0.029*\"number\" + 0.025*\"chip\" + 0.024*\"use\" '\n",
            "  '+ 0.019*\"bit\" + 0.016*\"wire\" + 0.013*\"ripem\" + 0.012*\"serial\" + '\n",
            "  '0.011*\"encrypt\"'),\n",
            " (5,\n",
            "  '0.031*\"people\" + 0.023*\"right\" + 0.020*\"state\" + 0.016*\"gun\" + 0.015*\"law\" '\n",
            "  '+ 0.011*\"player\" + 0.010*\"death\" + 0.010*\"person\" + 0.010*\"die\" + '\n",
            "  '0.008*\"self\"'),\n",
            " (6,\n",
            "  '0.023*\"evidence\" + 0.021*\"believe\" + 0.020*\"say\" + 0.019*\"reason\" + '\n",
            "  '0.016*\"claim\" + 0.013*\"sense\" + 0.012*\"people\" + 0.012*\"exist\" + '\n",
            "  '0.012*\"faith\" + 0.011*\"may\"'),\n",
            " (7,\n",
            "  '0.014*\"soldier\" + 0.013*\"attack\" + 0.013*\"war\" + 0.012*\"village\" + '\n",
            "  '0.012*\"com\" + 0.011*\"kill\" + 0.010*\"turkish\" + 0.010*\"people\" + '\n",
            "  '0.009*\"land\" + 0.009*\"force\"'),\n",
            " (8,\n",
            "  '0.057*\"ax\" + 0.051*\"max\" + 0.026*\"lebanese\" + 0.025*\"slave\" + 0.016*\"brain\" '\n",
            "  '+ 0.016*\"community\" + 0.013*\"seller\" + 0.011*\"bomb\" + 0.011*\"weight\" + '\n",
            "  '0.011*\"diagnosis\"'),\n",
            " (9,\n",
            "  '0.063*\"space\" + 0.023*\"orbit\" + 0.022*\"launch\" + 0.017*\"earth\" + '\n",
            "  '0.016*\"data\" + 0.015*\"sphere\" + 0.015*\"mission\" + 0.013*\"satellite\" + '\n",
            "  '0.012*\"translation\" + 0.011*\"volume\"'),\n",
            " (10,\n",
            "  '0.030*\"book\" + 0.029*\"group\" + 0.016*\"page\" + 0.016*\"reference\" + '\n",
            "  '0.012*\"reality\" + 0.012*\"publish\" + 0.012*\"learn\" + 0.012*\"value\" + '\n",
            "  '0.011*\"compare\" + 0.010*\"cpu\"'),\n",
            " (11,\n",
            "  '0.027*\"high\" + 0.026*\"power\" + 0.024*\"cost\" + 0.021*\"rate\" + 0.020*\"sale\" + '\n",
            "  '0.019*\"speed\" + 0.018*\"low\" + 0.015*\"pin\" + 0.012*\"input\" + 0.012*\"supply\"'),\n",
            " (12,\n",
            "  '0.037*\"bike\" + 0.022*\"ride\" + 0.020*\"steal\" + 0.017*\"rider\" + 0.016*\"black\" '\n",
            "  '+ 0.016*\"hole\" + 0.015*\"perfect\" + 0.013*\"cover\" + 0.011*\"wave\" + '\n",
            "  '0.010*\"dog\"'),\n",
            " (13,\n",
            "  '0.053*\"car\" + 0.019*\"wing\" + 0.015*\"engine\" + 0.015*\"hockey\" + 0.014*\"goal\" '\n",
            "  '+ 0.013*\"fan\" + 0.012*\"playoff\" + 0.011*\"dealer\" + 0.011*\"mount\" + '\n",
            "  '0.009*\"road\"'),\n",
            " (14,\n",
            "  '0.018*\"station\" + 0.018*\"wide\" + 0.017*\"material\" + 0.017*\"special\" + '\n",
            "  '0.016*\"meet\" + 0.014*\"tv\" + 0.013*\"radio\" + 0.013*\"pack\" + 0.013*\"draft\" + '\n",
            "  '0.012*\"flight\"'),\n",
            " (15,\n",
            "  '0.035*\"would\" + 0.029*\"write\" + 0.023*\"line\" + 0.018*\"know\" + 0.017*\"post\" '\n",
            "  '+ 0.016*\"be\" + 0.016*\"go\" + 0.015*\"article\" + 0.015*\"think\" + 0.015*\"get\"'),\n",
            " (16,\n",
            "  '0.053*\"program\" + 0.053*\"file\" + 0.025*\"window\" + 0.023*\"entry\" + '\n",
            "  '0.020*\"image\" + 0.016*\"section\" + 0.014*\"application\" + 0.014*\"set\" + '\n",
            "  '0.013*\"family\" + 0.013*\"character\"'),\n",
            " (17,\n",
            "  '0.032*\"mail\" + 0.030*\"send\" + 0.026*\"information\" + 0.026*\"include\" + '\n",
            "  '0.024*\"list\" + 0.021*\"price\" + 0.020*\"address\" + 0.019*\"available\" + '\n",
            "  '0.019*\"post\" + 0.017*\"new\"'),\n",
            " (18,\n",
            "  '0.044*\"source\" + 0.035*\"science\" + 0.019*\"function\" + 0.017*\"field\" + '\n",
            "  '0.014*\"object\" + 0.013*\"cd\" + 0.013*\"scientific\" + 0.011*\"theory\" + '\n",
            "  '0.010*\"plane\" + 0.010*\"study\"'),\n",
            " (19,\n",
            "  '0.046*\"year\" + 0.040*\"team\" + 0.036*\"game\" + 0.027*\"play\" + 0.027*\"win\" + '\n",
            "  '0.019*\"run\" + 0.018*\"last\" + 0.016*\"graphic\" + 0.013*\"suggest\" + '\n",
            "  '0.013*\"lose\"')]\n"
          ],
          "name": "stdout"
        }
      ]
    },
    {
      "cell_type": "markdown",
      "metadata": {
        "id": "jUPRcMGr-Fp-"
      },
      "source": [
        "## Evaluate topic models"
      ]
    },
    {
      "cell_type": "code",
      "metadata": {
        "colab": {
          "base_uri": "https://localhost:8080/"
        },
        "id": "ZFyaAyNFWHM-",
        "outputId": "45c520ff-7d9b-42c2-a40f-3cb9cba774b5"
      },
      "source": [
        "print('\\nPerplexity: ', lda_model.log_perplexity(corpus))"
      ],
      "execution_count": null,
      "outputs": [
        {
          "output_type": "stream",
          "text": [
            "\n",
            "Perplexity:  -8.252789257567267\n"
          ],
          "name": "stdout"
        }
      ]
    },
    {
      "cell_type": "code",
      "metadata": {
        "colab": {
          "base_uri": "https://localhost:8080/"
        },
        "id": "SXaf7L-rWOGu",
        "outputId": "f0489fae-82c3-4c10-bd5b-dbed5f82f7ea"
      },
      "source": [
        "coherence_model_lda = CoherenceModel(\r\n",
        "   model=lda_model, texts=data_lemmatized, dictionary=id2word, coherence='c_v'\r\n",
        ")\r\n",
        "coherence_lda = coherence_model_lda.get_coherence()\r\n",
        "print('\\nCoherence Score: ', coherence_lda)"
      ],
      "execution_count": null,
      "outputs": [
        {
          "output_type": "stream",
          "text": [
            "\n",
            "Coherence Score:  0.43094175609905533\n"
          ],
          "name": "stdout"
        }
      ]
    },
    {
      "cell_type": "markdown",
      "metadata": {
        "id": "Nx3fZH1k-LrC"
      },
      "source": [
        "## Visualize the topic model"
      ]
    },
    {
      "cell_type": "code",
      "metadata": {
        "colab": {
          "base_uri": "https://localhost:8080/",
          "height": 881
        },
        "id": "rhDU-UpWWgW3",
        "outputId": "fd1c313c-d829-474e-9d16-c49b5833e547"
      },
      "source": [
        "pyLDAvis.enable_notebook()\r\n",
        "vis = pyLDAvis.gensim.prepare(lda_model, corpus, id2word)\r\n",
        "vis"
      ],
      "execution_count": null,
      "outputs": [
        {
          "output_type": "execute_result",
          "data": {
            "text/html": [
              "\n",
              "<link rel=\"stylesheet\" type=\"text/css\" href=\"https://cdn.jsdelivr.net/gh/bmabey/pyLDAvis@3.2.2/pyLDAvis/js/ldavis.v1.0.0.css\">\n",
              "\n",
              "\n",
              "<div id=\"ldavis_el4711399332358882089682632987\"></div>\n",
              "<script type=\"text/javascript\">\n",
              "\n",
              "var ldavis_el4711399332358882089682632987_data = {\"mdsDat\": {\"x\": [-0.30518606070534965, -0.15888054343179625, -0.24951187146514925, -0.13912918133403712, -0.12007661839559199, -0.06391624865052183, -0.10104640406575097, -0.02331455275202422, 0.02247886711404431, -0.0014989369409106105, 0.06567579185205427, 0.02727400559151863, 0.09276728820989168, 0.10296794375914413, 0.1531954142747231, 0.08767037393807196, 0.13587736373831125, 0.14734441168588988, 0.15186619102522503, 0.17544276655225846], \"y\": [-0.0025524219185917778, -0.05693470016386325, 0.13279954995172846, 0.19764036822513556, -0.26067211090280745, -0.1859302923168019, 0.2016839252039946, -0.10035714755260726, 0.035224172435356436, 0.031214530944142994, -0.08867330528644678, -0.1738896137495525, 0.097878578432332, 0.04480722073143296, 0.050747830228755, -0.031816462255717125, 0.032939340042032264, 0.04392187223012779, -0.010586671562782878, 0.04255533728413249], \"topics\": [1, 2, 3, 4, 5, 6, 7, 8, 9, 10, 11, 12, 13, 14, 15, 16, 17, 18, 19, 20], \"cluster\": [1, 1, 1, 1, 1, 1, 1, 1, 1, 1, 1, 1, 1, 1, 1, 1, 1, 1, 1, 1], \"Freq\": [29.986113043550265, 7.674113408380348, 7.452903416833258, 6.960407042743569, 6.6402523064952135, 4.445047852442896, 3.938327407074624, 3.5768740327349104, 3.534257246984549, 3.342134787256195, 3.0291922860421643, 2.9621708207280517, 2.5635973668916496, 2.533109437753074, 2.500964453369576, 2.3229632502573256, 2.0245217498317203, 1.6624226245597957, 1.4495778174704848, 1.401049648600328]}, \"tinfo\": {\"Term\": [\"write\", \"would\", \"line\", \"post\", \"year\", \"people\", \"say\", \"key\", \"go\", \"system\", \"file\", \"program\", \"good\", \"be\", \"use\", \"article\", \"know\", \"ax\", \"drive\", \"right\", \"think\", \"get\", \"car\", \"max\", \"team\", \"problem\", \"thank\", \"mail\", \"number\", \"believe\", \"write\", \"be\", \"article\", \"s\", \"much\", \"really\", \"bad\", \"hear\", \"probably\", \"put\", \"will\", \"enough\", \"maybe\", \"remember\", \"else\", \"ago\", \"pretty\", \"ill\", \"friend\", \"guess\", \"wonder\", \"exactly\", \"spend\", \"nice\", \"watch\", \"there\", \"figure\", \"night\", \"obviously\", \"eat\", \"would\", \"kind\", \"time\", \"know\", \"turn\", \"want\", \"go\", \"little\", \"could\", \"have\", \"see\", \"actually\", \"still\", \"get\", \"take\", \"good\", \"think\", \"sure\", \"let\", \"tell\", \"line\", \"look\", \"make\", \"post\", \"thing\", \"come\", \"well\", \"try\", \"say\", \"way\", \"give\", \"even\", \"may\", \"physical\", \"god\", \"cheap\", \"clipper\", \"encryption\", \"season\", \"private\", \"security\", \"existence\", \"shall\", \"terrorist\", \"hell\", \"approach\", \"possibility\", \"american\", \"secure\", \"direct\", \"tap\", \"enforcement\", \"federal\", \"pen\", \"waste\", \"listen\", \"market\", \"absolutely\", \"gift\", \"official\", \"escrow\", \"blind\", \"voice\", \"public\", \"phone\", \"order\", \"purpose\", \"technology\", \"provide\", \"money\", \"government\", \"business\", \"protect\", \"company\", \"issue\", \"whole\", \"may\", \"law\", \"appear\", \"new\", \"system\", \"need\", \"use\", \"make\", \"faith\", \"religion\", \"argument\", \"belief\", \"truth\", \"atheist\", \"church\", \"christian\", \"conclusion\", \"atheism\", \"sin\", \"therefore\", \"judge\", \"nature\", \"moral\", \"revelation\", \"proof\", \"objective\", \"evil\", \"animal\", \"false\", \"insist\", \"context\", \"fear\", \"morality\", \"worship\", \"interpretation\", \"prayer\", \"tradition\", \"biblical\", \"evidence\", \"claim\", \"sense\", \"explain\", \"religious\", \"believe\", \"exist\", \"reason\", \"statement\", \"prove\", \"human\", \"life\", \"true\", \"say\", \"man\", \"valid\", \"fact\", \"people\", \"may\", \"must\", \"mean\", \"many\", \"love\", \"question\", \"follow\", \"think\", \"gun\", \"player\", \"die\", \"self\", \"weapon\", \"crime\", \"police\", \"dangerous\", \"agency\", \"firearm\", \"beat\", \"president\", \"cop\", \"examine\", \"dollar\", \"militia\", \"wife\", \"vote\", \"blank\", \"possess\", \"amendment\", \"brother\", \"freedom\", \"belong\", \"smoke\", \"poster\", \"ignorant\", \"accident\", \"eternal\", \"dream\", \"fire\", \"state\", \"safety\", \"death\", \"carry\", \"country\", \"arm\", \"member\", \"shoot\", \"wait\", \"right\", \"law\", \"effect\", \"people\", \"person\", \"organization\", \"action\", \"kill\", \"bear\", \"control\", \"situation\", \"rule\", \"keep\", \"child\", \"card\", \"driver\", \"disk\", \"color\", \"memory\", \"screen\", \"bus\", \"video\", \"pc\", \"internet\", \"display\", \"package\", \"server\", \"instal\", \"mode\", \"monitor\", \"port\", \"notice\", \"scsi\", \"mouse\", \"switch\", \"motif\", \"external\", \"fix\", \"install\", \"apple\", \"ide\", \"warranty\", \"ram\", \"crash\", \"drive\", \"version\", \"machine\", \"hardware\", \"thank\", \"appreciate\", \"software\", \"run\", \"problem\", \"use\", \"offer\", \"system\", \"support\", \"help\", \"work\", \"line\", \"need\", \"bit\", \"window\", \"also\", \"mail\", \"send\", \"price\", \"address\", \"email\", \"copy\", \"model\", \"item\", \"network\", \"telnet\", \"select\", \"list\", \"archive\", \"rsa\", \"welcome\", \"clock\", \"engineering\", \"adrian\", \"registration\", \"please\", \"configuration\", \"inch\", \"brand\", \"remote\", \"signature\", \"protocol\", \"educational\", \"session\", \"fpu\", \"pop\", \"faq\", \"request\", \"contact\", \"interested\", \"information\", \"available\", \"info\", \"receive\", \"sell\", \"include\", \"computer\", \"message\", \"technical\", \"net\", \"service\", \"user\", \"new\", \"ca\", \"post\", \"thank\", \"follow\", \"also\", \"number\", \"may\", \"software\", \"ask\", \"line\", \"soldier\", \"war\", \"village\", \"com\", \"turkish\", \"land\", \"occupy\", \"civilian\", \"peace\", \"terrorism\", \"trust\", \"withdraw\", \"armenian\", \"town\", \"mother\", \"camp\", \"ethnic\", \"troop\", \"bombing\", \"border\", \"northern\", \"patrol\", \"escape\", \"girl\", \"inhabitant\", \"msg\", \"sight\", \"invasion\", \"muslim\", \"movement\", \"greek\", \"attack\", \"resistance\", \"woman\", \"population\", \"kill\", \"force\", \"serve\", \"anti\", \"military\", \"people\", \"man\", \"child\", \"say\", \"government\", \"live\", \"file\", \"entry\", \"section\", \"family\", \"character\", \"manager\", \"period\", \"internal\", \"generate\", \"rational\", \"font\", \"winner\", \"status\", \"predict\", \"default\", \"latch\", \"utility\", \"lock\", \"prize\", \"echo\", \"button\", \"icon\", \"widget\", \"opponent\", \"routine\", \"laboratory\", \"optional\", \"lemon\", \"variety\", \"geometry\", \"program\", \"image\", \"application\", \"multiple\", \"window\", \"code\", \"event\", \"feature\", \"site\", \"operate\", \"size\", \"set\", \"document\", \"create\", \"change\", \"return\", \"build\", \"follow\", \"open\", \"use\", \"type\", \"game\", \"win\", \"graphic\", \"score\", \"format\", \"recommend\", \"library\", \"gateway\", \"average\", \"convert\", \"impact\", \"plate\", \"success\", \"accelerator\", \"stat\", \"talent\", \"king\", \"series\", \"tie\", \"ball\", \"prediction\", \"consideration\", \"role\", \"plug\", \"reflect\", \"pitch\", \"offense\", \"approve\", \"capture\", \"assist\", \"team\", \"division\", \"play\", \"trade\", \"excellent\", \"suggest\", \"hit\", \"significant\", \"final\", \"year\", \"total\", \"lose\", \"last\", \"third\", \"run\", \"pick\", \"lead\", \"first\", \"lot\", \"good\", \"second\", \"point\", \"well\", \"book\", \"reference\", \"reality\", \"publish\", \"page\", \"cpu\", \"printer\", \"knowledge\", \"convince\", \"universe\", \"behavior\", \"topic\", \"specifically\", \"aspect\", \"islamic\", \"newsgroup\", \"creation\", \"usenet\", \"relevant\", \"revise\", \"ancient\", \"birth\", \"sufficient\", \"exchange\", \"formal\", \"typically\", \"orientation\", \"historical\", \"deskjet\", \"progress\", \"learn\", \"imply\", \"demonstrate\", \"group\", \"discuss\", \"compare\", \"concept\", \"value\", \"relate\", \"concern\", \"logic\", \"accord\", \"author\", \"generally\", \"certain\", \"history\", \"correct\", \"study\", \"word\", \"issue\", \"number\", \"regard\", \"define\", \"read\", \"sale\", \"speed\", \"pin\", \"input\", \"unit\", \"signal\", \"digital\", \"battery\", \"socket\", \"circuit\", \"equipment\", \"shipping\", \"vram\", \"tube\", \"mirror\", \"connector\", \"outlet\", \"aid\", \"motherboard\", \"pointer\", \"voltage\", \"contract\", \"up\", \"ethernet\", \"audio\", \"wiring\", \"auto\", \"storage\", \"hook\", \"realistic\", \"cost\", \"supply\", \"ground\", \"rate\", \"box\", \"low\", \"extra\", \"power\", \"range\", \"high\", \"block\", \"device\", \"design\", \"vehicle\", \"fast\", \"build\", \"current\", \"connect\", \"condition\", \"buy\", \"use\", \"need\", \"less\", \"chip\", \"single\", \"key\", \"wire\", \"ripem\", \"encrypt\", \"master\", \"controller\", \"link\", \"typical\", \"interface\", \"resource\", \"procedure\", \"pgp\", \"nuclear\", \"popular\", \"random\", \"export\", \"decent\", \"multi\", \"acquire\", \"legitimate\", \"unknown\", \"database\", \"customer\", \"bug\", \"string\", \"cross\", \"noise\", \"probe\", \"partner\", \"algorithm\", \"edge\", \"chip\", \"serial\", \"system\", \"number\", \"bit\", \"datum\", \"difficult\", \"produce\", \"test\", \"use\", \"contain\", \"table\", \"part\", \"large\", \"main\", \"israeli\", \"patient\", \"tape\", \"press\", \"insurance\", \"purchase\", \"pain\", \"trial\", \"tax\", \"disease\", \"health\", \"medical\", \"christianity\", \"boy\", \"adult\", \"scripture\", \"bill\", \"arab\", \"left\", \"excuse\", \"immediate\", \"insert\", \"neutral\", \"concerned\", \"truck\", \"arrest\", \"gospel\", \"surveillance\", \"primary\", \"duo\", \"rise\", \"drug\", \"research\", \"medium\", \"step\", \"normal\", \"report\", \"center\", \"risk\", \"impossible\", \"jewish\", \"age\", \"case\", \"pay\", \"increase\", \"car\", \"wing\", \"engine\", \"hockey\", \"playoff\", \"mount\", \"motorcycle\", \"benefit\", \"ticket\", \"sport\", \"helmet\", \"jet\", \"slip\", \"coach\", \"specify\", \"coverage\", \"devil\", \"remind\", \"ahead\", \"spring\", \"dept\", \"sender\", \"leg\", \"advertising\", \"trip\", \"standing\", \"tire\", \"snow\", \"rush\", \"invent\", \"goal\", \"mile\", \"oil\", \"road\", \"dealer\", \"fan\", \"door\", \"catch\", \"room\", \"flame\", \"front\", \"next\", \"net\", \"go\", \"leave\", \"ax\", \"max\", \"lebanese\", \"slave\", \"community\", \"seller\", \"bomb\", \"diagnosis\", \"keyboard\", \"homosexual\", \"male\", \"natural\", \"sexual\", \"marriage\", \"gay\", \"byte\", \"attitude\", \"promise\", \"match\", \"contest\", \"relation\", \"taste\", \"liar\", \"detailed\", \"pitcher\", \"diagnose\", \"rock\", \"favor\", \"passage\", \"researcher\", \"brain\", \"weight\", \"sex\", \"man\", \"science\", \"function\", \"object\", \"cd\", \"scientific\", \"plane\", \"title\", \"review\", \"energy\", \"planet\", \"headache\", \"map\", \"percent\", \"patent\", \"compile\", \"conference\", \"sun\", \"properly\", \"neurologist\", \"pattern\", \"spacecraft\", \"publication\", \"experiment\", \"syndrome\", \"mercy\", \"dn\", \"lab\", \"radiation\", \"examination\", \"newsletter\", \"field\", \"source\", \"theory\", \"paper\", \"study\", \"process\", \"include\", \"area\", \"food\", \"cool\", \"treatment\", \"doctor\", \"air\", \"tumor\", \"trap\", \"fuel\", \"water\", \"cycle\", \"ice\", \"detector\", \"heat\", \"cap\", \"reaction\", \"radar\", \"factory\", \"eeg\", \"vertical\", \"spot\", \"chemical\", \"bust\", \"chronic\", \"pathology\", \"film\", \"useless\", \"movie\", \"decrease\", \"speaker\", \"diet\", \"hour\", \"gas\", \"hot\", \"component\", \"cause\", \"body\", \"cold\", \"lot\", \"sensitive\", \"clean\", \"low\", \"station\", \"material\", \"pack\", \"draft\", \"flight\", \"cable\", \"description\", \"dual\", \"meeting\", \"capacity\", \"trace\", \"quick\", \"guilty\", \"distance\", \"attend\", \"british\", \"originally\", \"informed\", \"intelligence\", \"wild\", \"compute\", \"related\", \"broadcast\", \"frequency\", \"selective\", \"phase\", \"edition\", \"cluster\", \"crew\", \"sneak\", \"wide\", \"meet\", \"tv\", \"join\", \"special\", \"radio\", \"additional\", \"requirement\", \"processor\", \"language\", \"profit\", \"panel\", \"schedule\", \"co\", \"fit\", \"option\", \"remove\", \"large\", \"space\", \"orbit\", \"launch\", \"data\", \"sphere\", \"mission\", \"satellite\", \"translation\", \"shuttle\", \"lunar\", \"moon\", \"solid\", \"forever\", \"saturn\", \"ozone\", \"guide\", \"installation\", \"velocity\", \"distant\", \"permanent\", \"band\", \"specifie\", \"comet\", \"planetary\", \"straightforward\", \"radius\", \"surgery\", \"aluminum\", \"programmer\", \"theist\", \"solar\", \"earth\", \"surface\", \"volume\", \"rocket\", \"project\", \"datum\", \"design\", \"vehicle\", \"bike\", \"ride\", \"steal\", \"rider\", \"hole\", \"perfect\", \"wave\", \"dog\", \"metal\", \"drink\", \"egg\", \"instruction\", \"weekend\", \"travel\", \"implementation\", \"gold\", \"shop\", \"spare\", \"crack\", \"biker\", \"replacement\", \"custom\", \"stack\", \"cbr\", \"fetch\", \"investment\", \"scratch\", \"worked\", \"jiggle\", \"marker\", \"temporary\", \"tank\", \"thread\", \"black\", \"cover\", \"wear\", \"light\", \"screw\", \"street\"], \"Freq\": [10135.0, 12466.0, 10073.0, 7134.0, 3891.0, 5866.0, 6449.0, 2150.0, 5844.0, 3264.0, 2211.0, 2256.0, 4748.0, 5736.0, 4362.0, 5367.0, 6409.0, 1674.0, 2506.0, 2861.0, 5708.0, 5559.0, 1551.0, 1479.0, 1677.0, 2902.0, 2385.0, 1673.0, 2678.0, 2338.0, 10134.997570349604, 5735.356402859603, 5366.594390579541, 2878.051335279286, 2742.5881905084398, 2250.2281310029784, 1663.8667117278221, 1510.8102724820037, 1435.9340325087078, 1431.214416053694, 1343.83049286241, 1248.020391499693, 1074.8894749693686, 952.0185363325468, 876.9912289337655, 714.0523605829579, 681.1480530665046, 677.7536322825503, 635.7331337228455, 616.4732979024272, 615.0713889399126, 531.9906095677927, 503.2080754746395, 464.59737289728264, 455.1128278946354, 441.15287990563746, 439.33018674370265, 398.05351425019376, 388.31828843352747, 385.59557671378036, 12146.440572575335, 869.4258991718567, 4600.965804960187, 6256.182218561157, 954.6206056225714, 3322.228288928209, 5658.262392205864, 1462.3245436729583, 3694.8684306147, 2371.5478829574336, 4411.69076741617, 1106.853780277161, 1896.1529312497237, 5092.558568850582, 3251.907825994241, 4318.645923957115, 5102.318972571496, 1872.241650488862, 1472.5829736614119, 2222.416105464505, 8186.850924549435, 2689.112111592245, 4999.4652406389205, 5780.067154386891, 2897.4390537022155, 2979.411151109754, 2742.35585417716, 2565.2415410090775, 4255.454997463395, 2462.8350727842662, 2451.031150631369, 2407.3528965538717, 2921.8486861316414, 946.5025879712653, 868.4331432333369, 691.6632036041093, 619.9490706760071, 618.2260204368508, 572.9143918935051, 538.4856154491137, 505.31228686148734, 471.2761631745267, 429.4876250297998, 393.40083796524544, 381.1247556156407, 378.7829962224374, 361.6293171964595, 349.98843291839313, 345.9188348377723, 337.4694721452366, 334.42395659299655, 329.737398182911, 322.5979467412783, 285.05228604621243, 283.4550054416076, 283.0602291114696, 280.97767050458725, 269.5498097161302, 266.7715936735749, 257.5913055829544, 251.42796890972795, 248.26913368841605, 244.66391099244487, 1460.1097996591895, 630.1941431052298, 1425.6129856108064, 606.1057083911219, 656.1964164926985, 1011.3603292080014, 692.3968355164287, 1072.2174260190802, 406.9426112870266, 441.68571813076534, 474.252079672255, 826.1541430706061, 512.9487792326483, 799.6243908781393, 546.1804852503825, 416.2389047416134, 548.0516442761964, 560.4156258804073, 531.0279195721635, 503.63662144077824, 504.6526052457953, 1007.1158363758818, 768.9008351062639, 715.5977331169406, 648.0506000800582, 630.521513087179, 571.0284608466606, 500.44573651223345, 470.6831765562079, 460.82469276934535, 371.890485179791, 368.4676150798887, 337.93890871168094, 314.4980878360123, 314.06284906084517, 307.8318538076252, 306.92459750917095, 295.2337677796926, 259.68244719324997, 257.3816018703778, 244.4613833437941, 235.9270153660994, 235.7883520045786, 215.22949684744694, 214.74563086544725, 197.89295741825427, 191.0335288113703, 189.67032926382106, 186.7969567107327, 180.15884760737842, 177.25138546147525, 1954.8387864915567, 1367.7823534502124, 1167.9078322987293, 653.4722202440864, 473.50852847884835, 1798.2503649140242, 1023.5725771976302, 1630.553346059383, 396.3774885652013, 542.2771850390491, 545.8294176625749, 628.4663514192847, 684.7635953198712, 1744.7610035362013, 726.5761186634873, 394.623229222497, 643.5483070845378, 1072.7246747949707, 975.5496821978708, 592.2773572989194, 614.3544327082925, 665.7792102650469, 458.72658549342106, 593.5642293180724, 546.415451326955, 605.5241363317617, 1317.4123898337589, 876.4890380993688, 794.2048543865475, 676.8981774384883, 635.6025659454775, 538.9617092252666, 412.56655649184796, 372.94534760850706, 337.75124472290975, 306.3396919585846, 297.73179117340663, 297.5785736664725, 288.97701760428316, 268.4730444619578, 264.95059021701184, 257.9199195876361, 253.80908670101402, 232.1841180818407, 228.17126962256407, 215.33631044482615, 212.76641438786294, 211.02146450115248, 210.05969135835292, 202.03199283076157, 199.06262470586745, 196.7931588356582, 190.50200721343816, 187.24584250297397, 181.1484881784696, 169.77264534018283, 563.1458294151515, 1654.9531634780037, 554.5214247969615, 842.2193764597004, 636.5179433014225, 609.0735796505808, 465.7020253410027, 567.0020991749584, 426.69625458756036, 390.62310543836963, 1850.3522016186362, 1256.0020426239134, 546.0593015756892, 2523.1395272873983, 796.4344957901404, 598.704489509138, 428.3299829909282, 567.1624544952548, 356.37081625450344, 438.22087740331006, 410.6504123830689, 413.9250825355833, 424.5074762213109, 400.76533396675995, 1567.9496589360122, 1092.310797174423, 776.0368997335926, 708.7003266710834, 675.9551415274714, 632.7860192435157, 629.2377300643038, 606.1530976419507, 577.1345817161992, 573.0037381348643, 572.6194518306376, 527.3732523444809, 526.8518032838138, 524.6416706417563, 520.2512014174195, 493.26724836431833, 446.1308906096123, 406.92111342507525, 389.09204477522974, 338.19518648448667, 337.35358290484726, 325.74879224668683, 300.9968595095434, 286.9294443267057, 272.0697854214188, 250.9093587603484, 248.551308677638, 245.29804372514283, 233.2517525633264, 227.78997627795144, 2383.851813140172, 838.77637672433, 797.7994085651051, 550.2013576258163, 1756.2006602081515, 600.1367435450427, 892.5505904274266, 1273.3334256665312, 1505.0969064773872, 1753.0298118055268, 563.8737498347609, 1437.8069550610123, 826.7091526595738, 929.7202922881088, 1166.2723998282718, 1420.5593959695975, 843.9071357192414, 661.5804702408979, 635.4809233297298, 561.8829623099107, 1672.3638748654027, 1560.5463249097425, 1063.1841332923252, 1018.44320192287, 870.2538381443492, 834.1070955164744, 653.9720929797927, 440.1488623171719, 399.19757804648594, 347.06730755147095, 277.9452712729868, 1233.5038900300178, 192.82798567421605, 192.4690824966997, 189.97236474006436, 188.10635040011076, 159.38799429006758, 158.6781831237552, 157.55543191619253, 142.06123854059388, 141.1166968336473, 137.18606670119934, 133.83639616420962, 132.23230565382573, 120.28803636557755, 118.29733084709028, 112.04742067569988, 103.44017191996544, 101.65503801854425, 100.367933225659, 377.68680618358275, 378.0437075491419, 378.95945210576565, 686.1419346771505, 1368.4133779943238, 1008.4088662465502, 567.2928152172784, 761.6851566404404, 792.6399225980447, 1329.7039301698778, 823.5188126470093, 881.6620438968762, 268.1542883996467, 468.37595447836554, 500.288503043693, 478.8301883013528, 885.6538016486652, 352.48946847859355, 995.967243159824, 627.9331501152421, 493.795445074162, 658.8726733601128, 516.8884442843271, 545.6732460804167, 448.5765388930664, 439.79147858728567, 465.06876817947773, 620.1194709588885, 592.6799814366702, 569.6110141621139, 569.5347702083293, 466.2537445409867, 419.7857471807313, 398.2312309971566, 309.03503639989464, 299.8798214134683, 291.4338589691005, 274.04480982564377, 269.0595493317723, 253.22929158313778, 252.12328413919616, 249.92225282537274, 209.5195816540811, 196.06378457154466, 189.13287154515012, 177.07658266474797, 174.2825024581599, 173.12976140241145, 168.34937448110438, 168.1883283606734, 159.646248958872, 151.5764205039988, 150.54974480849478, 147.94166950541518, 147.70547992548768, 147.5004781399965, 146.6174436601147, 286.77759284531527, 596.3848649061958, 255.3708962054043, 326.5301390026095, 254.95901217816265, 501.9877984098811, 411.5057991077067, 261.14579874641777, 187.91465642146554, 239.09670119783618, 452.88558099389604, 286.1470630402922, 269.55195107702417, 360.0836115194999, 284.14181286564326, 244.10083036076367, 2210.607824687389, 971.9871916330753, 671.9067269352454, 530.0397441439543, 527.2246681392115, 505.3773882426591, 438.7460433013351, 418.7487370340421, 316.24998568079735, 291.32019270714534, 271.66700303854316, 241.448127656973, 231.8496015277373, 190.8325370858238, 182.53115838801855, 177.20640476536954, 171.8365284146197, 169.86638277142455, 167.56077633028403, 164.37390845361537, 161.33188938605664, 159.6929154556842, 156.78835089211435, 152.2376509845509, 149.207160046236, 143.1790352787136, 139.33385105858488, 136.04729591615708, 134.25888327336466, 130.0059157407668, 2224.6027406978956, 825.9196613042833, 601.0564360279303, 210.3766753096094, 1021.5008560725645, 447.63073757582805, 471.5036689230459, 285.7038783342775, 359.3691288005854, 275.759314251477, 336.53625207656063, 596.0418162526153, 224.09619712151365, 349.50349552861763, 407.3404304669004, 302.92612711955627, 311.17232993951603, 312.38912980348954, 247.966411401233, 274.0950910009931, 250.46112574027225, 1470.0183497071728, 1107.673362363046, 677.2505719271461, 490.0949288334206, 410.9482053472512, 313.99704547383703, 313.5279909208674, 308.28244224840506, 299.74986819063895, 240.62475555673268, 218.6290501868526, 195.24048674663732, 194.26975859758264, 183.81902755821812, 180.40474763434088, 167.32942050148714, 165.45793885847942, 164.5074418031853, 162.8116926182076, 157.19984609032622, 152.71790135487336, 149.24837424509647, 144.22548266235333, 144.10594662163638, 138.7184063532025, 136.48328278509408, 134.65422890980693, 134.6500292799173, 133.19091677456535, 130.13720096484232, 1636.273834716838, 449.89024190665367, 1131.4764043440578, 360.7167965888349, 229.75225894753927, 546.8284768917317, 430.91604559581333, 246.55465213728286, 318.8271951386776, 1906.8607058981968, 309.266517166424, 516.5477646872596, 752.7699657722064, 249.9828157691057, 776.8792163837097, 275.03512299573345, 395.89818922862264, 452.8397244366275, 356.94184708064637, 427.8775079005088, 296.04491251394427, 300.31073930941477, 268.1292822874529, 1171.2166953812525, 627.7554115124269, 477.1703363209291, 472.19847536011997, 639.5385700269411, 394.2999785879574, 345.7653716418731, 308.4644278867696, 294.6913571607641, 222.3869338614916, 205.05191773816182, 199.85057148531536, 193.11735877297838, 178.0614371568428, 168.70112106813045, 167.88492956206107, 167.61658318896204, 159.0859140062947, 147.72732594950233, 135.78552246640749, 134.8001773606444, 127.77496252147765, 123.17383228452555, 119.42562389414233, 117.71394106516608, 114.7100502215484, 108.47311872057699, 107.57613134578601, 107.30717748495222, 106.66143615687614, 472.0801693905229, 196.50335033477216, 170.7952672945274, 1139.483784729275, 293.61603133440923, 432.0366089196305, 195.7455139191632, 456.39229732458807, 280.6576832635323, 380.25790866621253, 284.555741650814, 306.73223554650974, 292.3689587517615, 220.0144675827684, 288.04098038789976, 286.96893680870875, 272.979872458566, 257.76379168800344, 289.84404025255964, 324.1276740319943, 363.1329563613703, 229.1132194002562, 209.0080410725082, 211.60634771686026, 721.55159242419, 664.5169030857176, 535.5760858902629, 440.7524501605957, 387.41016933765394, 275.96607677788796, 245.82053468161283, 208.3725855549746, 206.988248754254, 199.99046616604127, 194.94989644044355, 188.90710999913404, 180.74616958495076, 178.44309440787748, 176.6307153957119, 161.73615145418998, 159.32814898464406, 158.09436575520314, 156.279110446643, 154.28422631924929, 138.42807540308584, 135.63413148332123, 132.4115454388636, 132.38886378729526, 131.3364680264834, 126.98256064814787, 121.63134269395067, 120.8839658387947, 120.25317760349377, 119.39398678049767, 856.3665300403785, 406.9203343214759, 374.48024732143466, 735.3303999043231, 314.0384451978107, 631.4040585769843, 218.72007005230398, 922.3669803961839, 276.50875994562944, 955.5980982126604, 322.61194513084666, 358.8579803920954, 390.8922630608162, 220.1214509636596, 277.0929275253698, 336.1719897252013, 292.44554577671624, 238.46022369583292, 235.92692975534106, 288.13488146017517, 324.8992088957397, 308.527559921758, 248.58187783624282, 239.98599209926766, 224.12540346866692, 2149.8335982477784, 539.6290641858839, 461.7314622563109, 396.2295485392235, 391.97314548398276, 266.908574435886, 244.02043513309403, 240.5716666690817, 238.324722766138, 220.00369680550477, 219.8537741096445, 199.8189395102594, 196.7871997972641, 182.6991916514689, 175.3587495208476, 172.09198412372226, 163.98142022049788, 156.2759433269715, 155.06275562847003, 149.70522116069884, 149.94845980554763, 149.61060335296628, 147.09655339486585, 141.60433280023906, 136.6304609260443, 133.39637861232717, 131.92020741135855, 129.8911641247448, 126.62353082179008, 126.50079447241862, 264.69144470541454, 847.605319162676, 412.6592630466665, 1265.357967930709, 986.4629871702107, 649.919386806759, 387.8584360915533, 205.6365122845924, 297.31705346093355, 356.4339768592356, 814.8506817405225, 281.0289683269812, 184.39750656393335, 254.4717410581558, 215.89112503298844, 189.69575020569374, 810.4238452068797, 599.3702432601191, 574.8572451032524, 460.705579670891, 315.7686869727031, 315.58446656678314, 312.19244088061225, 302.3480829583408, 293.7171816784469, 276.8294950985461, 274.48640182029015, 264.1715891585876, 239.06998705299628, 238.01465617130273, 222.95787895341007, 220.3508208123375, 201.35624200468874, 191.30497691403468, 164.02972980751426, 137.71554737225856, 134.12462651965382, 130.20844064348873, 128.7282928320759, 128.37544482263976, 127.67600818028998, 124.64448085263827, 123.66853277497563, 122.45767725128637, 119.95428829515203, 114.72223542183853, 229.29672173829485, 463.4362535434201, 462.8933013141328, 257.4718585428667, 211.16802334959195, 280.61497128319576, 579.3484173067743, 258.9436466091906, 315.56919368806825, 162.87481920021057, 251.3114914472268, 248.0629306709516, 391.8841242783178, 297.0791345378586, 229.02001556682353, 1550.8600120069148, 569.4385946069216, 453.71236633837214, 440.6937357030986, 340.21620609659595, 329.58567547603946, 235.7333119113325, 213.5718339373811, 206.95656379324762, 197.85053744045442, 187.84379198017197, 187.6897320955953, 187.62169779916795, 185.01942032157655, 182.89156867107206, 163.83557457083307, 163.67303445173204, 143.83144352014034, 143.76119639104127, 142.8400120174146, 131.42798036759334, 124.61829706730526, 120.85664645707983, 114.12422675221934, 111.5054080067996, 105.80454629525468, 104.65449867173699, 104.22008938082146, 102.9450235835051, 100.91064693300115, 418.11110481780827, 236.16691716056297, 197.62760485700954, 260.1339291515808, 331.92943637150915, 390.7066153308147, 214.78953788901268, 190.6577179690129, 223.16211329341184, 248.6407236523252, 203.81436888806903, 226.4190456342623, 165.6313226446558, 185.4744804267107, 164.5410283754246, 1673.9292825184918, 1478.5414580838808, 746.7640755073609, 728.3876245395227, 456.0443135708955, 371.08006908322346, 333.6111112944796, 309.3447589739818, 298.623488956549, 291.2922483738746, 280.7396792047843, 277.00706437610256, 270.40170424545005, 244.17648430416483, 241.78731553304442, 233.58051863306363, 219.48820345426614, 206.20744900069147, 193.68594335387434, 192.65902850516414, 178.2701569927376, 169.68302327025498, 167.09103895221315, 153.5260767631426, 148.33613737631327, 146.8279800174987, 146.09927702876072, 139.6563348882796, 137.80635204927304, 137.7275517093177, 457.7021196552185, 328.17118742983774, 171.8376229563973, 158.8742410447333, 953.1598106999232, 525.4542347952956, 384.8726583774082, 358.2304606092593, 345.3694861999277, 279.20992406236917, 256.9882789781547, 254.92746179417523, 200.65191936913706, 191.3770068415766, 188.87175726007592, 178.4999118163682, 177.514537595393, 174.24161142968256, 172.90511280128428, 171.27076720354813, 171.25197452311636, 171.03721363654586, 164.58673636402978, 153.18840219661823, 151.26785579769907, 147.72796265397054, 146.16481749336316, 135.54327265862025, 123.93689557826, 152.62590739963076, 119.73288095590671, 118.94641169126517, 118.11446691287595, 105.30824461876603, 457.1087221864831, 1189.7890752539604, 293.6205194565179, 258.4374202524407, 263.82584009288377, 215.70694867193444, 167.298604597655, 156.3397998413877, 400.61103441786344, 365.9908221902968, 305.67267193776286, 278.12658934285247, 258.0224725791951, 251.61158173286373, 240.56151254092603, 232.20774441914196, 229.91423310381558, 228.2184473726272, 193.19742264985666, 167.0666624933385, 156.71954205182791, 154.45895210923027, 153.62265916675972, 146.23414525399122, 144.24462662097883, 152.32000757257126, 130.78333325747147, 130.5778520435029, 111.32832885860772, 108.42880943827667, 104.96669374644912, 104.21828999423636, 102.79550889315385, 101.67051407612317, 100.75070388411754, 100.46892241823915, 99.92076014199307, 92.60577831766173, 421.8978160708991, 248.2105194242949, 246.89482890136802, 113.67737919979879, 314.5652433069091, 172.76948568377335, 120.55468362172645, 192.327801897957, 120.9301432546488, 120.41593492004587, 116.09571052123682, 348.926009220532, 335.47458667457863, 251.69949623204275, 243.76837811060136, 223.21249130918875, 218.6748880618508, 215.58291432145512, 214.10419917650987, 157.40690721593157, 144.03853250778994, 140.70794168240755, 139.3512230625415, 125.20194431283184, 121.67885604998438, 116.19515509303402, 113.8680296592976, 112.44753910358605, 111.67104587908007, 109.95435407452926, 108.16383294962553, 106.69740314790819, 104.08328596271556, 101.76258282294266, 101.60179095188448, 96.9195598093066, 92.53708382542982, 90.94122495618113, 89.24238388162158, 88.40511338643287, 83.1910405350402, 347.9150752061307, 307.0624303406419, 262.0029484070873, 156.7548278968169, 323.9029118432578, 258.9868335040976, 170.10410710450805, 169.79886773972578, 194.9182995264525, 167.18809700265177, 135.5616907808907, 141.6253465309274, 143.5809891632692, 133.04858040441061, 197.94648329085112, 157.43284895390775, 142.60294234520353, 147.2623256358017, 1070.872525112293, 383.68604816605523, 373.65667941878087, 270.15791918277233, 247.94128288250724, 246.60952992441742, 215.6607967576815, 201.5997689477981, 184.20763626186772, 170.9892083173306, 160.5078889169943, 158.19863202475938, 151.07377493504376, 138.03675017630283, 121.81934154608533, 119.46232710337543, 103.66662739671128, 98.22328911976625, 96.6785148347555, 95.57582036521679, 94.51410363579245, 85.18927673616233, 84.78834769540785, 84.01970439249835, 81.98461296377728, 81.36845247230684, 80.39258450168262, 77.78978227037875, 75.56633481089774, 74.52037996078036, 136.56606616228586, 288.73761981109647, 181.95373471222874, 184.95269180228144, 123.26844342596145, 145.8211365212107, 113.6202541790525, 106.61822019675076, 96.4608451691767, 603.1734075587281, 363.8501740399797, 328.7311196349773, 278.48020545873163, 263.89559141487655, 240.99907283367176, 187.0198209830074, 169.22265832128863, 141.60549537873288, 137.94426729593198, 135.132688605512, 135.04693914997858, 126.9862546708747, 122.79824518110198, 122.46472693087, 115.12223215136873, 95.7111020558068, 93.5860587447021, 92.49809732381797, 85.57160903408706, 79.64727949639227, 77.54966384801492, 73.24353600362537, 72.57129980213438, 72.37187910470463, 72.1169873277512, 70.9645009619586, 70.63317205952748, 70.51081184354649, 69.698814672199, 157.74848414647408, 166.77435932776845, 145.0644216432133, 269.1186454851107, 204.63773079353135, 111.78485269934605, 152.58668620325128, 99.48779542939643, 83.61925813267669], \"Total\": [10135.0, 12466.0, 10073.0, 7134.0, 3891.0, 5866.0, 6449.0, 2150.0, 5844.0, 3264.0, 2211.0, 2256.0, 4748.0, 5736.0, 4362.0, 5367.0, 6409.0, 1674.0, 2506.0, 2861.0, 5708.0, 5559.0, 1551.0, 1479.0, 1677.0, 2902.0, 2385.0, 1673.0, 2678.0, 2338.0, 10135.980217811903, 5736.338965962277, 5367.576953682215, 2879.0338983819606, 2743.5707536111145, 2251.210694105653, 1664.8492748304966, 1511.7928355846782, 1436.9165956113823, 1432.1969791563686, 1344.8130559650845, 1249.0029546023675, 1075.872038072043, 953.0010994352212, 877.9737920364399, 715.0349236856324, 682.1306161691791, 678.7361953852247, 636.71569682552, 617.4558610088136, 616.0539520425871, 532.9731726704672, 504.19362283213746, 465.57993599995734, 456.0953909973101, 442.13544300831217, 440.3127498497733, 399.0360773609058, 389.3008515465022, 386.57813982181875, 12466.054614575003, 871.9378506387573, 4694.6911083684345, 6409.121252304328, 960.2119301675784, 3392.1272240854582, 5844.667376700443, 1485.3384540952945, 3847.526061847027, 2453.2746603829764, 4688.291519528165, 1129.8625161920452, 1980.7611533293182, 5559.958626460901, 3476.704966829095, 4748.5400749795035, 5708.780431077913, 1968.5261832618514, 1531.7181241294943, 2398.8996662258724, 10073.356325814539, 2980.610793641597, 6022.707387817237, 7134.504920761145, 3329.833187724441, 3451.7345664493496, 3190.884560390653, 3075.916317596003, 6449.267631690044, 2952.072451754279, 3061.673387076012, 2990.074488295652, 5496.190128316589, 947.4863082717657, 869.4168634742571, 692.6469238639851, 620.9327909159149, 619.2097406728348, 573.8981121422081, 539.4693356850976, 506.29600709747143, 472.2598834198743, 430.471345270394, 394.3845582350688, 382.1084758741738, 379.7667164584215, 362.6130374623243, 350.9721531543772, 346.9025550737564, 338.4531923812207, 335.40767682898064, 330.721118422819, 323.5816669772624, 286.03600630764066, 284.4387256959983, 284.04394935239003, 281.96139074057135, 270.5335299769298, 267.7553139462468, 258.57502582387485, 252.41168914963595, 249.2528539588951, 245.64763122842896, 1474.5986179670792, 656.073917428033, 1549.5721539870522, 684.543624378581, 815.5886403450529, 1449.2390500509882, 899.5223967661176, 1732.2994682101948, 467.0348712652765, 530.70400514213, 606.6375469861553, 1513.453805501399, 784.1192189605058, 5496.190128316589, 1803.1126541956953, 692.3110609625865, 2442.912444292745, 3264.4618306448715, 3231.8576343816057, 4362.974119100842, 6022.707387817237, 1008.1057485119388, 769.8907472423209, 716.5876452529976, 649.0405122161152, 631.511425223236, 572.0183729827176, 501.4356486482906, 471.6730886922651, 461.8146049054025, 372.8803973158482, 369.45752721594585, 338.92882085113405, 315.4879999768077, 315.05276119690234, 308.82176594368235, 307.9145096452281, 296.22367992786496, 260.6723593327031, 258.37151400643495, 245.4512954798513, 236.91692750689478, 236.77826416146306, 216.21940898350414, 215.73554300150445, 198.88286955431147, 192.0234409474275, 190.66024139987826, 187.7868688467899, 181.14875974343562, 178.24129759753245, 1986.0037293370262, 1421.027796028496, 1253.8789433618851, 702.6992637028632, 502.48567912720716, 2338.096715494532, 1252.1228772031677, 2422.6442539678546, 454.924141122504, 689.7164027677217, 700.6719190607527, 961.5844489072198, 1196.2711701302187, 6449.267631690044, 1514.801950161788, 501.7046777603245, 1648.522317240969, 5866.605809815093, 5496.190128316589, 1701.191726826957, 2083.8166645105744, 2893.520902329393, 800.3559937604223, 2421.3352441811667, 1694.908812521883, 5708.780431077913, 1318.3939489832499, 877.4705972568971, 795.1864135360385, 677.879736630478, 636.5841250949685, 539.9432683747576, 413.54811564133905, 373.92690675799815, 338.73280387632474, 307.32125110807567, 298.71335033093504, 298.5601328159636, 289.95857675377425, 269.4546036721811, 265.9321493698585, 258.9014787371272, 254.79064585421702, 233.16567723133184, 229.1528289073371, 216.3178696595585, 213.74797353735408, 212.00302365064363, 211.04125050784407, 203.01355198518903, 200.04418390697708, 197.77471799474944, 191.48356639668103, 188.2274016564778, 182.13004733289705, 170.7542045026296, 585.0721338083328, 1852.4790039182044, 600.2714807693709, 959.5905388937762, 718.1404687329284, 690.2511752462246, 525.6068580018496, 660.338737942612, 477.5519158304848, 433.35715875150254, 2861.841651505903, 1803.1126541956953, 672.4315998938253, 5866.605809815093, 1237.309014399193, 972.2603332560886, 595.1717588051769, 1070.0799225417302, 477.2589388901235, 822.4052454054297, 722.4434369882308, 914.8593448247345, 1703.4067471765684, 1193.6347428950191, 1568.9332451938342, 1093.294383432245, 777.0204859914145, 709.683912934269, 676.9387277852933, 633.7696055013377, 630.2213163221257, 607.1366838997726, 578.1181679740212, 573.9873243926862, 573.6030380972104, 528.3568386023028, 527.8353895416357, 525.6252569035909, 521.2347876752414, 494.2508346255363, 447.11447686743435, 407.9046997192014, 390.07563103305176, 339.1787727423087, 338.3371691626693, 326.73237850450886, 301.98044580370765, 287.913030592856, 273.05337168717745, 251.89294501817048, 249.53489493546007, 246.2816300223646, 234.23533882114847, 228.77356260664286, 2506.376931241784, 864.790440469738, 872.5830740038202, 611.116627580573, 2385.0636374008227, 732.9730209951683, 1342.056956397922, 2229.8151813038103, 2902.912394337505, 4362.974119100842, 753.3488677212592, 3264.4618306448715, 1473.989387888128, 2085.769846072602, 3471.518749830689, 10073.356325814539, 3231.8576343816057, 1529.0933826951525, 1657.9035980506728, 4299.575975296107, 1673.3452687490856, 1561.5277187934253, 1064.1655271793636, 1019.4245958114891, 871.235232028032, 835.0884894001572, 654.9534868674882, 441.1302562109567, 400.1789719301688, 348.04870146839863, 278.92666516872777, 1238.0460425688698, 193.80937955789895, 193.4504763843065, 190.9537586286836, 189.08774429248808, 160.36938817375048, 159.65957721639526, 158.53682580448557, 143.04263243382323, 142.0980907259088, 138.16746058928655, 134.8177900519052, 133.21369953750863, 121.26943024926038, 119.27872476293642, 113.0288146277713, 104.42156581128405, 102.63643190222707, 101.34932711901635, 391.9793977015584, 396.81152078068027, 399.8340427053972, 744.4544567274384, 1538.6897738055784, 1214.1265482492072, 672.7139665037716, 937.6007957345331, 995.479780670128, 1796.8404935340197, 1203.392838297754, 1325.4395981331616, 322.4031868688519, 711.5458708331441, 791.5741683248938, 766.886192284605, 2442.912444292745, 576.4655606429795, 7134.504920761145, 2385.0636374008227, 1694.908812521883, 4299.575975296107, 2678.163160576744, 5496.190128316589, 1342.056956397922, 1864.2777352669395, 10073.356325814539, 621.1027345100676, 593.6632449878493, 570.594277713293, 570.5180337780714, 467.23700809216587, 420.76901073575084, 399.2144945483358, 310.0182999510738, 300.86308496464744, 292.4171225202797, 275.02807340114674, 270.042812891402, 254.21255513431697, 253.1065476971268, 250.90551638148827, 210.50284520994202, 197.04704812272385, 190.11613509632932, 178.05984621592717, 175.26576601305095, 174.1130249620412, 169.3326380368937, 169.1715919118526, 160.6295125100512, 152.559684055178, 151.53300835967397, 148.92493314129032, 148.68874347666687, 148.48374169117568, 147.60070721623023, 306.70432787505234, 698.1721010055097, 283.24262435589714, 502.82412956978834, 345.2648453386568, 1070.0799225417302, 804.9878647457216, 387.7644991758024, 216.3983601252989, 520.0596516465325, 5866.605809815093, 1514.801950161788, 1193.6347428950191, 6449.267631690044, 1732.2994682101948, 1318.2899120502912, 2211.581210142021, 972.9605770938622, 672.8801123898779, 531.0131296302092, 528.1980535938441, 506.3507736972917, 439.71942878233995, 419.7221225108607, 317.2233711452421, 292.29357825771376, 272.64038849317575, 242.42151311964287, 232.82298701390886, 191.80592258550502, 183.50454384265115, 178.17979045633834, 172.80991386925228, 170.83976823342536, 168.53416181961006, 165.34729390824796, 162.30527484470193, 160.66630091402862, 157.76173634674694, 153.21103648065358, 150.1805455008686, 144.15242080966513, 140.30723656785466, 137.02068148848457, 135.23226872799725, 130.97930128053787, 2256.401374502187, 974.5758786251016, 763.0808156578676, 231.98624594282316, 1657.9035980506728, 594.8721289897297, 697.0483414678996, 377.9140464219927, 532.6195524457479, 369.1648487648658, 531.3831282597281, 1578.812015926543, 301.0617747171282, 793.8766463834977, 1406.3845469528358, 834.4640338689062, 1053.234492069839, 1694.908812521883, 802.7143923290942, 4362.974119100842, 1050.2144588379088, 1471.001517828618, 1108.6565304844912, 678.2337400524319, 491.07809695486606, 411.9313734773587, 314.98021362444916, 314.5111590630175, 309.2656103748157, 300.73303632080365, 241.6079236875417, 219.612218339009, 196.22365490285446, 195.25292674176518, 184.8021956971313, 181.3879157557863, 168.31258862293257, 166.44110697992485, 165.49060995799346, 163.79486073965302, 158.18301421177165, 153.70106948740946, 150.23154237608836, 145.20865080169636, 145.08911475429045, 139.7015745090254, 137.4664509065395, 135.63739703125236, 135.63319742833872, 134.17408492849245, 131.12036917554883, 1677.3842125141857, 456.28130987563395, 1266.4832649165228, 390.5649325678914, 241.30132434204862, 638.4867832115485, 506.4534201134764, 271.7867758058811, 380.01893732207384, 3891.3322694473704, 400.0432887494841, 968.8696812594229, 1867.7464590149318, 322.293643552484, 2229.8151813038103, 409.3589191677704, 901.2029195845718, 2721.2146074737952, 1461.9697854280269, 4748.5400749795035, 1049.173724172691, 2716.835237898095, 3190.884560390653, 1172.1991897920075, 628.7379059231819, 478.1528307697398, 473.1809697747154, 641.1243271375733, 395.28247303018406, 346.7478660526281, 309.4469222975246, 295.6738516009448, 223.36942828827364, 206.03441214891689, 200.83306590195866, 194.09985318373344, 179.04393156759787, 169.6836154788855, 168.86742397281614, 168.59907760465344, 160.0684084308746, 148.7098203751675, 136.76801690858045, 135.7826717752399, 128.75745696008903, 124.15632670416969, 120.40811831470948, 118.6964354958204, 115.69254463704158, 109.45561313133199, 108.558625756541, 108.28967189570722, 107.64393059097401, 483.6168561420277, 206.522019466773, 178.34656330069714, 1695.459864463886, 349.1178392156409, 599.6749553174027, 223.3796665709258, 689.0050770352605, 380.37142409770024, 585.0233469618618, 414.0657159078865, 468.16503658596014, 456.1210759725146, 287.7067849881989, 523.4840465153826, 603.0657981518941, 688.0811583377488, 612.883748504208, 944.2141120976552, 1513.453805501399, 2678.163160576744, 627.7363949000732, 411.88961161751973, 1919.2319439751009, 722.5370137738656, 665.5023244353932, 536.5615072399386, 441.7378715150096, 388.3955906873297, 276.95149813127557, 246.80595604128334, 209.35800690465035, 207.9736701092934, 200.97588751571703, 195.9353177901193, 189.8925313488098, 181.73159093462652, 179.4285157629169, 177.61613679995995, 162.72157280386574, 160.31357033431982, 159.07978712278654, 157.26453179631875, 155.26964767981755, 139.4134967527616, 136.61955285534012, 133.39696680058194, 133.37428516390008, 132.32188937615916, 127.9679820022279, 122.61679367112745, 121.86938718847038, 121.23859895316946, 120.37940837098068, 894.5674798268558, 419.0666288417787, 413.51918150326543, 862.6688704416977, 354.6696799768922, 858.5271432778679, 243.47552827453143, 1381.6218836396386, 325.54688545097804, 1522.3536208322048, 430.87752136350736, 514.0190326028076, 640.5364579100553, 317.52125920469194, 586.2600551282617, 1053.234492069839, 764.837991474587, 423.7466596079673, 480.55011529972097, 1265.3743995741506, 4362.974119100842, 3231.8576343816057, 1110.8316975982045, 1391.281385083386, 791.0937903408088, 2150.817879644042, 540.6133455861603, 462.71574367271126, 397.21382993548735, 392.95742689894996, 267.89285583214985, 245.0047165293579, 241.55594807470914, 239.30900416240186, 220.9879782113151, 220.83805556761303, 200.80322090652328, 197.77148119352796, 183.68347304773278, 176.34303091711146, 173.07626551998612, 164.96570163444596, 157.26022472323535, 156.04703705580798, 150.68950256650916, 150.9347189630557, 150.5948847551184, 148.08083481002043, 142.58861419650293, 137.61474232704634, 134.38066001352738, 132.9044888116351, 130.87544552484908, 127.6078122180539, 127.48507586868243, 307.6628321745231, 1391.281385083386, 619.6968355745349, 3264.4618306448715, 2678.163160576744, 1529.0933826951525, 701.426773076997, 272.46533286639817, 542.4084688429662, 781.2530632849342, 4362.974119100842, 634.8026906525115, 268.0749528025437, 1698.9763768736366, 1103.67904483316, 409.3535101628557, 811.4113875267378, 600.3577855862782, 575.8447874216054, 461.6931220123948, 316.7562292873443, 316.57200888731256, 313.17998320061713, 303.335625272982, 294.70472399308807, 277.8170374131873, 275.47394413493134, 265.1591314732288, 240.05752943056478, 239.0021984897844, 223.94542126805132, 221.3383631363423, 202.34378431932998, 192.29251922867593, 165.0172721339046, 138.7030896918361, 135.11216888980985, 131.19598300374184, 129.7158351684344, 129.362987137281, 128.66355049864308, 125.63202316727944, 124.65607509898037, 123.4452195805218, 120.9418306097932, 115.70977774489674, 237.07861895491965, 504.7351615242194, 552.4064885790926, 300.8693809175492, 244.23718784093492, 366.1341972081507, 973.6395004986875, 335.359356889515, 469.89606364326124, 185.64648274286887, 436.42574152804826, 575.2437719156825, 2174.1277746368833, 976.7820887025551, 619.737290983473, 1551.8431060361843, 570.4216886414081, 454.6954603676417, 441.6768297370499, 341.19930012586553, 330.5687695363353, 236.71640594431392, 214.5549279982731, 207.9396578225172, 198.833631469724, 188.8268860131534, 188.67282612486488, 188.6047918711749, 186.00251435552786, 183.87466275413064, 164.81866860394308, 164.65612848100162, 144.81453760756716, 144.74429042499258, 143.82310607915954, 132.41107440581195, 125.60139116815843, 121.8397405091497, 115.1073208087542, 112.48850204832661, 106.78764032452422, 105.63759270100653, 105.20318341410369, 103.9281176221382, 101.89374100411594, 459.9076651758232, 254.97868175291373, 210.94526937413985, 290.69495140564345, 391.2067365480482, 484.99652280091743, 245.76372096553325, 217.56487913135038, 273.37971892043356, 427.27970213769686, 296.5849367865102, 1184.374934117852, 711.5458708331441, 5844.667376700443, 1242.7240735027715, 1674.9050704828767, 1479.5172460482656, 747.7398635248244, 729.3634125452891, 457.02010154328644, 372.055857143542, 334.58689928761146, 310.3205470492519, 299.5992769394969, 292.2680363382595, 281.7154671725651, 277.9828523787087, 271.37749220983494, 245.15227226854975, 242.76310349742934, 234.5563066221659, 220.46399144508084, 207.18323697462284, 194.66173134982478, 193.63481656929395, 179.2459449661599, 170.65881124000356, 168.06682697466502, 154.50186477070508, 149.31192536306418, 147.80376800815912, 147.07506499929997, 140.63212287134883, 138.78214002763167, 138.70333976227042, 485.56276026775663, 353.48454961360954, 274.4729132797897, 1514.801950161788, 954.142520772516, 526.4369448893232, 385.85536844506476, 359.21317068092856, 346.35219626758425, 280.19263413002574, 257.9709890458113, 255.91017186772004, 201.6346294421573, 192.35971692111087, 189.8544673964379, 179.48262189260342, 178.49724767112724, 175.2243215071513, 173.88782287367906, 172.253477279242, 172.23468459077293, 172.0199237265097, 165.56944656390942, 154.1711122892599, 152.25056586919607, 148.71067272886347, 147.14752756101973, 136.52598274040008, 124.91960572858021, 153.83687572104623, 120.71559102356325, 119.92912177648697, 119.09717700362087, 106.29095472085021, 461.84905819566853, 1249.476359638075, 350.8967239265592, 353.4971110285077, 612.883748504208, 496.93871858284473, 1796.8404935340197, 963.2139291161432, 401.594769790511, 366.97455757066894, 306.65640732899806, 279.1103247188959, 259.0062079650991, 252.59531717192266, 241.5452480171544, 233.1914797994704, 230.89796847646312, 229.2021827571106, 194.1811580305415, 168.05039786598604, 157.70327744654503, 155.44268748523336, 154.6063945443436, 147.21788062663876, 145.22836205632376, 153.36415356896342, 131.7670686341317, 131.56158742083218, 112.31206423509568, 109.41254486553792, 105.9504291286469, 105.20202551996633, 103.77924426580137, 102.65424944877068, 101.73443925676506, 101.45265781338635, 100.90449551865328, 93.58951369030925, 431.6031290754479, 261.69940391381004, 265.4789947550962, 124.69009354662887, 1104.3239237820221, 519.2192758438612, 172.9110623024131, 1461.9697854280269, 207.0197040403706, 239.94694750378446, 858.5271432778679, 349.9099571949904, 336.4585346584006, 252.68344421146634, 244.75232609309703, 224.19643928748755, 219.65883603630917, 216.56686230059523, 215.0881471732431, 158.39085519038994, 145.02248050066203, 141.69188965686592, 140.33517103699987, 126.1858923129806, 122.66280402444274, 117.17910306749238, 114.85197764801033, 113.43148708298074, 112.65499412358837, 110.9383020622751, 109.14778092408389, 107.68135112236655, 105.06723396621085, 102.74653079740102, 102.58573892973877, 97.90350779184263, 93.52103179988818, 91.92517293063949, 90.22633215819882, 89.38906137895557, 84.17498884775202, 376.34338650263714, 349.7228486637174, 296.63472901628694, 168.2329191178523, 386.5783822293347, 316.59240945106546, 192.7966792210733, 203.7565860739431, 250.30740690387995, 208.99912894176597, 153.61582058981458, 167.20043824133228, 171.39195807890252, 153.59484749137948, 331.70634271557856, 408.6624695372161, 455.08885206662717, 1103.67904483316, 1071.8612198985488, 384.6747429523109, 374.64537420503655, 271.1466139777789, 248.92997781538304, 247.59822471067312, 216.64949154393722, 202.58846373405382, 185.19633104812343, 171.9779031035863, 161.49658370325, 159.1873268156968, 152.06246973588276, 139.0254449703184, 122.808036332341, 120.451021913545, 104.65532218296696, 99.21198391592286, 97.66720964088653, 96.56451519475648, 95.50279842204813, 86.17797157711225, 85.77704248166353, 85.00839917875403, 82.97330777738891, 82.35714725856252, 81.38127934512345, 78.77847712279083, 76.55502959715342, 75.50907477141418, 143.09082169049978, 397.1778429862512, 237.3254116576713, 279.31480354985587, 197.69640619663667, 355.03357786374175, 701.426773076997, 640.5364579100553, 317.52125920469194, 604.161054217191, 364.8378206984426, 329.7187662973641, 279.4678521171945, 264.8832380780776, 241.98671950542214, 188.00746764147033, 170.21030497975156, 142.5931420412085, 138.9319139543949, 136.12033541961705, 136.03458581906793, 127.97390134585707, 123.78589186735661, 123.4523736139615, 116.10987881451338, 96.69874871426971, 94.57370543549568, 93.4857439862048, 86.55925569254997, 80.63492616918334, 78.53731050647782, 74.23118268326712, 73.55894650672283, 73.35952609450311, 73.10463402679258, 71.95214763515447, 71.62082050531896, 71.49845907759067, 70.68646211704444, 167.50143138716714, 202.6506899244325, 231.48716884433506, 637.641298237543, 597.2251389563919, 190.34300007870223, 650.7238332217876, 205.08683049540429, 226.79234158439417], \"Category\": [\"Default\", \"Default\", \"Default\", \"Default\", \"Default\", \"Default\", \"Default\", \"Default\", \"Default\", \"Default\", \"Default\", \"Default\", \"Default\", \"Default\", \"Default\", \"Default\", \"Default\", \"Default\", \"Default\", \"Default\", \"Default\", \"Default\", \"Default\", \"Default\", \"Default\", \"Default\", \"Default\", \"Default\", \"Default\", \"Default\", \"Topic1\", \"Topic1\", \"Topic1\", \"Topic1\", \"Topic1\", \"Topic1\", \"Topic1\", \"Topic1\", \"Topic1\", \"Topic1\", \"Topic1\", \"Topic1\", \"Topic1\", \"Topic1\", \"Topic1\", \"Topic1\", \"Topic1\", \"Topic1\", \"Topic1\", \"Topic1\", \"Topic1\", \"Topic1\", \"Topic1\", \"Topic1\", \"Topic1\", \"Topic1\", \"Topic1\", \"Topic1\", \"Topic1\", \"Topic1\", \"Topic1\", \"Topic1\", \"Topic1\", \"Topic1\", \"Topic1\", \"Topic1\", \"Topic1\", \"Topic1\", \"Topic1\", \"Topic1\", \"Topic1\", \"Topic1\", \"Topic1\", \"Topic1\", \"Topic1\", \"Topic1\", \"Topic1\", \"Topic1\", \"Topic1\", \"Topic1\", \"Topic1\", \"Topic1\", \"Topic1\", \"Topic1\", \"Topic1\", \"Topic1\", \"Topic1\", \"Topic1\", \"Topic1\", \"Topic1\", \"Topic1\", \"Topic1\", \"Topic1\", \"Topic2\", \"Topic2\", \"Topic2\", \"Topic2\", \"Topic2\", \"Topic2\", \"Topic2\", \"Topic2\", \"Topic2\", \"Topic2\", \"Topic2\", \"Topic2\", \"Topic2\", \"Topic2\", \"Topic2\", \"Topic2\", \"Topic2\", \"Topic2\", \"Topic2\", \"Topic2\", \"Topic2\", \"Topic2\", \"Topic2\", \"Topic2\", \"Topic2\", \"Topic2\", \"Topic2\", \"Topic2\", \"Topic2\", \"Topic2\", \"Topic2\", \"Topic2\", \"Topic2\", \"Topic2\", \"Topic2\", \"Topic2\", \"Topic2\", \"Topic2\", \"Topic2\", \"Topic2\", \"Topic2\", \"Topic2\", \"Topic2\", \"Topic2\", \"Topic2\", \"Topic2\", \"Topic2\", \"Topic2\", \"Topic2\", \"Topic2\", \"Topic2\", \"Topic3\", \"Topic3\", \"Topic3\", \"Topic3\", \"Topic3\", \"Topic3\", \"Topic3\", \"Topic3\", \"Topic3\", \"Topic3\", \"Topic3\", \"Topic3\", \"Topic3\", \"Topic3\", \"Topic3\", \"Topic3\", \"Topic3\", \"Topic3\", \"Topic3\", \"Topic3\", \"Topic3\", \"Topic3\", \"Topic3\", \"Topic3\", \"Topic3\", \"Topic3\", \"Topic3\", \"Topic3\", \"Topic3\", \"Topic3\", \"Topic3\", \"Topic3\", \"Topic3\", \"Topic3\", \"Topic3\", \"Topic3\", \"Topic3\", \"Topic3\", \"Topic3\", \"Topic3\", \"Topic3\", \"Topic3\", \"Topic3\", \"Topic3\", \"Topic3\", \"Topic3\", \"Topic3\", \"Topic3\", \"Topic3\", \"Topic3\", \"Topic3\", \"Topic3\", \"Topic3\", \"Topic3\", \"Topic3\", \"Topic3\", \"Topic4\", \"Topic4\", \"Topic4\", \"Topic4\", \"Topic4\", \"Topic4\", \"Topic4\", \"Topic4\", \"Topic4\", \"Topic4\", \"Topic4\", \"Topic4\", \"Topic4\", \"Topic4\", \"Topic4\", \"Topic4\", \"Topic4\", \"Topic4\", \"Topic4\", \"Topic4\", \"Topic4\", \"Topic4\", \"Topic4\", \"Topic4\", \"Topic4\", \"Topic4\", \"Topic4\", \"Topic4\", \"Topic4\", \"Topic4\", \"Topic4\", \"Topic4\", \"Topic4\", \"Topic4\", \"Topic4\", \"Topic4\", \"Topic4\", \"Topic4\", \"Topic4\", \"Topic4\", \"Topic4\", \"Topic4\", \"Topic4\", \"Topic4\", \"Topic4\", \"Topic4\", \"Topic4\", \"Topic4\", \"Topic4\", \"Topic4\", \"Topic4\", \"Topic4\", \"Topic4\", \"Topic4\", \"Topic5\", \"Topic5\", \"Topic5\", \"Topic5\", \"Topic5\", \"Topic5\", \"Topic5\", \"Topic5\", \"Topic5\", \"Topic5\", \"Topic5\", \"Topic5\", \"Topic5\", \"Topic5\", \"Topic5\", \"Topic5\", \"Topic5\", \"Topic5\", \"Topic5\", \"Topic5\", \"Topic5\", \"Topic5\", \"Topic5\", \"Topic5\", \"Topic5\", \"Topic5\", \"Topic5\", \"Topic5\", \"Topic5\", \"Topic5\", \"Topic5\", \"Topic5\", \"Topic5\", \"Topic5\", \"Topic5\", \"Topic5\", \"Topic5\", \"Topic5\", \"Topic5\", \"Topic5\", \"Topic5\", \"Topic5\", \"Topic5\", \"Topic5\", \"Topic5\", \"Topic5\", \"Topic5\", \"Topic5\", \"Topic5\", \"Topic5\", \"Topic6\", \"Topic6\", \"Topic6\", \"Topic6\", \"Topic6\", \"Topic6\", \"Topic6\", \"Topic6\", \"Topic6\", \"Topic6\", \"Topic6\", \"Topic6\", \"Topic6\", \"Topic6\", \"Topic6\", \"Topic6\", \"Topic6\", \"Topic6\", \"Topic6\", \"Topic6\", \"Topic6\", \"Topic6\", \"Topic6\", \"Topic6\", \"Topic6\", \"Topic6\", \"Topic6\", \"Topic6\", \"Topic6\", \"Topic6\", \"Topic6\", \"Topic6\", \"Topic6\", \"Topic6\", \"Topic6\", \"Topic6\", \"Topic6\", \"Topic6\", \"Topic6\", \"Topic6\", \"Topic6\", \"Topic6\", \"Topic6\", \"Topic6\", \"Topic6\", \"Topic6\", \"Topic6\", \"Topic6\", \"Topic6\", \"Topic6\", \"Topic6\", \"Topic6\", \"Topic6\", \"Topic6\", \"Topic6\", \"Topic6\", \"Topic6\", \"Topic7\", \"Topic7\", \"Topic7\", \"Topic7\", \"Topic7\", \"Topic7\", \"Topic7\", \"Topic7\", \"Topic7\", \"Topic7\", \"Topic7\", \"Topic7\", \"Topic7\", \"Topic7\", \"Topic7\", \"Topic7\", \"Topic7\", \"Topic7\", \"Topic7\", \"Topic7\", \"Topic7\", \"Topic7\", \"Topic7\", \"Topic7\", \"Topic7\", \"Topic7\", \"Topic7\", \"Topic7\", \"Topic7\", \"Topic7\", \"Topic7\", \"Topic7\", \"Topic7\", \"Topic7\", \"Topic7\", \"Topic7\", \"Topic7\", \"Topic7\", \"Topic7\", \"Topic7\", \"Topic7\", \"Topic7\", \"Topic7\", \"Topic7\", \"Topic7\", \"Topic7\", \"Topic8\", \"Topic8\", \"Topic8\", \"Topic8\", \"Topic8\", \"Topic8\", \"Topic8\", \"Topic8\", \"Topic8\", \"Topic8\", \"Topic8\", \"Topic8\", \"Topic8\", \"Topic8\", \"Topic8\", \"Topic8\", \"Topic8\", \"Topic8\", \"Topic8\", \"Topic8\", \"Topic8\", \"Topic8\", \"Topic8\", \"Topic8\", \"Topic8\", \"Topic8\", \"Topic8\", \"Topic8\", \"Topic8\", \"Topic8\", \"Topic8\", \"Topic8\", \"Topic8\", \"Topic8\", \"Topic8\", \"Topic8\", \"Topic8\", \"Topic8\", \"Topic8\", \"Topic8\", \"Topic8\", \"Topic8\", \"Topic8\", \"Topic8\", \"Topic8\", \"Topic8\", \"Topic8\", \"Topic8\", \"Topic8\", \"Topic8\", \"Topic8\", \"Topic9\", \"Topic9\", \"Topic9\", \"Topic9\", \"Topic9\", \"Topic9\", \"Topic9\", \"Topic9\", \"Topic9\", \"Topic9\", \"Topic9\", \"Topic9\", \"Topic9\", \"Topic9\", \"Topic9\", \"Topic9\", \"Topic9\", \"Topic9\", \"Topic9\", \"Topic9\", \"Topic9\", \"Topic9\", \"Topic9\", \"Topic9\", \"Topic9\", \"Topic9\", \"Topic9\", \"Topic9\", \"Topic9\", \"Topic9\", \"Topic9\", \"Topic9\", \"Topic9\", \"Topic9\", \"Topic9\", \"Topic9\", \"Topic9\", \"Topic9\", \"Topic9\", \"Topic9\", \"Topic9\", \"Topic9\", \"Topic9\", \"Topic9\", \"Topic9\", \"Topic9\", \"Topic9\", \"Topic9\", \"Topic9\", \"Topic9\", \"Topic9\", \"Topic9\", \"Topic9\", \"Topic10\", \"Topic10\", \"Topic10\", \"Topic10\", \"Topic10\", \"Topic10\", \"Topic10\", \"Topic10\", \"Topic10\", \"Topic10\", \"Topic10\", \"Topic10\", \"Topic10\", \"Topic10\", \"Topic10\", \"Topic10\", \"Topic10\", \"Topic10\", \"Topic10\", \"Topic10\", \"Topic10\", \"Topic10\", \"Topic10\", \"Topic10\", \"Topic10\", \"Topic10\", \"Topic10\", \"Topic10\", \"Topic10\", \"Topic10\", \"Topic10\", \"Topic10\", \"Topic10\", \"Topic10\", \"Topic10\", \"Topic10\", \"Topic10\", \"Topic10\", \"Topic10\", \"Topic10\", \"Topic10\", \"Topic10\", \"Topic10\", \"Topic10\", \"Topic10\", \"Topic10\", \"Topic10\", \"Topic10\", \"Topic10\", \"Topic10\", \"Topic10\", \"Topic10\", \"Topic10\", \"Topic10\", \"Topic11\", \"Topic11\", \"Topic11\", \"Topic11\", \"Topic11\", \"Topic11\", \"Topic11\", \"Topic11\", \"Topic11\", \"Topic11\", \"Topic11\", \"Topic11\", \"Topic11\", \"Topic11\", \"Topic11\", \"Topic11\", \"Topic11\", \"Topic11\", \"Topic11\", \"Topic11\", \"Topic11\", \"Topic11\", \"Topic11\", \"Topic11\", \"Topic11\", \"Topic11\", \"Topic11\", \"Topic11\", \"Topic11\", \"Topic11\", \"Topic11\", \"Topic11\", \"Topic11\", \"Topic11\", \"Topic11\", \"Topic11\", \"Topic11\", \"Topic11\", \"Topic11\", \"Topic11\", \"Topic11\", \"Topic11\", \"Topic11\", \"Topic11\", \"Topic11\", \"Topic11\", \"Topic11\", \"Topic11\", \"Topic11\", \"Topic11\", \"Topic11\", \"Topic11\", \"Topic11\", \"Topic11\", \"Topic11\", \"Topic12\", \"Topic12\", \"Topic12\", \"Topic12\", \"Topic12\", \"Topic12\", \"Topic12\", \"Topic12\", \"Topic12\", \"Topic12\", \"Topic12\", \"Topic12\", \"Topic12\", \"Topic12\", \"Topic12\", \"Topic12\", \"Topic12\", \"Topic12\", \"Topic12\", \"Topic12\", \"Topic12\", \"Topic12\", \"Topic12\", \"Topic12\", \"Topic12\", \"Topic12\", \"Topic12\", \"Topic12\", \"Topic12\", \"Topic12\", \"Topic12\", \"Topic12\", \"Topic12\", \"Topic12\", \"Topic12\", \"Topic12\", \"Topic12\", \"Topic12\", \"Topic12\", \"Topic12\", \"Topic12\", \"Topic12\", \"Topic12\", \"Topic12\", \"Topic12\", \"Topic12\", \"Topic13\", \"Topic13\", \"Topic13\", \"Topic13\", \"Topic13\", \"Topic13\", \"Topic13\", \"Topic13\", \"Topic13\", \"Topic13\", \"Topic13\", \"Topic13\", \"Topic13\", \"Topic13\", \"Topic13\", \"Topic13\", \"Topic13\", \"Topic13\", \"Topic13\", \"Topic13\", \"Topic13\", \"Topic13\", \"Topic13\", \"Topic13\", \"Topic13\", \"Topic13\", \"Topic13\", \"Topic13\", \"Topic13\", \"Topic13\", \"Topic13\", \"Topic13\", \"Topic13\", \"Topic13\", \"Topic13\", \"Topic13\", \"Topic13\", \"Topic13\", \"Topic13\", \"Topic13\", \"Topic13\", \"Topic13\", \"Topic13\", \"Topic13\", \"Topic13\", \"Topic14\", \"Topic14\", \"Topic14\", \"Topic14\", \"Topic14\", \"Topic14\", \"Topic14\", \"Topic14\", \"Topic14\", \"Topic14\", \"Topic14\", \"Topic14\", \"Topic14\", \"Topic14\", \"Topic14\", \"Topic14\", \"Topic14\", \"Topic14\", \"Topic14\", \"Topic14\", \"Topic14\", \"Topic14\", \"Topic14\", \"Topic14\", \"Topic14\", \"Topic14\", \"Topic14\", \"Topic14\", \"Topic14\", \"Topic14\", \"Topic14\", \"Topic14\", \"Topic14\", \"Topic14\", \"Topic14\", \"Topic14\", \"Topic14\", \"Topic14\", \"Topic14\", \"Topic14\", \"Topic14\", \"Topic14\", \"Topic14\", \"Topic14\", \"Topic14\", \"Topic15\", \"Topic15\", \"Topic15\", \"Topic15\", \"Topic15\", \"Topic15\", \"Topic15\", \"Topic15\", \"Topic15\", \"Topic15\", \"Topic15\", \"Topic15\", \"Topic15\", \"Topic15\", \"Topic15\", \"Topic15\", \"Topic15\", \"Topic15\", \"Topic15\", \"Topic15\", \"Topic15\", \"Topic15\", \"Topic15\", \"Topic15\", \"Topic15\", \"Topic15\", \"Topic15\", \"Topic15\", \"Topic15\", \"Topic15\", \"Topic15\", \"Topic15\", \"Topic15\", \"Topic15\", \"Topic16\", \"Topic16\", \"Topic16\", \"Topic16\", \"Topic16\", \"Topic16\", \"Topic16\", \"Topic16\", \"Topic16\", \"Topic16\", \"Topic16\", \"Topic16\", \"Topic16\", \"Topic16\", \"Topic16\", \"Topic16\", \"Topic16\", \"Topic16\", \"Topic16\", \"Topic16\", \"Topic16\", \"Topic16\", \"Topic16\", \"Topic16\", \"Topic16\", \"Topic16\", \"Topic16\", \"Topic16\", \"Topic16\", \"Topic16\", \"Topic16\", \"Topic16\", \"Topic16\", \"Topic16\", \"Topic16\", \"Topic16\", \"Topic16\", \"Topic16\", \"Topic17\", \"Topic17\", \"Topic17\", \"Topic17\", \"Topic17\", \"Topic17\", \"Topic17\", \"Topic17\", \"Topic17\", \"Topic17\", \"Topic17\", \"Topic17\", \"Topic17\", \"Topic17\", \"Topic17\", \"Topic17\", \"Topic17\", \"Topic17\", \"Topic17\", \"Topic17\", \"Topic17\", \"Topic17\", \"Topic17\", \"Topic17\", \"Topic17\", \"Topic17\", \"Topic17\", \"Topic17\", \"Topic17\", \"Topic17\", \"Topic17\", \"Topic17\", \"Topic17\", \"Topic17\", \"Topic17\", \"Topic17\", \"Topic17\", \"Topic17\", \"Topic17\", \"Topic17\", \"Topic17\", \"Topic18\", \"Topic18\", \"Topic18\", \"Topic18\", \"Topic18\", \"Topic18\", \"Topic18\", \"Topic18\", \"Topic18\", \"Topic18\", \"Topic18\", \"Topic18\", \"Topic18\", \"Topic18\", \"Topic18\", \"Topic18\", \"Topic18\", \"Topic18\", \"Topic18\", \"Topic18\", \"Topic18\", \"Topic18\", \"Topic18\", \"Topic18\", \"Topic18\", \"Topic18\", \"Topic18\", \"Topic18\", \"Topic18\", \"Topic18\", \"Topic18\", \"Topic18\", \"Topic18\", \"Topic18\", \"Topic18\", \"Topic18\", \"Topic18\", \"Topic18\", \"Topic18\", \"Topic18\", \"Topic18\", \"Topic18\", \"Topic18\", \"Topic18\", \"Topic18\", \"Topic18\", \"Topic18\", \"Topic18\", \"Topic19\", \"Topic19\", \"Topic19\", \"Topic19\", \"Topic19\", \"Topic19\", \"Topic19\", \"Topic19\", \"Topic19\", \"Topic19\", \"Topic19\", \"Topic19\", \"Topic19\", \"Topic19\", \"Topic19\", \"Topic19\", \"Topic19\", \"Topic19\", \"Topic19\", \"Topic19\", \"Topic19\", \"Topic19\", \"Topic19\", \"Topic19\", \"Topic19\", \"Topic19\", \"Topic19\", \"Topic19\", \"Topic19\", \"Topic19\", \"Topic19\", \"Topic19\", \"Topic19\", \"Topic19\", \"Topic19\", \"Topic19\", \"Topic19\", \"Topic19\", \"Topic19\", \"Topic20\", \"Topic20\", \"Topic20\", \"Topic20\", \"Topic20\", \"Topic20\", \"Topic20\", \"Topic20\", \"Topic20\", \"Topic20\", \"Topic20\", \"Topic20\", \"Topic20\", \"Topic20\", \"Topic20\", \"Topic20\", \"Topic20\", \"Topic20\", \"Topic20\", \"Topic20\", \"Topic20\", \"Topic20\", \"Topic20\", \"Topic20\", \"Topic20\", \"Topic20\", \"Topic20\", \"Topic20\", \"Topic20\", \"Topic20\", \"Topic20\", \"Topic20\", \"Topic20\", \"Topic20\", \"Topic20\", \"Topic20\", \"Topic20\", \"Topic20\", \"Topic20\"], \"logprob\": [30.0, 29.0, 28.0, 27.0, 26.0, 25.0, 24.0, 23.0, 22.0, 21.0, 20.0, 19.0, 18.0, 17.0, 16.0, 15.0, 14.0, 13.0, 12.0, 11.0, 10.0, 9.0, 8.0, 7.0, 6.0, 5.0, 4.0, 3.0, 2.0, 1.0, -3.5402, -4.1096, -4.176, -4.7991, -4.8473, -5.0452, -5.3471, -5.4436, -5.4944, -5.4977, -5.5607, -5.6346, -5.784, -5.9054, -5.9875, -6.193, -6.2402, -6.2452, -6.3092, -6.3399, -6.3422, -6.4873, -6.543, -6.6228, -6.6434, -6.6746, -6.6787, -6.7774, -6.8021, -6.8092, -3.3592, -5.9961, -4.3299, -4.0226, -5.9026, -4.6556, -4.1231, -5.4762, -4.5493, -4.9927, -4.3719, -5.7547, -5.2164, -4.2284, -4.677, -4.3933, -4.2265, -5.2291, -5.4692, -5.0576, -3.7537, -4.867, -4.2469, -4.1018, -4.7924, -4.7645, -4.8474, -4.9142, -4.408, -4.9549, -4.9597, -4.9777, -4.784, -4.5483, -4.6344, -4.862, -4.9714, -4.9742, -5.0503, -5.1123, -5.1759, -5.2456, -5.3385, -5.4263, -5.458, -5.4641, -5.5105, -5.5432, -5.5549, -5.5796, -5.5887, -5.6028, -5.6247, -5.7484, -5.754, -5.7554, -5.7628, -5.8043, -5.8147, -5.8497, -5.8739, -5.8866, -5.9012, -4.1148, -4.9551, -4.1387, -4.994, -4.9146, -4.482, -4.8609, -4.4236, -5.3924, -5.3105, -5.2393, -4.6843, -5.1609, -4.7169, -5.0981, -5.3698, -5.0947, -5.0724, -5.1263, -5.1792, -5.1772, -4.457, -4.7269, -4.7987, -4.8979, -4.9253, -5.0244, -5.1563, -5.2176, -5.2388, -5.4532, -5.4625, -5.549, -5.6209, -5.6222, -5.6423, -5.6452, -5.6841, -5.8124, -5.8213, -5.8728, -5.9083, -5.9089, -6.0001, -6.0024, -6.0841, -6.1194, -6.1265, -6.1418, -6.178, -6.1943, -3.7938, -4.1509, -4.3089, -4.8895, -5.2117, -3.8773, -4.4408, -3.9752, -5.3895, -5.0761, -5.0695, -4.9286, -4.8428, -3.9075, -4.7835, -5.3939, -4.9048, -4.3939, -4.4888, -4.9879, -4.9513, -4.8709, -5.2434, -4.9857, -5.0685, -4.9657, -4.12, -4.5275, -4.6261, -4.7859, -4.8489, -5.0138, -5.2811, -5.382, -5.4812, -5.5788, -5.6073, -5.6078, -5.6371, -5.7107, -5.7239, -5.7508, -5.7669, -5.8559, -5.8734, -5.9313, -5.9433, -5.9515, -5.9561, -5.995, -6.0098, -6.0213, -6.0538, -6.071, -6.1041, -6.169, -4.9699, -3.8919, -4.9854, -4.5674, -4.8475, -4.8915, -5.1599, -4.9631, -5.2474, -5.3357, -3.7803, -4.1678, -5.0007, -3.4702, -4.6233, -4.9087, -5.2436, -4.9628, -5.4275, -5.2207, -5.2857, -5.2778, -5.2525, -5.3101, -3.8989, -4.2603, -4.6022, -4.6929, -4.7403, -4.8062, -4.8119, -4.8492, -4.8983, -4.9055, -4.9062, -4.9885, -4.9895, -4.9937, -5.0021, -5.0553, -5.1558, -5.2478, -5.2926, -5.4328, -5.4352, -5.4703, -5.5493, -5.5971, -5.6503, -5.7313, -5.7407, -5.7539, -5.8043, -5.828, -3.4799, -4.5244, -4.5745, -4.9461, -3.7855, -4.8592, -4.4623, -4.107, -3.9398, -3.7873, -4.9215, -3.9855, -4.5389, -4.4215, -4.1948, -3.9976, -4.5183, -4.7617, -4.802, -4.9251, -3.433, -3.5022, -3.886, -3.929, -4.0862, -4.1287, -4.372, -4.7679, -4.8656, -5.0055, -5.2276, -3.7374, -5.5932, -5.5951, -5.6081, -5.618, -5.7837, -5.7881, -5.7952, -5.8988, -5.9054, -5.9337, -5.9584, -5.9705, -6.0651, -6.0818, -6.1361, -6.216, -6.2334, -6.2462, -4.921, -4.92, -4.9176, -4.3239, -3.6336, -3.9389, -4.5141, -4.2195, -4.1797, -3.6623, -4.1414, -4.0732, -5.2635, -4.7057, -4.6398, -4.6837, -4.0687, -4.99, -3.9513, -4.4126, -4.6529, -4.3645, -4.6072, -4.553, -4.7489, -4.7687, -4.7128, -4.3041, -4.3493, -4.389, -4.3892, -4.5893, -4.6942, -4.747, -5.0005, -5.0306, -5.0592, -5.1207, -5.1391, -5.1997, -5.2041, -5.2128, -5.3892, -5.4555, -5.4915, -5.5574, -5.5733, -5.5799, -5.6079, -5.6089, -5.661, -5.7129, -5.7197, -5.7372, -5.7388, -5.7402, -5.7462, -5.0753, -4.3431, -5.1913, -4.9455, -5.1929, -4.5154, -4.7142, -5.1689, -5.498, -5.2571, -4.6183, -5.0775, -5.1372, -4.8476, -5.0845, -5.2364, -2.9367, -3.7584, -4.1276, -4.3648, -4.3701, -4.4124, -4.5538, -4.6004, -4.8812, -4.9633, -5.0331, -5.1511, -5.1916, -5.3863, -5.4308, -5.4604, -5.4912, -5.5027, -5.5164, -5.5356, -5.5543, -5.5645, -5.5828, -5.6123, -5.6324, -5.6736, -5.7008, -5.7247, -5.7379, -5.7701, -2.9304, -3.9212, -4.239, -5.2888, -3.7087, -4.5337, -4.4818, -4.9828, -4.7534, -5.0182, -4.819, -4.2474, -5.2256, -4.7812, -4.6281, -4.9242, -4.8974, -4.8935, -5.1244, -5.0242, -5.1144, -3.3327, -3.6157, -4.1077, -4.4311, -4.6073, -4.8763, -4.8778, -4.8947, -4.9228, -5.1425, -5.2384, -5.3515, -5.3565, -5.4118, -5.4305, -5.5058, -5.517, -5.5228, -5.5331, -5.5682, -5.5971, -5.6201, -5.6544, -5.6552, -5.6933, -5.7095, -5.723, -5.7231, -5.7339, -5.7571, -3.2256, -4.5167, -3.5945, -4.7376, -5.1887, -4.3216, -4.5598, -5.1181, -4.8611, -3.0725, -4.8915, -4.3786, -4.002, -5.1043, -3.9704, -5.0088, -4.6446, -4.5102, -4.7482, -4.5669, -4.9352, -4.9209, -5.0343, -3.504, -4.1277, -4.402, -4.4124, -4.1091, -4.5927, -4.7241, -4.8382, -4.8839, -5.1654, -5.2466, -5.2723, -5.3065, -5.3877, -5.4417, -5.4466, -5.4482, -5.5004, -5.5745, -5.6588, -5.666, -5.7196, -5.7562, -5.7871, -5.8016, -5.8274, -5.8833, -5.8916, -5.8941, -5.9002, -4.4127, -5.2892, -5.4294, -3.5315, -4.8876, -4.5013, -5.293, -4.4465, -4.9327, -4.629, -4.9189, -4.8439, -4.8918, -5.1761, -4.9067, -4.9105, -4.9604, -5.0178, -4.9005, -4.7887, -4.6751, -5.1356, -5.2275, -5.2151, -3.8901, -3.9725, -4.1882, -4.383, -4.512, -4.8512, -4.9669, -5.1322, -5.1389, -5.1733, -5.1988, -5.2303, -5.2744, -5.2873, -5.2975, -5.3856, -5.4006, -5.4083, -5.4199, -5.4327, -5.5412, -5.5616, -5.5856, -5.5858, -5.5938, -5.6275, -5.6705, -5.6767, -5.6819, -5.6891, -3.7188, -4.4629, -4.546, -3.8712, -4.722, -4.0236, -5.0837, -3.6446, -4.8493, -3.6092, -4.6951, -4.5886, -4.5031, -5.0773, -4.8472, -4.6539, -4.7932, -4.9973, -5.008, -4.8081, -4.688, -4.7397, -4.9558, -4.9909, -5.0593, -2.776, -4.1583, -4.3142, -4.4672, -4.478, -4.8622, -4.9519, -4.9661, -4.9755, -5.0555, -5.0562, -5.1517, -5.167, -5.2413, -5.2823, -5.3011, -5.3494, -5.3975, -5.4053, -5.4405, -5.4389, -5.4411, -5.4581, -5.4961, -5.5319, -5.5558, -5.567, -5.5825, -5.6079, -5.6089, -4.8706, -3.7067, -4.4265, -3.306, -3.555, -3.9723, -4.4885, -5.123, -4.7544, -4.573, -3.7461, -4.8107, -5.2321, -4.91, -5.0744, -5.2037, -3.6071, -3.9088, -3.9505, -4.1719, -4.5496, -4.5502, -4.561, -4.5931, -4.622, -4.6812, -4.6897, -4.728, -4.8279, -4.8323, -4.8977, -4.9094, -4.9996, -5.0508, -5.2046, -5.3795, -5.4059, -5.4355, -5.4469, -5.4497, -5.4551, -5.4792, -5.487, -5.4969, -5.5175, -5.5621, -4.8696, -4.166, -4.1671, -4.7537, -4.952, -4.6677, -3.9427, -4.748, -4.5503, -5.2117, -4.7779, -4.791, -4.3337, -4.6106, -4.8708, -2.9461, -3.948, -4.1752, -4.2043, -4.4631, -4.4948, -4.83, -4.9287, -4.9602, -5.0052, -5.0571, -5.0579, -5.0582, -5.0722, -5.0838, -5.1938, -5.1948, -5.324, -5.3245, -5.331, -5.4142, -5.4674, -5.4981, -5.5554, -5.5786, -5.6311, -5.642, -5.6462, -5.6585, -5.6784, -4.2569, -4.8281, -5.0063, -4.7315, -4.4878, -4.3247, -4.923, -5.0422, -4.8848, -4.7767, -4.9755, -4.8703, -5.1829, -5.0698, -5.1895, -2.857, -2.9811, -3.6642, -3.6891, -4.1573, -4.3635, -4.4699, -4.5454, -4.5807, -4.6056, -4.6425, -4.6559, -4.68, -4.782, -4.7918, -4.8264, -4.8886, -4.951, -5.0137, -5.019, -5.0966, -5.146, -5.1614, -5.246, -5.2804, -5.2906, -5.2956, -5.3407, -5.3541, -5.3546, -4.1537, -4.4864, -5.1334, -5.2118, -3.3463, -3.9418, -4.2532, -4.3249, -4.3615, -4.5741, -4.657, -4.6651, -4.9045, -4.9518, -4.965, -5.0215, -5.027, -5.0456, -5.0533, -5.0628, -5.0629, -5.0642, -5.1026, -5.1744, -5.187, -5.2107, -5.2213, -5.2968, -5.3863, -5.1781, -5.4208, -5.4274, -5.4344, -5.5492, -4.0812, -3.1245, -4.5238, -4.6514, -4.6308, -4.8322, -5.0863, -5.154, -4.0756, -4.166, -4.346, -4.4405, -4.5155, -4.5407, -4.5856, -4.6209, -4.6309, -4.6383, -4.8048, -4.9502, -5.0141, -5.0286, -5.0341, -5.0834, -5.0971, -5.0426, -5.195, -5.1966, -5.3561, -5.3825, -5.4149, -5.4221, -5.4358, -5.4468, -5.4559, -5.4587, -5.4642, -5.5402, -4.0238, -4.5543, -4.5596, -5.3352, -4.3174, -4.9166, -5.2765, -4.8094, -5.2733, -5.2776, -5.3141, -4.0166, -4.056, -4.3433, -4.3753, -4.4634, -4.4839, -4.4982, -4.505, -4.8127, -4.9014, -4.9248, -4.9345, -5.0416, -5.0701, -5.1162, -5.1365, -5.149, -5.1559, -5.1714, -5.1879, -5.2015, -5.2263, -5.2489, -5.2504, -5.2976, -5.3439, -5.3613, -5.3801, -5.3896, -5.4504, -4.0195, -4.1445, -4.3031, -4.8168, -4.0911, -4.3147, -4.7351, -4.7369, -4.5989, -4.7524, -4.9621, -4.9183, -4.9046, -4.9808, -4.5835, -4.8125, -4.9114, -4.8793, -2.7583, -3.7847, -3.8112, -4.1355, -4.2213, -4.2267, -4.3608, -4.4282, -4.5184, -4.5929, -4.6562, -4.6706, -4.7167, -4.807, -4.932, -4.9515, -5.0933, -5.1473, -5.1631, -5.1746, -5.1858, -5.2896, -5.2943, -5.3034, -5.328, -5.3355, -5.3476, -5.3805, -5.4095, -5.4234, -4.8177, -4.069, -4.5307, -4.5144, -4.9201, -4.7521, -5.0016, -5.0652, -5.1654, -3.2982, -3.8037, -3.9052, -4.0711, -4.1249, -4.2157, -4.4692, -4.5692, -4.7474, -4.7736, -4.7942, -4.7948, -4.8564, -4.8899, -4.8926, -4.9545, -5.1391, -5.1616, -5.1733, -5.2511, -5.3228, -5.3495, -5.4067, -5.4159, -5.4186, -5.4222, -5.4383, -5.443, -5.4447, -5.4563, -4.6394, -4.5838, -4.7233, -4.1053, -4.3792, -4.9839, -4.6727, -5.1004, -5.2742], \"loglift\": [30.0, 29.0, 28.0, 27.0, 26.0, 25.0, 24.0, 23.0, 22.0, 21.0, 20.0, 19.0, 18.0, 17.0, 16.0, 15.0, 14.0, 13.0, 12.0, 11.0, 10.0, 9.0, 8.0, 7.0, 6.0, 5.0, 4.0, 3.0, 2.0, 1.0, 1.2043, 1.2043, 1.2043, 1.2041, 1.2041, 1.204, 1.2038, 1.2038, 1.2038, 1.2037, 1.2037, 1.2036, 1.2035, 1.2034, 1.2033, 1.2031, 1.203, 1.203, 1.2029, 1.2028, 1.2028, 1.2026, 1.2025, 1.2023, 1.2023, 1.2022, 1.2022, 1.202, 1.2019, 1.2019, 1.1785, 1.2016, 1.1843, 1.1803, 1.1986, 1.1836, 1.172, 1.1888, 1.164, 1.1706, 1.1436, 1.1839, 1.1608, 1.1166, 1.1376, 1.1095, 1.0921, 1.1543, 1.1651, 1.128, 0.9971, 1.1015, 1.0182, 0.9939, 1.0653, 1.0573, 1.053, 1.0229, 0.7887, 1.0232, 0.982, 0.9877, 0.5726, 2.5663, 2.5662, 2.5659, 2.5657, 2.5657, 2.5656, 2.5655, 2.5654, 2.5652, 2.565, 2.5648, 2.5647, 2.5647, 2.5646, 2.5645, 2.5645, 2.5644, 2.5644, 2.5643, 2.5643, 2.5639, 2.5639, 2.5638, 2.5638, 2.5637, 2.5636, 2.5635, 2.5634, 2.5634, 2.5633, 2.5574, 2.5271, 2.4839, 2.4456, 2.3499, 2.2076, 2.3056, 2.0876, 2.4296, 2.3837, 2.3211, 1.9619, 2.1429, 0.6396, 1.373, 2.0585, 1.0727, 0.8051, 0.7613, 0.4083, 0.0879, 2.5956, 2.5953, 2.5952, 2.595, 2.595, 2.5948, 2.5946, 2.5945, 2.5944, 2.5939, 2.5939, 2.5936, 2.5934, 2.5934, 2.5934, 2.5933, 2.5932, 2.5928, 2.5927, 2.5925, 2.5924, 2.5924, 2.592, 2.592, 2.5916, 2.5914, 2.5914, 2.5913, 2.5911, 2.591, 2.5807, 2.5584, 2.5255, 2.5239, 2.5372, 2.334, 2.395, 2.2006, 2.4588, 2.3561, 2.3468, 2.1713, 2.0387, 1.2892, 1.8619, 2.3565, 1.6559, 0.8975, 0.8678, 1.5415, 1.3752, 1.1273, 2.04, 1.1906, 1.4646, 0.3529, 2.6642, 2.6638, 2.6637, 2.6635, 2.6634, 2.6631, 2.6626, 2.6623, 2.662, 2.6617, 2.6616, 2.6616, 2.6615, 2.6613, 2.6612, 2.6611, 2.6611, 2.6607, 2.6606, 2.6604, 2.6603, 2.6603, 2.6603, 2.6601, 2.66, 2.66, 2.6598, 2.6597, 2.6595, 2.6592, 2.6267, 2.5522, 2.5857, 2.5345, 2.5443, 2.5398, 2.5439, 2.5125, 2.5523, 2.5611, 2.2288, 2.3034, 2.4568, 1.8212, 2.2244, 2.1801, 2.336, 2.0301, 2.3728, 2.0354, 2.1, 1.8718, 1.2755, 1.5735, 2.7114, 2.7111, 2.7108, 2.7106, 2.7106, 2.7105, 2.7105, 2.7104, 2.7103, 2.7103, 2.7103, 2.7102, 2.7102, 2.7101, 2.7101, 2.71, 2.7098, 2.7096, 2.7095, 2.7091, 2.7091, 2.709, 2.7088, 2.7086, 2.7084, 2.7081, 2.7081, 2.708, 2.7078, 2.7077, 2.6619, 2.6815, 2.6224, 2.607, 2.4059, 2.5121, 2.3041, 2.1517, 2.0552, 1.8002, 2.4223, 1.892, 2.1337, 1.904, 1.6212, 0.7532, 1.3693, 1.8742, 1.7531, 0.677, 3.1128, 3.1128, 3.1125, 3.1124, 3.1123, 3.1122, 3.1119, 3.1112, 3.1109, 3.1106, 3.1099, 3.1097, 3.1083, 3.1083, 3.1082, 3.1082, 3.1072, 3.1072, 3.1072, 3.1065, 3.1064, 3.1063, 3.1061, 3.106, 3.1053, 3.1051, 3.1047, 3.1039, 3.1038, 3.1036, 3.0762, 3.0649, 3.0598, 3.0318, 2.9961, 2.9277, 2.9429, 2.9056, 2.8855, 2.8123, 2.7341, 2.7057, 2.9291, 2.6952, 2.6545, 2.6424, 2.0988, 2.6215, 1.1444, 1.7788, 1.8801, 1.2376, 1.4683, 0.8036, 2.0175, 1.6691, 0.0379, 3.2328, 3.2328, 3.2327, 3.2327, 3.2323, 3.2321, 3.2319, 3.2312, 3.2311, 3.231, 3.2308, 3.2308, 3.2305, 3.2305, 3.2305, 3.2297, 3.2294, 3.2292, 3.2289, 3.2288, 3.2288, 3.2286, 3.2286, 3.2283, 3.2279, 3.2279, 3.2278, 3.2278, 3.2278, 3.2277, 3.1672, 3.0768, 3.1308, 2.8027, 2.9312, 2.4775, 2.5634, 2.8391, 3.0933, 2.4573, 0.673, 1.5679, 1.7464, 0.349, 1.4267, 1.5479, 3.3302, 3.3297, 3.3292, 3.3288, 3.3288, 3.3288, 3.3285, 3.3284, 3.3276, 3.3273, 3.3271, 3.3267, 3.3265, 3.3256, 3.3254, 3.3252, 3.325, 3.325, 3.3249, 3.3248, 3.3247, 3.3246, 3.3245, 3.3243, 3.3242, 3.3239, 3.3237, 3.3236, 3.3235, 3.3232, 3.3165, 3.1652, 3.092, 3.2329, 2.8464, 3.0463, 2.9398, 3.051, 2.9372, 3.039, 2.8739, 2.3566, 3.0354, 2.5103, 2.0916, 2.3174, 2.1114, 1.6395, 2.156, 0.5632, 1.8972, 3.342, 3.3418, 3.3412, 3.3407, 3.3403, 3.3395, 3.3395, 3.3395, 3.3394, 3.3386, 3.3382, 3.3376, 3.3376, 3.3373, 3.3372, 3.3368, 3.3367, 3.3367, 3.3366, 3.3364, 3.3362, 3.3361, 3.3359, 3.3359, 3.3356, 3.3355, 3.3354, 3.3354, 3.3353, 3.3351, 3.3179, 3.3286, 3.2299, 3.2632, 3.2936, 3.1877, 3.1811, 3.2452, 3.1671, 2.6294, 3.0853, 2.7137, 2.4339, 3.0886, 2.2883, 2.945, 2.5201, 1.5494, 1.9327, 0.9359, 2.0774, 1.1403, 0.8661, 3.3977, 3.397, 3.3965, 3.3965, 3.3961, 3.3961, 3.3957, 3.3954, 3.3952, 3.3942, 3.3938, 3.3937, 3.3935, 3.3931, 3.3928, 3.3927, 3.3927, 3.3924, 3.3919, 3.3914, 3.3913, 3.3909, 3.3906, 3.3904, 3.3902, 3.39, 3.3895, 3.3895, 3.3894, 3.3894, 3.3744, 3.3488, 3.3553, 3.0012, 3.2254, 3.0707, 3.2665, 2.9867, 3.0945, 2.9678, 3.0235, 2.9757, 2.9538, 3.1303, 2.8012, 2.6559, 2.4741, 2.5324, 2.2176, 1.8575, 1.4004, 2.3907, 2.7202, 1.1936, 3.4955, 3.4954, 3.495, 3.4946, 3.4943, 3.4933, 3.4929, 3.4922, 3.4921, 3.492, 3.4918, 3.4917, 3.4914, 3.4914, 3.4913, 3.4908, 3.4907, 3.4907, 3.4906, 3.4905, 3.4898, 3.4896, 3.4895, 3.4895, 3.4894, 3.4891, 3.4888, 3.4888, 3.4887, 3.4887, 3.4532, 3.4675, 3.3977, 3.3372, 3.3752, 3.1896, 3.3897, 3.0928, 3.3336, 3.0312, 3.2075, 3.1375, 3.003, 3.1305, 2.7475, 2.3549, 2.5355, 2.9219, 2.7855, 2.0172, 0.8995, 1.1479, 1.9998, 1.7395, 2.2357, 3.5188, 3.5174, 3.5171, 3.5168, 3.5167, 3.5156, 3.5152, 3.5152, 3.5151, 3.5148, 3.5148, 3.5143, 3.5143, 3.5139, 3.5137, 3.5135, 3.5133, 3.513, 3.5129, 3.5127, 3.5127, 3.5127, 3.5126, 3.5123, 3.5121, 3.5119, 3.5118, 3.5117, 3.5115, 3.5115, 3.3688, 3.0237, 3.1126, 2.5715, 2.5205, 2.6637, 2.9268, 3.2378, 2.918, 2.7345, 1.8413, 2.7044, 3.1451, 1.6207, 1.8876, 2.7501, 3.6625, 3.6621, 3.662, 3.6616, 3.6606, 3.6606, 3.6606, 3.6605, 3.6604, 3.6602, 3.6602, 3.66, 3.6596, 3.6596, 3.6593, 3.6593, 3.6589, 3.6586, 3.6578, 3.6566, 3.6564, 3.6562, 3.6561, 3.6561, 3.6561, 3.6559, 3.6558, 3.6557, 3.6556, 3.6552, 3.6304, 3.5784, 3.487, 3.508, 3.5183, 3.3977, 3.1446, 3.4052, 3.2656, 3.5329, 3.1118, 2.8226, 1.9503, 2.4735, 2.6683, 3.6751, 3.674, 3.6736, 3.6735, 3.6728, 3.6727, 3.6716, 3.6711, 3.671, 3.6708, 3.6705, 3.6705, 3.6705, 3.6704, 3.6704, 3.6697, 3.6697, 3.6689, 3.6689, 3.6689, 3.6683, 3.6679, 3.6676, 3.6671, 3.6669, 3.6665, 3.6664, 3.6663, 3.6662, 3.666, 3.5804, 3.5991, 3.6105, 3.5646, 3.5114, 3.4595, 3.541, 3.5437, 3.4728, 3.1343, 3.3006, 2.0211, 2.218, 0.2254, 1.6538, 3.6879, 3.6878, 3.6872, 3.6872, 3.6864, 3.6859, 3.6856, 3.6853, 3.6852, 3.6851, 3.685, 3.685, 3.6849, 3.6845, 3.6845, 3.6843, 3.6841, 3.6838, 3.6835, 3.6834, 3.683, 3.6828, 3.6827, 3.6822, 3.6819, 3.6819, 3.6818, 3.6815, 3.6814, 3.6814, 3.6294, 3.6142, 3.2202, 1.4336, 3.7613, 3.7605, 3.7598, 3.7596, 3.7595, 3.7588, 3.7585, 3.7585, 3.7574, 3.7572, 3.7571, 3.7568, 3.7568, 3.7567, 3.7567, 3.7566, 3.7566, 3.7566, 3.7564, 3.7559, 3.7559, 3.7557, 3.7556, 3.7551, 3.7544, 3.7544, 3.7542, 3.7541, 3.754, 3.753, 3.752, 3.7134, 3.5841, 3.4491, 2.9194, 2.9278, 1.3883, 1.9441, 3.8974, 3.8972, 3.8966, 3.8963, 3.896, 3.8959, 3.8958, 3.8956, 3.8956, 3.8955, 3.8948, 3.894, 3.8936, 3.8935, 3.8935, 3.8931, 3.893, 3.893, 3.8923, 3.8923, 3.891, 3.8908, 3.8905, 3.8904, 3.8903, 3.8902, 3.8901, 3.8901, 3.89, 3.8893, 3.8771, 3.8469, 3.8273, 3.8074, 2.644, 2.7995, 3.5392, 1.8715, 3.3622, 3.2104, 1.899, 4.0941, 4.094, 4.093, 4.0929, 4.0925, 4.0924, 4.0923, 4.0923, 4.0907, 4.0901, 4.0899, 4.0899, 4.0891, 4.0888, 4.0885, 4.0883, 4.0882, 4.0881, 4.088, 4.0878, 4.0877, 4.0875, 4.0873, 4.0873, 4.0868, 4.0863, 4.0861, 4.0859, 4.0858, 4.0851, 4.0184, 3.9668, 3.9727, 4.0262, 3.92, 3.8961, 3.9717, 3.9146, 3.8468, 3.8737, 3.9719, 3.9309, 3.9198, 3.9533, 3.5806, 3.143, 2.9365, 2.0827, 4.233, 4.2313, 4.2313, 4.2302, 4.2299, 4.2299, 4.2293, 4.229, 4.2285, 4.2281, 4.2278, 4.2277, 4.2274, 4.2268, 4.2258, 4.2257, 4.2244, 4.2239, 4.2237, 4.2236, 4.2235, 4.2224, 4.2223, 4.2222, 4.2219, 4.2218, 4.2217, 4.2213, 4.2209, 4.2207, 4.1872, 3.915, 3.9682, 3.8217, 3.7615, 3.3441, 2.4136, 2.4408, 3.0425, 4.2663, 4.2652, 4.2649, 4.2644, 4.2642, 4.2639, 4.2627, 4.2621, 4.261, 4.2608, 4.2607, 4.2607, 4.2602, 4.2599, 4.2599, 4.2594, 4.2577, 4.2575, 4.2573, 4.2565, 4.2556, 4.2553, 4.2546, 4.2544, 4.2544, 4.2543, 4.2541, 4.2541, 4.254, 4.2539, 4.208, 4.0731, 3.8006, 3.4053, 3.1969, 3.7357, 2.8176, 3.5445, 3.2702]}, \"token.table\": {\"Topic\": [2, 9, 4, 2, 4, 10, 13, 14, 12, 3, 4, 8, 1, 3, 10, 8, 18, 6, 6, 13, 14, 1, 3, 4, 9, 13, 4, 1, 14, 11, 17, 12, 1, 2, 3, 5, 6, 7, 10, 16, 19, 19, 4, 2, 10, 3, 7, 17, 2, 3, 5, 8, 5, 5, 8, 16, 1, 5, 2, 9, 13, 6, 1, 4, 7, 16, 17, 3, 4, 7, 7, 13, 1, 1, 3, 6, 10, 9, 3, 3, 7, 12, 18, 15, 11, 8, 10, 11, 5, 6, 12, 16, 9, 15, 1, 9, 19, 11, 1, 3, 4, 4, 10, 3, 1, 3, 4, 4, 14, 3, 20, 20, 13, 10, 1, 5, 12, 1, 4, 8, 20, 4, 2, 1, 11, 1, 3, 7, 17, 19, 15, 7, 10, 7, 8, 11, 13, 5, 15, 6, 18, 18, 4, 12, 1, 2, 5, 8, 11, 19, 5, 1, 2, 17, 8, 1, 5, 11, 14, 15, 1, 5, 6, 20, 18, 7, 17, 18, 9, 14, 5, 4, 18, 19, 20, 1, 2, 3, 4, 5, 8, 11, 13, 12, 14, 1, 3, 4, 5, 7, 13, 17, 20, 16, 13, 16, 19, 2, 3, 10, 13, 1, 3, 5, 8, 12, 14, 8, 2, 17, 3, 4, 7, 13, 2, 11, 12, 3, 13, 17, 3, 11, 7, 3, 4, 7, 1, 17, 2, 6, 18, 8, 18, 14, 8, 12, 7, 17, 5, 7, 1, 3, 7, 19, 15, 2, 11, 9, 10, 16, 17, 19, 18, 5, 6, 10, 19, 4, 10, 13, 3, 2, 11, 13, 16, 6, 5, 11, 11, 9, 6, 11, 6, 8, 12, 15, 3, 11, 2, 4, 5, 11, 13, 17, 12, 9, 10, 17, 4, 6, 3, 4, 5, 8, 10, 4, 11, 1, 2, 4, 7, 2, 7, 13, 18, 20, 14, 10, 20, 5, 2, 3, 8, 10, 10, 18, 4, 12, 1, 2, 8, 10, 11, 20, 12, 17, 4, 19, 12, 2, 5, 11, 12, 16, 19, 2, 14, 3, 4, 12, 17, 8, 3, 10, 16, 10, 19, 14, 18, 11, 12, 19, 10, 15, 17, 5, 11, 14, 15, 15, 4, 17, 12, 18, 11, 2, 4, 10, 13, 5, 5, 18, 19, 9, 14, 16, 17, 7, 8, 13, 20, 4, 7, 14, 18, 4, 20, 5, 11, 5, 2, 13, 18, 13, 3, 19, 1, 8, 9, 12, 18, 6, 17, 4, 8, 18, 20, 1, 6, 12, 2, 16, 2, 14, 6, 1, 8, 11, 7, 2, 4, 11, 7, 1, 2, 3, 4, 7, 3, 7, 8, 13, 3, 13, 3, 1, 16, 4, 9, 14, 10, 13, 2, 3, 5, 7, 8, 2, 16, 3, 4, 12, 5, 9, 11, 1, 2, 3, 4, 7, 17, 3, 3, 8, 9, 14, 6, 19, 1, 5, 11, 15, 3, 8, 11, 2, 20, 12, 16, 1, 8, 17, 7, 9, 16, 4, 17, 4, 1, 2, 3, 4, 7, 8, 9, 12, 19, 1, 11, 18, 5, 4, 14, 18, 3, 4, 5, 6, 7, 8, 9, 14, 16, 8, 17, 1, 4, 7, 12, 19, 10, 9, 6, 4, 18, 1, 1, 14, 20, 17, 16, 9, 4, 17, 9, 15, 10, 13, 18, 8, 8, 1, 5, 2, 7, 1, 2, 3, 7, 8, 9, 1, 14, 3, 14, 2, 20, 1, 9, 11, 13, 2, 4, 7, 9, 7, 10, 11, 13, 2, 4, 6, 7, 10, 1, 19, 18, 4, 2, 5, 1, 5, 16, 13, 1, 17, 2, 14, 1, 2, 5, 7, 17, 1, 2, 9, 11, 17, 10, 3, 4, 7, 10, 14, 1, 9, 14, 14, 20, 15, 11, 14, 17, 14, 17, 3, 7, 17, 8, 5, 4, 1, 8, 16, 19, 13, 9, 20, 2, 10, 11, 13, 6, 4, 6, 7, 8, 16, 4, 9, 11, 13, 17, 19, 5, 6, 8, 2, 6, 16, 18, 7, 11, 13, 3, 5, 5, 19, 20, 13, 18, 1, 6, 12, 8, 5, 3, 7, 14, 20, 10, 13, 2, 3, 4, 10, 6, 14, 3, 7, 13, 20, 7, 18, 3, 1, 4, 12, 15, 4, 7, 1, 4, 9, 1, 3, 5, 10, 16, 8, 7, 3, 18, 1, 4, 6, 8, 12, 18, 1, 7, 9, 14, 8, 19, 2, 4, 1, 3, 7, 9, 18, 3, 10, 1, 7, 14, 15, 13, 14, 12, 8, 1, 2, 3, 4, 10, 11, 1, 7, 15, 9, 1, 3, 7, 1, 17, 20, 1, 5, 6, 12, 6, 9, 2, 1, 2, 1, 3, 4, 7, 8, 3, 10, 1, 5, 6, 8, 1, 9, 2, 4, 5, 9, 11, 14, 17, 1, 3, 1, 9, 11, 17, 19, 5, 12, 6, 2, 4, 8, 9, 10, 12, 18, 1, 2, 3, 4, 15, 1, 3, 7, 15, 19, 8, 1, 2, 3, 4, 6, 7, 10, 16, 16, 20, 2, 15, 12, 15, 18, 15, 1, 2, 3, 6, 7, 8, 9, 1, 1, 2, 3, 4, 13, 4, 13, 3, 18, 18, 4, 6, 7, 5, 16, 2, 5, 6, 12, 20, 7, 14, 4, 7, 4, 11, 19, 5, 6, 2, 4, 5, 19, 3, 3, 7, 11, 5, 14, 14, 5, 7, 17, 7, 1, 12, 5, 8, 7, 1, 2, 3, 4, 5, 8, 10, 11, 15, 3, 1, 2, 5, 8, 11, 4, 5, 6, 14, 6, 16, 13, 1, 2, 5, 6, 10, 16, 1, 2, 9, 14, 1, 1, 12, 8, 13, 7, 5, 12, 1, 4, 5, 6, 7, 9, 10, 12, 16, 3, 1, 7, 9, 2, 5, 10, 13, 2, 14, 17, 1, 2, 5, 7, 8, 10, 14, 4, 8, 8, 5, 8, 18, 8, 19, 1, 2, 5, 4, 5, 7, 12, 14, 20, 10, 18, 11, 19, 18, 5, 10, 16, 13, 5, 18, 4, 16, 1, 2, 3, 6, 7, 11, 12, 15, 16, 12, 15, 16, 17, 13, 7, 16, 1, 2, 4, 11, 13, 5, 7, 2, 1, 3, 4, 7, 16, 20, 8, 19, 1, 3, 4, 12, 18, 2, 11, 2, 1, 9, 11, 9, 15, 16, 16, 19, 9, 9, 14, 4, 14, 6, 9, 1, 3, 9, 10, 11, 4, 6, 12, 4, 7, 15, 5, 4, 2, 1, 5, 6, 4, 3, 4, 7, 11, 14, 3, 8, 9, 4, 13, 1, 6, 13, 10, 2, 8, 1, 12, 1, 4, 5, 17, 12, 2, 5, 10, 12, 16, 8, 18, 2, 3, 10, 12, 16, 17, 2, 18, 5, 8, 16, 19, 10, 6, 11, 16, 19, 15, 3, 16, 2, 4, 6, 1, 2, 3, 7, 10, 2, 6, 8, 12, 16, 19, 2, 6, 16, 10, 13, 2, 12, 1, 1, 2, 3, 5, 6, 18, 17, 16, 11, 18, 19, 5, 12, 9, 11, 16, 4, 11, 8, 17, 1, 3, 5, 8, 10, 11, 10, 1, 1, 2, 3, 4, 2, 6, 7, 9, 10, 9, 3, 4, 5, 10, 6, 4, 10, 18, 18, 15, 10, 3, 3, 7, 1, 14, 6, 5, 7, 17, 18, 20, 20, 2, 7, 8, 9, 13, 18, 6, 12, 8, 18, 13, 19, 15, 7, 11, 12, 1, 7, 8, 3, 16, 10, 20, 20, 1, 2, 4, 12, 7, 13, 4, 13, 7, 14, 15, 4, 19, 9, 14, 18, 8, 6, 3, 4, 8, 1, 5, 9, 11, 14, 1, 4, 11, 11, 19, 19, 1, 3, 4, 7, 18, 19, 16, 16, 9, 20, 5, 11, 13, 14, 20, 13, 5, 2, 1, 4, 5, 9, 12, 8, 2, 2, 1, 3, 6, 18, 4, 1, 2, 6, 14, 15, 6, 14, 1, 2, 3, 11, 17, 5, 12, 9, 4, 7, 10, 5, 2, 6, 13, 6, 1, 3, 4, 5, 8, 3, 15, 15, 2, 11, 4, 9, 20, 19, 7, 11, 6, 9, 15, 3, 1, 5, 7, 8, 9, 11, 12, 19, 8, 12, 1, 3, 4, 7, 8, 11, 12, 15, 14, 4, 18, 14, 11, 5, 6, 14, 19, 7, 19, 7, 16, 19, 16, 20, 17, 4, 18, 10, 19, 14, 11, 1, 19, 14, 17, 14, 20, 14, 9, 2, 4, 7, 3, 4, 7, 18, 8, 20, 7, 13, 1, 7, 9, 11, 19, 4, 20, 12, 3, 4, 10, 16, 17, 9, 10, 8, 9, 16, 7, 11, 2, 3, 4, 5, 7, 1, 2, 8, 16, 19, 19, 13, 5, 16, 2, 5, 12, 7, 12, 1, 3, 4, 7, 9, 7, 20, 2, 13, 15, 13, 9, 14, 6, 12, 2, 5, 6, 19, 1, 3, 6, 8, 20, 7, 2, 5, 12, 13, 5, 6, 19, 4, 16, 1, 3, 1, 3, 1, 3, 2, 9, 4, 14, 20, 14, 9, 1, 2, 8, 14, 16, 10, 4, 9, 7, 18, 2, 9, 3, 19, 17, 20, 17, 13, 14, 7, 13, 1, 2, 3, 8, 7, 3, 1, 3, 5, 11, 17, 7, 1, 14, 4, 18, 1, 5, 8, 12, 12, 10, 11, 10, 12, 11, 1, 2, 3, 4, 5, 8, 11, 12, 17, 10, 5, 6, 12, 8, 3, 8, 10, 8, 10, 12, 8, 11, 19, 19, 5, 16, 17, 5, 7, 2, 11, 13, 19, 4, 11, 4, 8, 1, 5, 7, 5, 2, 1, 17, 20, 1, 2, 3, 7, 8, 4, 1, 14, 20, 20, 9, 15, 6, 1, 3, 4, 9, 2, 10, 17, 8, 18, 8, 4, 18, 1, 9, 5, 8, 14, 8, 12, 11, 7, 3, 4, 7, 1, 1, 3, 5, 10, 1, 2, 5, 7, 11, 16, 20, 3, 1, 2, 4, 15, 1, 1, 4, 7, 9, 13, 14], \"Freq\": [0.998027860069784, 0.9956591657685387, 0.9934791552894203, 0.008543995572949107, 0.19651189817782946, 0.6557516602238439, 0.08116795794301651, 0.055535971224169194, 0.9932902471231574, 0.22850546583901027, 0.7191201424933559, 0.05040561746448756, 0.9797652228794187, 0.012390888094229325, 0.007965570917718852, 0.1141098492405741, 0.8817579259498908, 0.9986025491072686, 0.9958688527935828, 0.9957783407104372, 0.9903801009269083, 0.033029475376545166, 0.20165363914101261, 0.12864111462443908, 0.20513042602275422, 0.431121573335958, 0.9978366315044223, 0.9985526249818709, 0.9948578944094636, 0.9932122921314126, 0.996115120278373, 0.9961950380044321, 0.5226096742819509, 0.0841943489497402, 0.05698236323946506, 0.13071056383909943, 0.15327092806043868, 0.013722283392360974, 0.028142310008062336, 0.007907756531191069, 0.0023258107444679614, 0.9901181496365127, 0.9965006754217327, 0.9972301131424817, 0.9942358493539187, 0.9940872364229569, 0.8687681361870964, 0.12939099900658882, 0.6008859650770209, 0.21088786274337754, 0.08088849529882973, 0.10544393137168877, 0.9964550614225973, 0.19919253227321368, 0.7875967887907989, 0.011794294674071863, 0.1800884837763628, 0.8185840171652854, 0.9979810856897317, 0.9953315453713073, 0.9932783696741793, 0.9958238370106481, 0.5263628200074197, 0.07994070441927281, 0.19310351976603563, 0.16195779077151376, 0.03841306575991031, 0.9991799394576638, 0.8865942156301929, 0.11225119897463816, 0.995230152445947, 0.9949692510607913, 0.9998925113347803, 0.5471287784563654, 0.2167059083297761, 0.23601633580470666, 0.9941694110576222, 0.9914554147262289, 0.9976389284012094, 0.9982196848373814, 0.8536577143968355, 0.14466347173503422, 0.9899375994812553, 0.9933594985943747, 0.9900100476014112, 0.35736125468980134, 0.640180897971914, 0.9949697455571888, 0.0650673524221338, 0.8302264714115299, 0.08318737461563941, 0.020590934310801834, 0.9975625015137289, 0.999459628788027, 0.9994898788476915, 0.992521231071069, 0.9947352493292798, 0.9935134704197445, 0.999766581791937, 0.25143583539590214, 0.7459263116745096, 0.997611923504106, 0.9949794204855, 0.99839684550266, 0.18818725379669993, 0.7690015507419693, 0.04234213210425748, 0.9950074663721811, 0.9974135854000168, 0.9930358586126584, 0.9980782372364346, 0.9935390422656083, 0.9933589048764192, 0.9941171798669197, 0.14191415805980384, 0.43293627942668267, 0.42508849188420506, 0.21014949999377308, 0.3324753283483574, 0.03293387686469578, 0.42186727983824596, 0.9949691700825423, 0.9949735622321031, 0.24833042963438806, 0.7496329791767041, 0.10592827069182138, 0.3447483718879278, 0.16563329599084797, 0.33319256053972907, 0.05007518250886102, 0.9982458987818679, 0.9940478089897824, 0.9989769743892928, 0.9927780191086678, 0.11278099668008305, 0.885330823938652, 0.9958067394521175, 0.05560558224257403, 0.9432354321147743, 0.9939341087582703, 0.9925819505640433, 0.9927342481385278, 0.9952688238433028, 0.9958719411096053, 0.14906462063491696, 0.09779398678596463, 0.0788048631382045, 0.2952808727226699, 0.31901727728237006, 0.05791682712566837, 0.9980620834451409, 0.12632889668422193, 0.8714552703470902, 0.9870897357586018, 0.9919579025022394, 0.5034083194779159, 0.20784362326953199, 0.22760062167918332, 0.060061275165340045, 0.9976282597974993, 0.30357407614222104, 0.04510243416970141, 0.610617570297496, 0.0381635981435935, 0.9970006394998822, 0.997611218938915, 0.9907188462283218, 0.9929495034346943, 0.9912495402587007, 0.9994567066522996, 0.9994051721469394, 0.8870130952568501, 0.03898958660469671, 0.05569940943528101, 0.01810230806646633, 0.35968447168686185, 0.11498864184362591, 0.07267282164517158, 0.15868432574420377, 0.04047600192895632, 0.045075547602701355, 0.028517183177219227, 0.18030219041080542, 0.11950458228280046, 0.8778990467698035, 0.1557514025512956, 0.25626538908149216, 0.21913860126403217, 0.05070975897018926, 0.021732753844366827, 0.010866376922183413, 0.2852423942073146, 0.9924013796653307, 0.9966226998897929, 0.7723058703423271, 0.11331128599617155, 0.11032941004890387, 0.1260783407619292, 0.2597977930851874, 0.550160032415691, 0.0630391703809646, 0.6271399966040573, 0.008532516960599418, 0.029863809362097964, 0.2893945335803303, 0.03341902476234772, 0.010665646200749272, 0.9977318099040833, 0.9990660120738338, 0.9883176910331805, 0.2814931468776386, 0.33594866636289605, 0.226199850169531, 0.15666434067297147, 0.2177848444237179, 0.17250284706829142, 0.6095100596412963, 0.9985729762659743, 0.9955946833533057, 0.9910294924101452, 0.9971369234473841, 0.9951442557225144, 0.9967153553476213, 0.9626834913597759, 0.006333444022103789, 0.030963504108062968, 0.49594296255059933, 0.5001105504711926, 0.9984977586470527, 0.9942474098648851, 0.9864082676435454, 0.13021270131553406, 0.8659144637483014, 0.9946102107328956, 0.7531030252851778, 0.24543089663311599, 0.2949493185739815, 0.6997817166167012, 0.9990363133194872, 0.9990919940345427, 0.8630443455750333, 0.11385579986941526, 0.02288704373965345, 0.9909411369384805, 0.9977679285006464, 0.7813561860041243, 0.21594443115303857, 0.2784841996804892, 0.7203902650417445, 0.9948942780523279, 0.914266697196508, 0.08019883308741299, 0.9936725243947554, 0.3149428747939952, 0.6847306829294248, 0.8774299067089331, 0.12087044633235303, 0.34870403217138435, 0.6495467265937552, 0.9894638554083898, 0.9982360780781947, 0.17063776990014098, 0.49110382556625937, 0.3350326945600329, 0.992723065455393, 0.9922723048543496, 0.4342217120253623, 0.5616563449023708, 0.9955655983934258, 0.99180237148198, 0.947893274508524, 0.050020753272217625, 0.3103326480823583, 0.24574565025811113, 0.44265722899057197, 0.9967215783786136, 0.9943603167299511, 0.995465123092621, 0.054717549834955005, 0.5325841517268953, 0.17388021391996814, 0.20427885271716537, 0.008511618863215224, 0.02553485658964567, 0.996667115928208, 0.9974838420931597, 0.9977209631582361, 0.9973443456758408, 0.9966940907059691, 0.9986965580127454, 0.18311793379779212, 0.01598648628393423, 0.35024938131165, 0.052319409656512036, 0.3967555232285496, 0.04136077024302446, 0.9568870088656469, 0.9603573674628195, 0.03950590523798337, 0.882287523498615, 0.11589983888323349, 0.3616726522554702, 0.08372052135543291, 0.1121854986162801, 0.09879021519941085, 0.34325413755727496, 0.9950329133776081, 0.9967555530090854, 0.9841072668103915, 0.9966186538434385, 0.13856056920316856, 0.41694134914771624, 0.4408745383737181, 0.0025192830764212463, 0.9964467326087144, 0.9844604993326108, 0.9982530231785334, 0.9897257535914142, 0.20265729700634272, 0.13597650895909447, 0.2013498305740437, 0.07714051950564013, 0.38178019823130366, 0.9931585318746877, 0.992701048644093, 0.9947549244834873, 0.9975211552278103, 0.995771239917188, 0.9960497678517718, 0.022810649114249945, 0.25234280582639, 0.005702662278562486, 0.5531582410205612, 0.002851331139281243, 0.16252587493903087, 0.14825920563583245, 0.8486561426051098, 0.12088489339810056, 0.8774575882862127, 0.9941460459666586, 0.9856814218109653, 0.9972505103574777, 0.19179896208054725, 0.5074175072763845, 0.2986237004545229, 0.9588073738863662, 0.03924942466201499, 0.9893432296947663, 0.997382506748385, 0.6104258316158243, 0.2216891766993531, 0.16704747821711818, 0.9880905364922586, 0.9967517235377715, 0.9937495068186408, 0.2995998012373187, 0.6984177184688144, 0.9960151590648062, 0.9945619247804647, 0.9957445710191974, 0.9985080057759504, 0.9937010711236307, 0.7560594877624705, 0.24223265141904393, 0.9967344546533208, 0.9957063711794337, 0.15753993013811002, 0.8421225356473518, 0.9970590809663983, 0.9986866678423383, 0.9989486839204847, 0.9945965361731771, 0.9931685399496946, 0.9862336901826069, 0.010958152113140076, 0.9945599797374738, 0.9960219145600788, 0.23915357593188244, 0.7440333473436342, 0.01328630977399347, 0.9928893554365258, 0.9964947849589931, 0.12206846430440929, 0.8748239941815998, 0.9969261738790958, 0.9955830984963069, 0.9932922974436182, 0.9511737721025255, 0.0486758390086024, 0.99881607053703, 0.07924948180587697, 0.917312751903026, 0.9949409245114439, 0.9938658792823751, 0.26940072788426905, 0.7276337416687266, 0.9985044684055719, 0.9918517329409964, 0.1365130773293256, 0.861332511720745, 0.9899355867262, 0.9908977668114152, 0.9911051341710695, 0.8119784972720074, 0.050562763566388745, 0.13681688965022837, 0.9917695220470667, 0.9988908643455277, 0.9985822060648802, 0.9969441397957254, 0.998046315176631, 0.9968525771395863, 0.9978195573773517, 0.9984704919484364, 0.9914610376123226, 0.9991969958128027, 0.9990127276310297, 0.995226395115141, 0.993074535159171, 0.994407195822064, 0.9937953822038406, 0.9896960260202238, 0.9946863039426415, 0.8049966679498993, 0.04682157603364599, 0.11705394008411497, 0.01605311178296434, 0.014715352467717312, 0.2022815228325069, 0.10472731323952485, 0.6771409842336401, 0.015780828022394156, 0.9843888866475714, 0.015105711815563756, 0.9946916980700868, 0.9981740681888526, 0.9907875481919483, 0.9946016744477271, 0.9531650960770162, 0.04558615676890077, 0.9883054536984865, 0.9949309731066683, 0.015174229579160613, 0.817811109950551, 0.07826707888198632, 0.07107928592343656, 0.017570160565343867, 0.9973322243448864, 0.9922015165321493, 0.9292737785991497, 0.06830802660453168, 0.9937815533704023, 0.996753280494377, 0.09857253486657903, 0.8994743806575337, 0.24688777078927934, 0.1419453031073498, 0.3906528854749285, 0.13163303749698677, 0.08856416347723535, 0.9915418583606461, 0.9989031423404032, 0.9961297509783547, 0.9980920817703421, 0.1917539520962192, 0.8061913469851796, 0.9643363968016454, 0.03316500835561214, 0.027291642778731577, 0.4980724807118513, 0.4724865656067905, 0.9955051316979188, 0.9965905339877198, 0.7567858424628173, 0.24079549532907826, 0.9982024105917494, 0.9814676270842897, 0.00866083827393093, 0.9895007727966089, 0.9970185967809899, 0.9997371970157117, 0.9924913283834911, 0.13157239045070002, 0.8394318510754661, 0.028945925899154006, 0.9622745085043419, 0.0358930100863076, 0.9957007492865795, 0.6441976296854349, 0.04520040413651369, 0.010657005853324365, 0.005512244406891913, 0.05989972255489212, 0.019844079864810887, 0.16646978108813576, 0.020211562825270347, 0.027928704994919024, 0.3738246274848104, 0.02713243264002656, 0.5969135180805843, 0.9968287972552825, 0.4165889442195806, 0.5827564444419976, 0.9946634331424267, 0.3221412243338316, 0.08201031168938204, 0.07493028478094617, 0.2914611077306095, 0.01947007399819861, 0.18408069961933232, 0.013570051574502064, 0.0023600089694786196, 0.009440035877914478, 0.9976511605756028, 0.9985189802376628, 0.04720568056265467, 0.418639851305648, 0.5118089576793086, 0.02111833077802972, 0.9930129391050392, 0.9941326334450463, 0.997739008152022, 0.9937991618528463, 0.9950661280420845, 0.9942902499328884, 0.9988759554239227, 0.16521405480303109, 0.6878299424452722, 0.14498376237817012, 0.9948905517453083, 0.9972704330437423, 0.9993191592146714, 0.04967531375914602, 0.9476521394052472, 0.9959076912131231, 0.9968565919349544, 0.7646674026440632, 0.055612174737750056, 0.1772638069765783, 0.9961435024764239, 0.992523236336096, 0.9160140105650146, 0.0838135733208908, 0.9971790888661936, 0.996080966067728, 0.8005426086094627, 0.06401727918704801, 0.07642879249882263, 0.02743597679444915, 0.020576982595836863, 0.010778419454962166, 0.9680619332685063, 0.03165278502203493, 0.08914832933764141, 0.9088780893447344, 0.9983703289713117, 0.9904411336412949, 0.9095427082435736, 0.09013296576250278, 0.00021059104150117472, 0.9947369183695265, 0.6188306465899838, 0.21647527282765291, 0.16394393995480916, 0.9981809515222045, 0.9357546467910305, 0.06194891389905777, 0.9044320474818086, 0.09189416525216237, 0.029490524103801347, 0.1592488301605273, 0.11973152786143347, 0.01946374590850889, 0.6717941390845947, 0.9976421618114776, 0.9879534279535919, 0.9906020214205942, 0.9989426916102544, 0.0981809319074521, 0.899991875818311, 0.9668709493904409, 0.033017093971596, 0.995499355858434, 0.994649424505247, 0.9994755659862804, 0.9955405020242308, 0.9970990544723253, 0.9956209307339009, 0.4851925546366222, 0.05273832115615459, 0.44587853341112516, 0.00958878566475538, 0.006232710682090996, 0.002627510418908698, 0.19509264860397085, 0.13137552094543492, 0.6279749901191789, 0.04204016670253917, 0.994854155967359, 0.11938995748166334, 0.06301136644865565, 0.3399297400519581, 0.47590163607274133, 0.0016581938539119907, 0.14216509779688646, 0.8510160715341398, 0.005923545741536937, 0.9984675905741923, 0.9966655569280783, 0.9956613923501648, 0.9897837902791348, 0.0678019743769369, 0.9303937595057453, 0.02085249015520164, 0.9777500939438991, 0.7792520081751105, 0.21978902794682603, 0.9939172366540542, 0.9958528894345731, 0.9978564323214257, 0.9974746323886653, 0.9989153438549024, 0.8475481674811125, 0.07387829062789358, 0.077982640107221, 0.9917685512789238, 0.9972122756026993, 0.9882353528616379, 0.04357888821365121, 0.953893442009921, 0.11850480372672223, 0.8780128639752601, 0.9915503941064899, 0.062331631774236555, 0.7401881273190591, 0.014469843090447772, 0.08960172067546505, 0.09294091523479915, 0.10165597732552786, 0.20008478076770564, 0.28560488867648304, 0.3695114096435854, 0.003227173883350091, 0.03872608660020109, 0.1218943029028672, 0.8428545090966549, 0.03418986544836519, 0.10723409150365136, 0.8890681041030003, 0.002599614339482457, 0.9941858403288379, 0.9963313764141281, 0.9983296168098992, 0.990883996778257, 0.9967131097771189, 0.9988104511809912, 0.9961422498441651, 0.9937382813477821, 0.9923946854188685, 0.9976125827452685, 0.9915421270667332, 0.07656613441548513, 0.9214801440179438, 0.9945300672367784, 0.9982795223979598, 0.9982798846756227, 0.9965370787583684, 0.9953678842085651, 0.9912286957441298, 0.984889685291527, 0.9959712346006054, 0.9982605771271711, 0.545771530652269, 0.027090354427049674, 0.2127583933051218, 0.21407987400888034, 0.9974378175265852, 0.996433900214016, 0.1397717737419016, 0.28183488803694917, 0.575126478839628, 0.9930283941217567, 0.06538553844086938, 0.9332299577469538, 0.9952834973852663, 0.7502612057386242, 0.24950000973311054, 0.9996197355193192, 0.9979997383651298, 0.5298669641920027, 0.4691238377855121, 0.9966306650908605, 0.0022937414616590575, 0.9913416402589856, 0.9761088538855035, 0.021531812953356693, 0.002184386821355027, 0.9953241664619517, 0.9940720911234774, 0.9920055396698002, 0.9981723684108624, 0.19617306640270232, 0.7990463924207631, 0.5798787274218357, 0.028087875859495164, 0.05526969120739371, 0.006342423581176327, 0.19570907050486955, 0.13319089520470287, 0.5434356441159156, 0.04390317518966017, 0.4031596453391965, 0.009101877783222231, 0.9933786516792014, 0.9982773730853985, 0.3028096989555826, 0.6965732269014867, 0.2751877458567497, 0.19529452931769337, 0.03217921221711993, 0.43941269096481006, 0.056591028381831596, 0.022745278334073492, 0.9759792157893353, 0.7266295223965388, 0.14081967488305014, 0.13277283631830442, 0.9990105335278814, 0.9938353596520543, 0.993107827498314, 0.9954243490437906, 0.9925508946722736, 0.45371409646459354, 0.11432875049802259, 0.055814035676200004, 0.10532648667928066, 0.045911545475583876, 0.2241563690866742, 0.9616651894336858, 0.03786597487247371, 0.9936523643965395, 0.9983747506303423, 0.315104929519545, 0.6530887648127863, 0.031198507873222276, 0.6531188475083044, 0.11064601651905392, 0.2351227851029896, 0.8127380522636276, 0.1410651975408104, 0.046161377098154, 0.9958991951518716, 0.9967319126835748, 0.00323089760999538, 0.9963246907572924, 0.9842874504252233, 0.01481143906248626, 0.3974846467459049, 0.19115673851138937, 0.2252918703884232, 0.18508827062213892, 0.9950844686684546, 0.31154475013018823, 0.6882965409852996, 0.9021640818507143, 0.0603903067062583, 0.03355017039236572, 0.0036905187431602294, 0.46549087944804934, 0.5336114959526419, 0.10123328229842277, 0.2612913097161993, 0.084817074358138, 0.244191093111736, 0.12654160287302846, 0.05061664114921138, 0.13132966352227818, 0.4260604064421795, 0.5734947992872739, 0.017471783061779274, 0.1106546260579354, 0.7349796741321815, 0.13511512234442638, 0.9943137863298793, 0.914526105048545, 0.0848056789142761, 0.9991960602666948, 0.05130040290028401, 0.21985886957264575, 0.05130040290028401, 0.021985886957264573, 0.07084341352896363, 0.46414650243114103, 0.11725806377207773, 0.8300253819589514, 0.083849333444543, 0.06209831823417639, 0.0239095129029984, 0.9974603198761293, 0.2079479762792466, 0.4799307262063882, 0.18880355941544297, 0.1049642165980959, 0.017824112252506852, 0.9973323360653158, 0.540517954696965, 0.055295954444702304, 0.23016941037607333, 0.06773754419476032, 0.06739194447948092, 0.02211838177788092, 0.006911994305587788, 0.009676792027822902, 0.9917394682729196, 0.9902886338276801, 0.9965903461532579, 0.995299769168415, 0.9975635353007435, 0.9966006089371743, 0.9956650389032888, 0.9996503953910323, 0.5316409970873716, 0.14555537223473555, 0.17757755412637735, 0.09934154155020701, 0.010370820271724908, 0.03456940090574969, 0.0010916652917605165, 0.9991894593026084, 0.528837310291319, 0.016316214655086068, 0.29465164112420134, 0.15932303722025218, 0.9956285440113315, 0.13959546123275918, 0.8541912746861693, 0.12009509862018164, 0.8778379827713277, 0.9912188415883095, 0.858650216049079, 0.048459976919877475, 0.09086245672477027, 0.9986132751063534, 0.9926384195401778, 0.19540686755156028, 0.03772333350416222, 0.6654396030134215, 0.10185300046123799, 0.9958403185965488, 0.07059413703237685, 0.9255675744244966, 0.5383997760901221, 0.4595626660197828, 0.9965180626177785, 0.9965310764491299, 0.9975838893377682, 0.9976310336446487, 0.9985441914783162, 0.7692971319978429, 0.22901041790687232, 0.9974692311314275, 0.9969251132633092, 0.9973390284160469, 0.9955608567178765, 0.9963910064850409, 0.991959205410941, 0.9977584758882452, 0.9969735686825084, 0.998279421443432, 0.9965246270196152, 0.9959301874119735, 0.9927808197289866, 0.9964825593747282, 0.9997919668700495, 0.9919863733791985, 0.09052260798761232, 0.9052260798761232, 0.9967421235101834, 0.23042670253937447, 0.13167240145107112, 0.34799134669211657, 0.022925105609784707, 0.023512928830548417, 0.12285505313961546, 0.0734779025954638, 0.04643803444033312, 0.9964643417020209, 0.9966584606562315, 0.450824313701178, 0.1643017917469633, 0.2611501172023296, 0.028157180883189564, 0.09561064717478654, 0.08151266471701706, 0.025297033877694948, 0.6577228808200686, 0.23329486798318674, 0.997053888352798, 0.9965606784601432, 0.9944815128584347, 0.3536762039992552, 0.22432240716619425, 0.058946033999875865, 0.36268184808256954, 0.9948632841526867, 0.9878545194721355, 0.586807420504598, 0.03715039784489541, 0.18406333477698184, 0.19081795256696282, 0.9987543793125196, 0.9974035496545625, 0.9931944449753158, 0.23215531531373648, 0.767478160037176, 0.9936074572118665, 0.9977820806678026, 0.9960991282015377, 0.16279814703526396, 0.05339480510560263, 0.0014935609819748989, 0.19304275692025566, 0.020536463502154857, 0.06459651247041437, 0.13554065911422206, 0.3681627820568125, 0.9977831889484607, 0.9974206727003038, 0.9966584929333328, 0.9969577894467238, 0.9953007279319471, 0.12477618806852739, 0.7486571284111643, 0.08097178161893798, 0.04513181270563756, 0.9977761741605065, 0.9386320944169662, 0.05688679360102825, 0.5008007877292293, 0.026161235179885115, 0.11087380623856072, 0.04360205863314186, 0.3089517297434052, 0.006228865519020265, 0.0012457731038040532, 0.24921115948013262, 0.7476334784403978, 0.9920956315649853, 0.5897287320583096, 0.02202306468267546, 0.3841801283533386, 0.9906830424443399, 0.9982459390311608, 0.004517375962125408, 0.9202540174272617, 0.07485937308664961, 0.6160901350299419, 0.21907712647976232, 0.018513559984205268, 0.0514265555116813, 0.07096864660612019, 0.024684746645607023, 0.9867013386550999, 0.9873801611898685, 0.9918062436537314, 0.9934203301634568, 0.9972952552803801, 0.9974319654764153, 0.998246319645063, 0.001559759874445411, 0.9962322521747462, 0.1495211391965117, 0.8492800706361864, 0.2659144786968836, 0.7298503776999571, 0.40494971523148543, 0.034138202737538016, 0.23013857362719595, 0.0600361496418772, 0.05120730410630702, 0.0029429485118567253, 0.14950178440232165, 0.014714742559283627, 0.05238448351104971, 0.9952368729822334, 0.9943642602176624, 0.993012833511806, 0.9885741218952273, 0.9977383726523139, 0.9921300580186829, 0.9924038150087247, 0.5794537047170973, 0.04504587103807824, 0.02661801470431896, 0.04402210124175828, 0.30405962950702814, 0.9980658487555586, 0.9971313032147202, 0.9963780563118113, 0.3097191219086304, 0.18289962455033593, 0.4300612793480872, 0.07721671008509057, 0.997214255807219, 0.9959224229022203, 0.998363891301478, 0.9941540099526421, 0.06869747089111278, 0.28691296666288274, 0.6433316097567737, 0.9959999600459736, 0.9944287205790987, 0.9602576527805753, 0.03810546241192759, 0.9994867384704981, 0.3248982586488892, 0.6717821137477032, 0.9989535081582223, 0.9893322996493412, 0.9912135259131236, 0.9957435207612478, 0.9929313842686278, 0.9881376524143974, 0.993763978642329, 0.8930240385565199, 0.10580479325072827, 0.9983240495334038, 0.996485045176168, 0.9927110371496722, 0.9924934771561955, 0.7291572092287125, 0.15422355914529556, 0.110422596046751, 0.00552112980233755, 0.99182294995326, 0.9986746024933785, 0.9866863731869496, 0.9962790716203674, 0.1795722930876053, 0.7385634635054734, 0.07820083731234424, 0.9975074015155077, 0.9939077170941422, 0.9983093893517604, 0.8101473142418635, 0.05017867448072441, 0.13960323961676402, 0.9960828259415341, 0.0513888791432306, 0.14837634118820103, 0.03474177744894463, 0.6673316418318115, 0.09771124907515678, 0.9958097770540502, 0.9957982393106461, 0.995438746849664, 0.9981238860973147, 0.9984987387090073, 0.9983425224694815, 0.9989047501073889, 0.9922125322144997, 0.9978431992642325, 0.9972763314095849, 0.9968305427585548, 0.9993621093846492, 0.9933108497064649, 0.44851508524325934, 0.013090302027069012, 0.5184448565983911, 0.019635453040603518, 0.9962051125406851, 0.13080083633926753, 0.03823409062224743, 0.2998357633007825, 0.09457906627608575, 0.43466124075818136, 0.21573472662251833, 0.779042068359094, 0.14749032250667343, 0.05715249997133595, 0.005530887094000253, 0.5475578223060251, 0.16039572572600735, 0.07927604834733697, 0.11066568491922099, 0.8853254793537679, 0.00044318356268535, 0.9860834269749038, 0.013295506880560502, 0.9927499264245068, 0.9940179572834364, 0.45911150427173886, 0.06759923989277136, 0.06196596990170709, 0.41122870934769246, 0.9942889348004165, 0.9958690678335947, 0.9940708976936228, 0.8328559719115484, 0.165817478570625, 0.9892795235237646, 0.04204626696367904, 0.04204626696367904, 0.7858302308384151, 0.10294086049728315, 0.026097682942973197, 0.6976074788796439, 0.05934148682853549, 0.10833271432651247, 0.023460587815932635, 0.10074252415076955, 0.010350259330558515, 0.9900999378480326, 0.009494108993063327, 0.9952211047410214, 0.9975041900453485, 0.9981931160328322, 0.8852613309343408, 0.11394452774402405, 0.9991642356646544, 0.5662165135103532, 0.04542947956684089, 0.2453191896609408, 0.024779716127367755, 0.1181166468737863, 0.9904858416665353, 0.9917273593298939, 0.9922527425972603, 0.18004221926492614, 0.8180865752564187, 0.9835211963534662, 0.9947260783647521, 0.9923839864261903, 0.046076312415708094, 0.8508759026100762, 0.1013678873145578, 0.14605835949022522, 0.8520070970263137, 0.9955743870069796, 0.996077817181296, 0.6763122112857244, 0.11567127188399909, 0.005731459417675631, 0.09170335068281009, 0.1104608542315667, 0.98854116007341, 0.9975889910180309, 0.9994622031119419, 0.2575698016652674, 0.0660435388885301, 0.6732313245449537, 0.002889404826373192, 0.08425760767204768, 0.812712620836713, 0.10345554359732435, 0.996888015240164, 0.9988263695949771, 0.9949780486620066, 0.14815135900285709, 0.28674456581198143, 0.19753514533714278, 0.3648028087274653, 0.9966138731379193, 0.13145046350053166, 0.738751604872988, 0.12882145423052105, 0.989842371156796, 0.9930489642798049, 0.9952268090071202, 0.9988430212396869, 0.9433104657297191, 0.05572298109795809, 0.9989495296114406, 0.9943753049864753, 0.9908890786629126, 0.4746325888210871, 0.10547390862690825, 0.05493432740984805, 0.3142243527843308, 0.052736954313454126, 0.9921259161588221, 0.054434931997781495, 0.08730130603417788, 0.08319300927962832, 0.05032663524323195, 0.5946759552210469, 0.12941134776831073, 0.9525933099329607, 0.04536158618728384, 0.16195795500825835, 0.8343288591334521, 0.838150908022342, 0.1611132414988951, 0.9949291793299577, 0.9002882266744924, 0.09532463576553449, 0.9955292671605405, 0.518895940898064, 0.11744065175060109, 0.36310732122889927, 0.9970299884656887, 0.9964433931598838, 0.9943845284450252, 0.9977035804653183, 0.9947476888448015, 0.34103913453297746, 0.012229886996571937, 0.6464368841045167, 0.9984531676682747, 0.029526070427004832, 0.9659243039691581, 0.32560391933003197, 0.6724891405770594, 0.10320096670044057, 0.894408378070485, 0.9926903652954014, 0.3692530451332095, 0.6221660897449969, 0.9916764545705548, 0.8157152289153664, 0.17923787541189667, 0.9921391582582728, 0.9925020790260293, 0.30277878404692543, 0.452528579766885, 0.24375331712081003, 0.058300795998701034, 0.5708993331257417, 0.3484593730076208, 0.021526447753366536, 0.9910696196238957, 0.9996408870411211, 0.924581656434275, 0.0749660802514277, 0.9992567664166286, 0.9970021090780843, 0.9926240482773687, 0.6597648357919004, 0.27057335803921645, 0.013644960176189713, 0.05582029162986701, 0.8401794437385897, 0.15753364570098558, 0.9988025680151106, 0.9960958923253382, 0.99780463237609, 0.9867669323786901, 0.9987856699111834, 0.2633031085884867, 0.19991532318755473, 0.048759834923793835, 0.48272236574555893, 0.9939533160118389, 0.9972425064590599, 0.9984350669165721, 0.4517840935959057, 0.12486016088831994, 0.06481290794202867, 0.2821267757476542, 0.07625047993179844, 0.9986920219907347, 0.9973982461052658, 0.9974402186086727, 0.9410677603179481, 0.058870059348992226, 0.9966777462163139, 0.9907714461695937, 0.9987022231482374, 0.10849040040501631, 0.05725882243598083, 0.7966008103812772, 0.03716800754616299, 0.9971621004661817, 0.9996620496792507, 0.9952119067904808, 0.022330704370014172, 0.04545893389610028, 0.9315093822920197, 0.41058893593734574, 0.5844854264519863, 0.3324206098438646, 0.6664549119685247, 0.9970354211751471, 0.11347093427459828, 0.6730889510379581, 0.20888967446005594, 0.9984173294208993, 0.3474090123253352, 0.6316527496824277, 0.018949582490472832, 0.9863862814138108, 0.19698355273631882, 0.041803583538897245, 0.05067101035017847, 0.33189511779366904, 0.37749902710882965, 0.3716213697780231, 0.6266556431550978, 0.9949240734792779, 0.996582013445123, 0.9952998080415795, 0.8941436225994975, 0.1047006583840161, 0.9927739632253731, 0.99354020114031, 0.993789266029666, 0.9965643871302529, 0.9895321496386091, 0.9088006554682976, 0.08830451713052284, 0.9960549532528703, 0.13651984292971486, 0.09227730123952949, 0.22374085369036603, 0.04424254169018537, 0.11755875363392113, 0.28315226681718636, 0.08848508338037074, 0.015168871436634984, 0.6740270768346743, 0.32293219280101393, 0.27406989926496567, 0.12457722693862076, 0.5689026696863682, 0.03183640243986975, 0.6341940157258474, 0.22582576227626613, 0.13925922007036412, 0.9981306814657304, 0.9967933377239534, 0.9947802336134769, 0.9860411166804283, 0.9885632413862641, 0.9953183010677182, 0.6653964988168685, 0.334561061555178, 0.041931410618200105, 0.9574338757822357, 0.9982245537673611, 0.9925413232356652, 0.04721978094654789, 0.9523989716337625, 0.9991965192111061, 0.991786133193945, 0.9939337743736076, 0.9910361226821052, 0.16038144617000072, 0.8381223961141973, 0.9943335702439078, 0.9863309433309394, 0.9952431578063574, 0.9992451950700256, 0.9976326102154314, 0.996264098749598, 0.9958073920213496, 0.995731372417727, 0.9942769552014368, 0.9834142116727361, 0.9926242370172185, 0.9923483560081535, 0.07557440581182515, 0.8933974401326472, 0.03022976232473006, 0.870474798332066, 0.08572857862361256, 0.041765204970477914, 0.9973994532699642, 0.9964651814476563, 0.9978200625174126, 0.1310201787159486, 0.863914303408286, 0.9572077869222904, 0.025242821385081497, 0.017165118541855418, 0.9928662381215893, 0.9882696278663469, 0.6261234352446545, 0.37038287718697877, 0.9955328744824055, 0.031000985172752623, 0.026106092777054838, 0.42096074603000927, 0.43075053082140485, 0.089739693921126, 0.9935830578180154, 0.9906865261330992, 0.14252448506807877, 0.8567131135410889, 0.9928313824029897, 0.026248809241628066, 0.9712059419402385, 0.1295803087657619, 0.021031359014338318, 0.2557684628517918, 0.5610623840276706, 0.03256468492542707, 0.9509652530494122, 0.029463667028240333, 0.019303781846088493, 0.22753568453888112, 0.7668795293717845, 0.9830270627810398, 0.988292624166146, 0.9960478206814268, 0.9961473799357282, 0.1715443552572878, 0.4405013979642498, 0.3875064453579805, 0.3096149011024369, 0.6863752024439564, 0.9353684109025692, 0.004602058602226663, 0.03480306817933913, 0.025023693649607475, 0.9922014827668468, 0.17271098367862125, 0.8240781221237071, 0.9958030870304189, 0.9985329598529702, 0.9961396002045447, 0.9976087115824293, 0.9753281256581305, 0.023846653439074095, 0.8312572918487242, 0.16439043458202382, 0.8043270437440921, 0.057627090024348064, 0.09563644727444998, 0.04168768214527307, 0.9262579970657197, 0.07336697006461146, 0.9969869117052463, 0.053730884121205906, 0.9432755212389482, 0.9951537635413897, 0.9964893193555424, 0.3980784391325629, 0.4556782132835768, 0.14463943286810163, 0.736248698971253, 0.2633053433678513, 0.9932580981431003, 0.15959111664924092, 0.8378533624085148, 0.997431911360495, 0.9972595400745161, 0.8700135522343589, 0.12943591336313728, 0.893711023150466, 0.10615226970387738, 0.22029599844850176, 0.7756901353820485, 0.27647320721710145, 0.09071777111811141, 0.6263846101012455, 0.9954811033529773, 0.9951472180747085, 0.9800431793688349, 0.0063901967791925775, 0.013206406676997993, 0.9939643389753197, 0.9962360533275358, 0.9958519484915629, 0.2249756527133242, 0.7724164076490797, 0.995628134842047, 0.9951169424125723, 0.0742514178355195, 0.9243021323662944, 0.9936584730413687, 0.9970952752036941, 0.9977426671746584, 0.9936512000236769, 0.9978594697084094, 0.9955968730287449, 0.9956573157306625, 0.9941291932125393, 0.9948427468690904, 0.3870359928088885, 0.020898271749939985, 0.5726126459483556, 0.018390479139947187, 0.9962619328694957, 0.9991901568161571, 0.8338978486920242, 0.04551489232627033, 0.1202893582908573, 0.9920385243290736, 0.9976431979080694, 0.9973525040381179, 0.9945721043408939, 0.005207183792360701, 0.11461908089033367, 0.8832411527431594, 0.27518189029675566, 0.35421336744080656, 0.23804661790376785, 0.13140173308287986, 0.9976984707719257, 0.9940139216471184, 0.9964067803013419, 0.9938692223964226, 0.9938071308610944, 0.9895277468889507, 0.11758034450722879, 0.11551753144569846, 0.016502504492242637, 0.02452455528708281, 0.401790144095852, 0.06280119765103448, 0.07449047166637301, 0.1867991827941354, 0.9936266695993214, 0.9933253010925264, 0.25949091534320856, 0.6246037610522457, 0.11474975150855453, 0.9953132673287189, 0.7873157606648832, 0.0657757470935219, 0.14749712984607938, 0.19593469554810153, 0.6618238605180319, 0.14078270717159888, 0.9908877611860835, 0.6928669927520529, 0.3023419604736231, 0.9877838959762164, 0.9701772368624599, 0.028908737689584622, 0.9941786013600897, 0.9981277957173146, 0.9989584933875002, 0.9973635763341567, 0.9898611197216556, 0.3329576478512715, 0.6623351059407014, 0.9950006482721926, 0.9959743326360374, 0.9022580845934723, 0.09691774821720163, 0.9793264758504554, 0.020341218191957083, 0.9988827925706215, 0.9947960795035821, 0.9949418782815952, 0.9975983291676881, 0.9961109728145804, 0.9946413424205491, 0.8343291163251613, 0.024728390374233366, 0.09146116987730149, 0.040988153907975854, 0.008129881766871244, 0.999082407066181, 0.29420572323040695, 0.11032714621140262, 0.5884114464608139, 0.9923898440571485, 0.0678954710361009, 0.9279047708267124, 0.995005290099902, 0.8593228454696283, 0.008774996233825527, 0.04763569384076714, 0.08398924966661575, 0.6542372481063222, 0.2563385708954596, 0.08927213911782174, 0.07440013828914141, 0.9246874330221861, 0.9951716026687694, 0.9968968803718588, 0.9894841570358429, 0.9993954133911193, 0.9994078143532837, 0.38301382586214255, 0.6164411496552908, 0.9975076532507132, 0.9941361923644899, 0.9988654634755727, 0.9924357484811236, 0.996138342360471, 0.2903599716364373, 0.05966300787050081, 0.6503267857884588, 0.9982891887324274, 0.21499360939333723, 0.47340957339321055, 0.0031772454590148357, 0.30713372770476743, 0.6196135337321474, 0.008929809179775254, 0.3358760485038047, 0.027653602621239497, 0.005473108852120317, 0.00201640852446538, 0.9913318431576352, 0.9946702291013122, 0.9743259094821546, 0.02254121361472793, 0.002406535261358854, 0.000641742736362361, 0.9999032932394462, 0.3703101920424401, 0.05936270254115452, 0.050111372275000565, 0.49006352270987735, 0.026469083817051584, 0.003597739547948759], \"Term\": [\"absolutely\", \"accelerator\", \"accident\", \"accord\", \"accord\", \"accord\", \"accord\", \"accord\", \"acquire\", \"action\", \"action\", \"action\", \"actually\", \"actually\", \"actually\", \"additional\", \"additional\", \"address\", \"adrian\", \"adult\", \"advertising\", \"age\", \"age\", \"age\", \"age\", \"age\", \"agency\", \"ago\", \"ahead\", \"aid\", \"air\", \"algorithm\", \"also\", \"also\", \"also\", \"also\", \"also\", \"also\", \"also\", \"also\", \"also\", \"aluminum\", \"amendment\", \"american\", \"ancient\", \"animal\", \"anti\", \"anti\", \"appear\", \"appear\", \"appear\", \"appear\", \"apple\", \"application\", \"application\", \"application\", \"appreciate\", \"appreciate\", \"approach\", \"approve\", \"arab\", \"archive\", \"area\", \"area\", \"area\", \"area\", \"area\", \"argument\", \"arm\", \"arm\", \"armenian\", \"arrest\", \"article\", \"ask\", \"ask\", \"ask\", \"aspect\", \"assist\", \"atheism\", \"atheist\", \"attack\", \"attack\", \"attend\", \"attitude\", \"audio\", \"author\", \"author\", \"auto\", \"available\", \"available\", \"available\", \"available\", \"average\", \"ax\", \"bad\", \"ball\", \"band\", \"battery\", \"be\", \"bear\", \"bear\", \"beat\", \"behavior\", \"belief\", \"believe\", \"believe\", \"believe\", \"belong\", \"benefit\", \"biblical\", \"bike\", \"biker\", \"bill\", \"birth\", \"bit\", \"bit\", \"bit\", \"black\", \"black\", \"black\", \"black\", \"blank\", \"blind\", \"block\", \"block\", \"body\", \"body\", \"body\", \"body\", \"body\", \"bomb\", \"bombing\", \"book\", \"border\", \"box\", \"box\", \"boy\", \"brain\", \"brain\", \"brand\", \"british\", \"broadcast\", \"brother\", \"bug\", \"build\", \"build\", \"build\", \"build\", \"build\", \"build\", \"bus\", \"business\", \"business\", \"bust\", \"button\", \"buy\", \"buy\", \"buy\", \"buy\", \"byte\", \"ca\", \"ca\", \"ca\", \"ca\", \"cable\", \"camp\", \"cap\", \"capacity\", \"capture\", \"car\", \"card\", \"carry\", \"carry\", \"carry\", \"carry\", \"case\", \"case\", \"case\", \"case\", \"case\", \"case\", \"case\", \"case\", \"catch\", \"catch\", \"cause\", \"cause\", \"cause\", \"cause\", \"cause\", \"cause\", \"cause\", \"cbr\", \"cd\", \"center\", \"center\", \"center\", \"certain\", \"certain\", \"certain\", \"certain\", \"change\", \"change\", \"change\", \"change\", \"change\", \"change\", \"character\", \"cheap\", \"chemical\", \"child\", \"child\", \"child\", \"child\", \"chip\", \"chip\", \"chip\", \"christian\", \"christianity\", \"chronic\", \"church\", \"circuit\", \"civilian\", \"claim\", \"claim\", \"claim\", \"clean\", \"clean\", \"clipper\", \"clock\", \"cluster\", \"co\", \"co\", \"coach\", \"code\", \"code\", \"cold\", \"cold\", \"color\", \"com\", \"come\", \"come\", \"come\", \"comet\", \"community\", \"company\", \"company\", \"compare\", \"compare\", \"compile\", \"component\", \"component\", \"compute\", \"computer\", \"computer\", \"concept\", \"concept\", \"concern\", \"concern\", \"concerned\", \"conclusion\", \"condition\", \"condition\", \"condition\", \"conference\", \"configuration\", \"connect\", \"connect\", \"connector\", \"consideration\", \"contact\", \"contact\", \"contain\", \"contain\", \"contain\", \"contest\", \"context\", \"contract\", \"control\", \"control\", \"control\", \"control\", \"control\", \"control\", \"controller\", \"convert\", \"convince\", \"cool\", \"cop\", \"copy\", \"correct\", \"correct\", \"correct\", \"correct\", \"correct\", \"cost\", \"cost\", \"could\", \"could\", \"country\", \"country\", \"cover\", \"cover\", \"cover\", \"cover\", \"cover\", \"coverage\", \"cpu\", \"crack\", \"crash\", \"create\", \"create\", \"create\", \"create\", \"creation\", \"crew\", \"crime\", \"cross\", \"current\", \"current\", \"current\", \"current\", \"current\", \"custom\", \"customer\", \"cycle\", \"dangerous\", \"data\", \"database\", \"datum\", \"datum\", \"datum\", \"datum\", \"datum\", \"datum\", \"dealer\", \"dealer\", \"death\", \"death\", \"decent\", \"decrease\", \"default\", \"define\", \"define\", \"define\", \"demonstrate\", \"demonstrate\", \"dept\", \"description\", \"design\", \"design\", \"design\", \"deskjet\", \"detailed\", \"detector\", \"device\", \"device\", \"devil\", \"diagnose\", \"diagnosis\", \"die\", \"diet\", \"difficult\", \"difficult\", \"digital\", \"direct\", \"discuss\", \"discuss\", \"disease\", \"disk\", \"display\", \"distance\", \"distant\", \"division\", \"division\", \"dn\", \"doctor\", \"document\", \"document\", \"document\", \"dog\", \"dollar\", \"door\", \"door\", \"draft\", \"dream\", \"drink\", \"drive\", \"drive\", \"driver\", \"drug\", \"drug\", \"dual\", \"duo\", \"earth\", \"earth\", \"eat\", \"echo\", \"edge\", \"edge\", \"edition\", \"educational\", \"eeg\", \"effect\", \"effect\", \"effect\", \"egg\", \"else\", \"email\", \"encrypt\", \"encryption\", \"energy\", \"enforcement\", \"engine\", \"engineering\", \"enough\", \"entry\", \"equipment\", \"escape\", \"escrow\", \"eternal\", \"ethernet\", \"ethnic\", \"even\", \"even\", \"even\", \"even\", \"even\", \"event\", \"event\", \"event\", \"event\", \"evidence\", \"evidence\", \"evil\", \"exactly\", \"examination\", \"examine\", \"excellent\", \"excellent\", \"exchange\", \"excuse\", \"exist\", \"exist\", \"exist\", \"exist\", \"exist\", \"existence\", \"experiment\", \"explain\", \"explain\", \"export\", \"external\", \"extra\", \"extra\", \"fact\", \"fact\", \"fact\", \"fact\", \"fact\", \"factory\", \"faith\", \"false\", \"family\", \"fan\", \"fan\", \"faq\", \"faq\", \"fast\", \"fast\", \"fast\", \"favor\", \"fear\", \"feature\", \"feature\", \"federal\", \"fetch\", \"field\", \"field\", \"figure\", \"file\", \"film\", \"final\", \"final\", \"final\", \"fire\", \"fire\", \"firearm\", \"first\", \"first\", \"first\", \"first\", \"first\", \"first\", \"first\", \"first\", \"first\", \"fit\", \"fit\", \"fit\", \"fix\", \"flame\", \"flame\", \"flight\", \"follow\", \"follow\", \"follow\", \"follow\", \"follow\", \"follow\", \"follow\", \"follow\", \"follow\", \"font\", \"food\", \"force\", \"force\", \"force\", \"force\", \"forever\", \"formal\", \"format\", \"fpu\", \"freedom\", \"frequency\", \"friend\", \"front\", \"front\", \"front\", \"fuel\", \"function\", \"game\", \"gas\", \"gas\", \"gateway\", \"gay\", \"generally\", \"generally\", \"generally\", \"generate\", \"geometry\", \"get\", \"get\", \"gift\", \"girl\", \"give\", \"give\", \"give\", \"give\", \"give\", \"give\", \"go\", \"go\", \"goal\", \"goal\", \"god\", \"gold\", \"good\", \"good\", \"good\", \"gospel\", \"government\", \"government\", \"government\", \"graphic\", \"greek\", \"greek\", \"ground\", \"ground\", \"group\", \"group\", \"group\", \"group\", \"group\", \"guess\", \"guide\", \"guilty\", \"gun\", \"hardware\", \"hardware\", \"have\", \"have\", \"headache\", \"health\", \"hear\", \"heat\", \"hell\", \"helmet\", \"help\", \"help\", \"help\", \"help\", \"help\", \"high\", \"high\", \"high\", \"high\", \"high\", \"historical\", \"history\", \"history\", \"history\", \"history\", \"history\", \"hit\", \"hit\", \"hit\", \"hockey\", \"hole\", \"homosexual\", \"hook\", \"hot\", \"hot\", \"hour\", \"hour\", \"human\", \"human\", \"ice\", \"icon\", \"ide\", \"ignorant\", \"ill\", \"image\", \"image\", \"image\", \"immediate\", \"impact\", \"implementation\", \"imply\", \"imply\", \"impossible\", \"impossible\", \"inch\", \"include\", \"include\", \"include\", \"include\", \"include\", \"increase\", \"increase\", \"increase\", \"increase\", \"increase\", \"increase\", \"info\", \"info\", \"info\", \"information\", \"information\", \"information\", \"informed\", \"inhabitant\", \"input\", \"insert\", \"insist\", \"instal\", \"install\", \"installation\", \"instruction\", \"insurance\", \"intelligence\", \"interested\", \"interested\", \"interface\", \"internal\", \"internet\", \"interpretation\", \"invasion\", \"invent\", \"investment\", \"islamic\", \"israeli\", \"issue\", \"issue\", \"issue\", \"issue\", \"item\", \"jet\", \"jewish\", \"jewish\", \"jewish\", \"jiggle\", \"join\", \"join\", \"judge\", \"keep\", \"keep\", \"key\", \"keyboard\", \"kill\", \"kill\", \"kind\", \"kind\", \"king\", \"know\", \"know\", \"know\", \"knowledge\", \"lab\", \"laboratory\", \"land\", \"language\", \"language\", \"large\", \"large\", \"large\", \"large\", \"large\", \"large\", \"last\", \"last\", \"last\", \"last\", \"latch\", \"launch\", \"law\", \"law\", \"lead\", \"lead\", \"lead\", \"lead\", \"lead\", \"learn\", \"learn\", \"leave\", \"leave\", \"leave\", \"lebanese\", \"left\", \"leg\", \"legitimate\", \"lemon\", \"less\", \"less\", \"less\", \"less\", \"less\", \"less\", \"let\", \"let\", \"liar\", \"library\", \"life\", \"life\", \"life\", \"light\", \"light\", \"light\", \"line\", \"line\", \"line\", \"link\", \"list\", \"list\", \"listen\", \"little\", \"little\", \"live\", \"live\", \"live\", \"live\", \"lock\", \"logic\", \"logic\", \"look\", \"look\", \"look\", \"look\", \"lose\", \"lose\", \"lot\", \"lot\", \"lot\", \"lot\", \"lot\", \"lot\", \"lot\", \"love\", \"love\", \"low\", \"low\", \"low\", \"low\", \"lunar\", \"machine\", \"machine\", \"mail\", \"main\", \"main\", \"main\", \"main\", \"main\", \"main\", \"main\", \"make\", \"make\", \"make\", \"make\", \"male\", \"man\", \"man\", \"man\", \"man\", \"man\", \"manager\", \"many\", \"many\", \"many\", \"many\", \"many\", \"many\", \"many\", \"many\", \"map\", \"marker\", \"market\", \"marriage\", \"master\", \"match\", \"material\", \"max\", \"may\", \"may\", \"may\", \"may\", \"may\", \"may\", \"may\", \"maybe\", \"mean\", \"mean\", \"mean\", \"mean\", \"medical\", \"medium\", \"medium\", \"meet\", \"meet\", \"meeting\", \"member\", \"member\", \"member\", \"memory\", \"mercy\", \"message\", \"message\", \"message\", \"message\", \"metal\", \"mile\", \"mile\", \"military\", \"military\", \"militia\", \"mirror\", \"mission\", \"mode\", \"model\", \"money\", \"money\", \"monitor\", \"moon\", \"moral\", \"morality\", \"mother\", \"motherboard\", \"motif\", \"motorcycle\", \"mount\", \"mouse\", \"movement\", \"movie\", \"msg\", \"much\", \"multi\", \"multiple\", \"multiple\", \"muslim\", \"must\", \"must\", \"must\", \"must\", \"must\", \"must\", \"must\", \"must\", \"natural\", \"nature\", \"need\", \"need\", \"need\", \"need\", \"need\", \"net\", \"net\", \"net\", \"net\", \"network\", \"neurologist\", \"neutral\", \"new\", \"new\", \"new\", \"new\", \"newsgroup\", \"newsletter\", \"next\", \"next\", \"next\", \"next\", \"nice\", \"night\", \"noise\", \"normal\", \"normal\", \"northern\", \"notice\", \"nuclear\", \"number\", \"number\", \"number\", \"number\", \"number\", \"number\", \"number\", \"number\", \"object\", \"objective\", \"obviously\", \"occupy\", \"offense\", \"offer\", \"offer\", \"offer\", \"offer\", \"official\", \"oil\", \"oil\", \"open\", \"open\", \"open\", \"open\", \"open\", \"open\", \"open\", \"operate\", \"operate\", \"opponent\", \"option\", \"option\", \"option\", \"optional\", \"orbit\", \"order\", \"order\", \"order\", \"organization\", \"organization\", \"organization\", \"organization\", \"organization\", \"organization\", \"orientation\", \"originally\", \"outlet\", \"ozone\", \"pack\", \"package\", \"page\", \"page\", \"pain\", \"panel\", \"panel\", \"paper\", \"paper\", \"part\", \"part\", \"part\", \"part\", \"part\", \"part\", \"part\", \"part\", \"part\", \"partner\", \"passage\", \"patent\", \"pathology\", \"patient\", \"patrol\", \"pattern\", \"pay\", \"pay\", \"pay\", \"pay\", \"pay\", \"pc\", \"peace\", \"pen\", \"people\", \"people\", \"people\", \"people\", \"percent\", \"perfect\", \"period\", \"permanent\", \"person\", \"person\", \"person\", \"pgp\", \"phase\", \"phone\", \"phone\", \"physical\", \"pick\", \"pick\", \"pin\", \"pitch\", \"pitcher\", \"plane\", \"planet\", \"planetary\", \"plate\", \"play\", \"play\", \"player\", \"playoff\", \"please\", \"plug\", \"point\", \"point\", \"point\", \"point\", \"pointer\", \"police\", \"pop\", \"popular\", \"population\", \"population\", \"population\", \"port\", \"possess\", \"possibility\", \"post\", \"post\", \"post\", \"poster\", \"power\", \"power\", \"power\", \"power\", \"power\", \"prayer\", \"predict\", \"prediction\", \"president\", \"press\", \"pretty\", \"price\", \"primary\", \"printer\", \"private\", \"prize\", \"probably\", \"probe\", \"problem\", \"problem\", \"problem\", \"problem\", \"procedure\", \"process\", \"process\", \"process\", \"process\", \"process\", \"processor\", \"processor\", \"produce\", \"produce\", \"produce\", \"produce\", \"produce\", \"produce\", \"profit\", \"profit\", \"program\", \"program\", \"program\", \"programmer\", \"progress\", \"project\", \"project\", \"project\", \"project\", \"promise\", \"proof\", \"properly\", \"protect\", \"protect\", \"protocol\", \"prove\", \"prove\", \"prove\", \"prove\", \"prove\", \"provide\", \"provide\", \"provide\", \"provide\", \"provide\", \"provide\", \"public\", \"public\", \"publication\", \"publish\", \"purchase\", \"purpose\", \"purpose\", \"put\", \"question\", \"question\", \"question\", \"question\", \"question\", \"quick\", \"radar\", \"radiation\", \"radio\", \"radio\", \"radius\", \"ram\", \"random\", \"range\", \"range\", \"range\", \"rate\", \"rate\", \"rational\", \"reaction\", \"read\", \"read\", \"read\", \"read\", \"read\", \"realistic\", \"reality\", \"really\", \"reason\", \"reason\", \"reason\", \"reason\", \"receive\", \"receive\", \"receive\", \"recommend\", \"reference\", \"reflect\", \"regard\", \"regard\", \"regard\", \"regard\", \"registration\", \"relate\", \"relate\", \"relate\", \"related\", \"relation\", \"relevant\", \"religion\", \"religious\", \"religious\", \"remember\", \"remind\", \"remote\", \"remove\", \"remove\", \"remove\", \"remove\", \"remove\", \"replacement\", \"report\", \"report\", \"report\", \"report\", \"report\", \"report\", \"request\", \"request\", \"requirement\", \"requirement\", \"research\", \"research\", \"researcher\", \"resistance\", \"resistance\", \"resource\", \"return\", \"return\", \"return\", \"revelation\", \"review\", \"revise\", \"ride\", \"rider\", \"right\", \"right\", \"right\", \"ripem\", \"rise\", \"rise\", \"risk\", \"risk\", \"road\", \"road\", \"rock\", \"rocket\", \"rocket\", \"role\", \"room\", \"room\", \"routine\", \"rsa\", \"rule\", \"rule\", \"rule\", \"run\", \"run\", \"run\", \"run\", \"rush\", \"s\", \"safety\", \"safety\", \"sale\", \"satellite\", \"saturn\", \"say\", \"say\", \"say\", \"say\", \"schedule\", \"schedule\", \"science\", \"scientific\", \"score\", \"scratch\", \"screen\", \"screw\", \"screw\", \"screw\", \"screw\", \"scripture\", \"scsi\", \"season\", \"second\", \"second\", \"second\", \"second\", \"second\", \"section\", \"secure\", \"security\", \"see\", \"see\", \"select\", \"selective\", \"self\", \"sell\", \"sell\", \"sell\", \"sell\", \"seller\", \"send\", \"sender\", \"sense\", \"sense\", \"sense\", \"sensitive\", \"sensitive\", \"serial\", \"serial\", \"series\", \"serve\", \"serve\", \"serve\", \"server\", \"service\", \"service\", \"service\", \"session\", \"set\", \"set\", \"set\", \"set\", \"set\", \"sex\", \"sex\", \"sexual\", \"shall\", \"shipping\", \"shoot\", \"shoot\", \"shop\", \"shuttle\", \"sight\", \"signal\", \"signature\", \"significant\", \"significant\", \"sin\", \"single\", \"single\", \"single\", \"single\", \"single\", \"single\", \"single\", \"single\", \"site\", \"site\", \"situation\", \"situation\", \"situation\", \"situation\", \"size\", \"size\", \"size\", \"slave\", \"slip\", \"smoke\", \"sneak\", \"snow\", \"socket\", \"software\", \"software\", \"solar\", \"solar\", \"soldier\", \"solid\", \"source\", \"source\", \"space\", \"spacecraft\", \"spare\", \"speaker\", \"special\", \"special\", \"specifically\", \"specifie\", \"specify\", \"speed\", \"spend\", \"sphere\", \"sport\", \"spot\", \"spring\", \"stack\", \"standing\", \"stat\", \"state\", \"state\", \"state\", \"statement\", \"statement\", \"statement\", \"station\", \"status\", \"steal\", \"step\", \"step\", \"still\", \"still\", \"still\", \"storage\", \"straightforward\", \"street\", \"street\", \"string\", \"study\", \"study\", \"study\", \"study\", \"study\", \"success\", \"sufficient\", \"suggest\", \"suggest\", \"sun\", \"supply\", \"supply\", \"support\", \"support\", \"support\", \"support\", \"support\", \"sure\", \"sure\", \"sure\", \"surface\", \"surface\", \"surgery\", \"surveillance\", \"switch\", \"syndrome\", \"system\", \"system\", \"system\", \"table\", \"table\", \"take\", \"take\", \"take\", \"take\", \"talent\", \"tank\", \"tank\", \"tap\", \"tape\", \"taste\", \"tax\", \"team\", \"team\", \"technical\", \"technical\", \"technology\", \"technology\", \"technology\", \"technology\", \"tell\", \"tell\", \"telnet\", \"temporary\", \"temporary\", \"terrorism\", \"terrorist\", \"test\", \"test\", \"test\", \"thank\", \"thank\", \"theist\", \"theory\", \"theory\", \"there\", \"therefore\", \"thing\", \"thing\", \"think\", \"think\", \"third\", \"third\", \"thread\", \"thread\", \"thread\", \"ticket\", \"tie\", \"time\", \"time\", \"time\", \"tire\", \"title\", \"topic\", \"total\", \"total\", \"town\", \"trace\", \"trade\", \"trade\", \"tradition\", \"translation\", \"trap\", \"travel\", \"treatment\", \"trial\", \"trip\", \"troop\", \"truck\", \"true\", \"true\", \"true\", \"true\", \"trust\", \"truth\", \"try\", \"try\", \"try\", \"tube\", \"tumor\", \"turkish\", \"turn\", \"turn\", \"tv\", \"tv\", \"type\", \"type\", \"type\", \"type\", \"typical\", \"typically\", \"unit\", \"universe\", \"unknown\", \"up\", \"use\", \"use\", \"use\", \"use\", \"use\", \"use\", \"use\", \"use\", \"useless\", \"usenet\", \"user\", \"user\", \"user\", \"utility\", \"valid\", \"valid\", \"valid\", \"value\", \"value\", \"value\", \"variety\", \"vehicle\", \"vehicle\", \"velocity\", \"version\", \"version\", \"vertical\", \"video\", \"village\", \"voice\", \"voltage\", \"volume\", \"volume\", \"vote\", \"vram\", \"wait\", \"wait\", \"want\", \"want\", \"war\", \"warranty\", \"waste\", \"watch\", \"water\", \"wave\", \"way\", \"way\", \"way\", \"way\", \"way\", \"weapon\", \"wear\", \"wear\", \"wear\", \"weekend\", \"weight\", \"weight\", \"welcome\", \"well\", \"well\", \"well\", \"well\", \"whole\", \"whole\", \"whole\", \"wide\", \"wide\", \"widget\", \"wife\", \"wild\", \"will\", \"win\", \"window\", \"window\", \"wing\", \"winner\", \"wire\", \"wiring\", \"withdraw\", \"woman\", \"woman\", \"woman\", \"wonder\", \"word\", \"word\", \"word\", \"word\", \"work\", \"work\", \"work\", \"work\", \"work\", \"work\", \"worked\", \"worship\", \"would\", \"would\", \"would\", \"would\", \"write\", \"year\", \"year\", \"year\", \"year\", \"year\", \"year\"]}, \"R\": 30, \"lambda.step\": 0.01, \"plot.opts\": {\"xlab\": \"PC1\", \"ylab\": \"PC2\"}, \"topic.order\": [16, 4, 7, 6, 2, 18, 8, 17, 20, 11, 12, 5, 3, 14, 9, 19, 1, 15, 10, 13]};\n",
              "\n",
              "function LDAvis_load_lib(url, callback){\n",
              "  var s = document.createElement('script');\n",
              "  s.src = url;\n",
              "  s.async = true;\n",
              "  s.onreadystatechange = s.onload = callback;\n",
              "  s.onerror = function(){console.warn(\"failed to load library \" + url);};\n",
              "  document.getElementsByTagName(\"head\")[0].appendChild(s);\n",
              "}\n",
              "\n",
              "if(typeof(LDAvis) !== \"undefined\"){\n",
              "   // already loaded: just create the visualization\n",
              "   !function(LDAvis){\n",
              "       new LDAvis(\"#\" + \"ldavis_el4711399332358882089682632987\", ldavis_el4711399332358882089682632987_data);\n",
              "   }(LDAvis);\n",
              "}else if(typeof define === \"function\" && define.amd){\n",
              "   // require.js is available: use it to load d3/LDAvis\n",
              "   require.config({paths: {d3: \"https://d3js.org/d3.v5\"}});\n",
              "   require([\"d3\"], function(d3){\n",
              "      window.d3 = d3;\n",
              "      LDAvis_load_lib(\"https://cdn.jsdelivr.net/gh/bmabey/pyLDAvis@3.2.2/pyLDAvis/js/ldavis.v3.0.0.js\", function(){\n",
              "        new LDAvis(\"#\" + \"ldavis_el4711399332358882089682632987\", ldavis_el4711399332358882089682632987_data);\n",
              "      });\n",
              "    });\n",
              "}else{\n",
              "    // require.js not available: dynamically load d3 & LDAvis\n",
              "    LDAvis_load_lib(\"https://d3js.org/d3.v5.js\", function(){\n",
              "         LDAvis_load_lib(\"https://cdn.jsdelivr.net/gh/bmabey/pyLDAvis@3.2.2/pyLDAvis/js/ldavis.v3.0.0.js\", function(){\n",
              "                 new LDAvis(\"#\" + \"ldavis_el4711399332358882089682632987\", ldavis_el4711399332358882089682632987_data);\n",
              "            })\n",
              "         });\n",
              "}\n",
              "</script>"
            ],
            "text/plain": [
              "PreparedData(topic_coordinates=              x         y  topics  cluster       Freq\n",
              "topic                                                \n",
              "15    -0.305186 -0.002552       1        1  29.986113\n",
              "3     -0.158881 -0.056935       2        1   7.674113\n",
              "6     -0.249512  0.132800       3        1   7.452903\n",
              "5     -0.139129  0.197640       4        1   6.960407\n",
              "1     -0.120077 -0.260672       5        1   6.640252\n",
              "17    -0.063916 -0.185930       6        1   4.445048\n",
              "7     -0.101046  0.201684       7        1   3.938327\n",
              "16    -0.023315 -0.100357       8        1   3.576874\n",
              "19     0.022479  0.035224       9        1   3.534257\n",
              "10    -0.001499  0.031215      10        1   3.342135\n",
              "11     0.065676 -0.088673      11        1   3.029192\n",
              "4      0.027274 -0.173890      12        1   2.962171\n",
              "2      0.092767  0.097879      13        1   2.563597\n",
              "13     0.102968  0.044807      14        1   2.533109\n",
              "8      0.153195  0.050748      15        1   2.500964\n",
              "18     0.087670 -0.031816      16        1   2.322963\n",
              "0      0.135877  0.032939      17        1   2.024522\n",
              "14     0.147344  0.043922      18        1   1.662423\n",
              "9      0.151866 -0.010587      19        1   1.449578\n",
              "12     0.175443  0.042555      20        1   1.401050, topic_info=        Term          Freq         Total Category  logprob  loglift\n",
              "206    write  10135.000000  10135.000000  Default  30.0000  30.0000\n",
              "180    would  12466.000000  12466.000000  Default  29.0000  29.0000\n",
              "21      line  10073.000000  10073.000000  Default  28.0000  28.0000\n",
              "29      post   7134.000000   7134.000000  Default  27.0000  27.0000\n",
              "42      year   3891.000000   3891.000000  Default  26.0000  26.0000\n",
              "...      ...           ...           ...      ...      ...      ...\n",
              "885    cover    204.637731    597.225139  Topic20  -4.3792   3.1969\n",
              "1089    wear    111.784853    190.343000  Topic20  -4.9839   3.7357\n",
              "935    light    152.586686    650.723833  Topic20  -4.6727   2.8176\n",
              "2585   screw     99.487795    205.086830  Topic20  -5.1004   3.5445\n",
              "319   street     83.619258    226.792342  Topic20  -5.2742   3.2702\n",
              "\n",
              "[995 rows x 6 columns], token_table=      Topic      Freq         Term\n",
              "term                              \n",
              "4293      2  0.998028   absolutely\n",
              "4538      9  0.995659  accelerator\n",
              "855       4  0.993479     accident\n",
              "3155      2  0.008544       accord\n",
              "3155      4  0.196512       accord\n",
              "...     ...       ...          ...\n",
              "42        4  0.059363         year\n",
              "42        7  0.050111         year\n",
              "42        9  0.490064         year\n",
              "42       13  0.026469         year\n",
              "42       14  0.003598         year\n",
              "\n",
              "[1610 rows x 3 columns], R=30, lambda_step=0.01, plot_opts={'xlab': 'PC1', 'ylab': 'PC2'}, topic_order=[16, 4, 7, 6, 2, 18, 8, 17, 20, 11, 12, 5, 3, 14, 9, 19, 1, 15, 10, 13])"
            ]
          },
          "metadata": {
            "tags": []
          },
          "execution_count": 17
        }
      ]
    },
    {
      "cell_type": "markdown",
      "metadata": {
        "id": "KRVXmWw0-PIx"
      },
      "source": [
        "## Conclusion\r\n",
        "We demonstrated how statistical modeling helps group the news . The codes can be generalized to many other tasks, aiming at discovering the abstract topics that occur in a collection of documents."
      ]
    }
  ]
}